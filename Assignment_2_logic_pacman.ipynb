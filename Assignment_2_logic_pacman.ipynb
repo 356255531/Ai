{
 "cells": [
  {
   "cell_type": "markdown",
   "metadata": {},
   "source": [
    "# Propositional Pacman"
   ]
  },
  {
   "cell_type": "markdown",
   "metadata": {},
   "source": [
    "In this exercise you are going to implement part of a propositional system for a Pacman Agent. Given the limitations of propositional logic, it is going to be a very simple system, but it should serve to illustrate the concept.\n",
    "\n",
    "The point of this exercise is to use propositional logic lo localize the ghost in a 4x4 map. This is made difficult by the fact that Pacman can not see further than one step in the grid, so he does not have access to the full state, but his perception only consists of \n",
    "\n",
    "- a chill when he is in a square adjacent to a ghost.\n",
    "\n",
    "For this exercise, we are only interesed in one single piece of information - that is, if it is safe for Pacman to move to the square (1, 2) based on the imformation he has already perceived. This information is represented in the state, which contains a label for each square of the grid, which is one of `C_i_j` if the square $(i, j)$ is chilly, `-C_i_j` if there was no chill, and `NV_i_j` if Pacman hasn't been there yet. This is an example state:\n",
    "\n",
    "```\n",
    "['-C_0_0',\n",
    " 'NV_0_1',\n",
    " 'NV_0_2',\n",
    " '-C_0_3',\n",
    " 'NV_1_0',\n",
    " 'C_1_1',\n",
    " 'NV_1_2',\n",
    " 'C_1_3',\n",
    " '-C_2_0',\n",
    " 'NV_2_1',\n",
    " 'C_2_2',\n",
    " '-C_2_3',\n",
    " '-C_3_0',\n",
    " 'NV_3_1',\n",
    " 'NV_3_2',\n",
    " '-C_3_3'] ```\n",
    "\n",
    "The state can be visualized rudimentarily with the `show_state` function given below - for this example state it looks like this:\n",
    "\n",
    "```\n",
    "[['0', '.', '.', '0'],\n",
    " ['.', 'C', 'G', 'C'],\n",
    " ['0', '.', 'C', '0'],\n",
    " ['0', '.', '.', '0']]\n",
    "```\n",
    "\n",
    "Please provide a function that, based on this state description, returns one of the labels `Safe_1_2`, `Unsafe_1_2` or `Ghost_1_2`, which tell if there cannot be a ghost, there could maybe be a ghost, or there certainly is a ghost, for the square (1, 2). \n",
    "In the example, the return value should be `Ghost_1_2`, because from the three chilly squares surrounding the target square, it is clear that the ghost has to be there.\n",
    "\n",
    "Your solution should work on  propositional level, i.e. you should not have to parse the positions out of the state symbols, but write rules that work on the state directly."
   ]
  },
  {
   "cell_type": "code",
   "execution_count": 24,
   "metadata": {
    "collapsed": false
   },
   "outputs": [
    {
     "data": {
      "application/javascript": [
       "IPython.notebook.set_autosave_interval(0)"
      ]
     },
     "metadata": {},
     "output_type": "display_data"
    },
    {
     "name": "stdout",
     "output_type": "stream",
     "text": [
      "Autosave disabled\n",
      "C\n"
     ]
    }
   ],
   "source": [
    "%autosave 0\n",
    "import pprint\n",
    "def show_state(state, ghost_pos=None):\n",
    "    \"\"\"Show the state graphically, and the position of the ghost, if it is known\"\"\"\n",
    "    chars = {'C': 'C', \n",
    "             '-C': '0',\n",
    "             'NV': '.'}\n",
    "    \n",
    "    ss = [range(4) for _ in range(4)]\n",
    "    for s in state:\n",
    "        c, i, j = s.split('_')\n",
    "        ss[int(i)][int(j)] = chars[c]\n",
    "    if ghost_pos:\n",
    "        ss[ghost_pos[0]][ghost_pos[1]] = 'G'\n",
    "\n",
    "    pprint.pprint(ss)"
   ]
  },
  {
   "cell_type": "code",
   "execution_count": null,
   "metadata": {
    "collapsed": false
   },
   "outputs": [],
   "source": [
    "import math\n",
    "def is_1_2_safe(state):\n",
    "    \"\"\"a function that determines in a propositional way if it safe to move to the (1, 2) square.\"\"\"\n",
    "    stateSqrtLen = len(state)\n",
    "    stateSqrtLen = int(math.sqrt(stateSqrtLen))\n",
    "    circleInd = ['u', 'l']\n",
    "    circle = {'u': state[2].split('_')[0],\n",
    "              'l': state[stateSqrtLen + 1].split('_')[0]}\n",
    "    if 1 < stateSqrtLen - 1:\n",
    "        circleInd.append('d')\n",
    "        circle['d'] = state[stateSqrtLen * 2 + 2].split('_')[0]\n",
    "    if 2 < stateSqrtLen - 1:\n",
    "        circleInd.append('r')\n",
    "        circle['r'] = state[stateSqrtLen + 3].split('_')[0]\n",
    "\n",
    "    if state[stateSqrtLen + 2].split('_')[0] != 'NV':\n",
    "        return 'Safe_1_2'\n",
    "\n",
    "    for s in circleInd:\n",
    "        if circle[s] == '-C':\n",
    "            return 'Safe_1_2'\n",
    "\n",
    "    setUnsafe = set()\n",
    "    setSafe = set()\n",
    "    for i in xrange(stateSqrtLen):\n",
    "        for j in xrange(stateSqrtLen):\n",
    "            if state[i * stateSqrtLen + j].split('_')[0] != 'NV':\n",
    "                setSafe.add((i, j))\n",
    "            if state[i * stateSqrtLen + j].split('_')[0] == '-C':\n",
    "                if i > 0:\n",
    "                    setSafe.add((i - 1, j))\n",
    "                if i < stateSqrtLen - 1:\n",
    "                    setSafe.add((i + 1, j))\n",
    "                if j > 0:\n",
    "                    setSafe.add((i, j - 1))\n",
    "                if j < stateSqrtLen - 1:\n",
    "                    setSafe.add((i, j + 1))\n",
    "            newSet = set()\n",
    "            if state[i * stateSqrtLen + j].split('_')[0] == 'C':\n",
    "                if i > 0:\n",
    "                    newSet.add((i - 1, j))\n",
    "                if i < stateSqrtLen - 1:\n",
    "                    newSet.add((i + 1, j))\n",
    "                if j > 0:\n",
    "                    newSet.add((i, j - 1))\n",
    "                if j < stateSqrtLen:\n",
    "                    newSet.add((i, j + 1))\n",
    "                if len(setUnsafe) == 0:\n",
    "                    setUnsafe = newSet\n",
    "                else:\n",
    "                    setUnsafe = setUnsafe & newSet\n",
    "            else:\n",
    "                continue\n",
    "    for i in list(setUnsafe & setSafe):\n",
    "        setUnsafe.remove(i)\n",
    "    if(len(setUnsafe) == 1) and (setUnsafe == {(1, 2)}):\n",
    "        return 'Ghost_1_2'\n",
    "    if(len(setUnsafe) == 0) or ((1, 2) in setUnsafe):\n",
    "        return 'Unsafe_1_2'\n",
    "    return 'Safe_1_2'"
   ]
  },
  {
   "cell_type": "code",
   "execution_count": null,
   "metadata": {
    "collapsed": true
   },
   "outputs": [],
   "source": []
  }
 ],
 "metadata": {
  "kernelspec": {
   "display_name": "Python 2",
   "language": "python",
   "name": "python2"
  },
  "language_info": {
   "codemirror_mode": {
    "name": "ipython",
    "version": 2
   },
   "file_extension": ".py",
   "mimetype": "text/x-python",
   "name": "python",
   "nbconvert_exporter": "python",
   "pygments_lexer": "ipython2",
   "version": "2.7.9"
  },
  "name": "Assignment_2_logic_pacman"
 },
 "nbformat": 4,
 "nbformat_minor": 0
}