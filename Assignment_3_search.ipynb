{
 "cells": [
  {
   "cell_type": "markdown",
   "metadata": {},
   "source": [
    "# Search Algorithms"
   ]
  },
  {
   "cell_type": "markdown",
   "metadata": {},
   "source": [
    "In this exercise, you will help Pacman solve various tasks by implementing search algorithms. These exercises are adapted from the [UC Berkeley cource on AI](http://ai.berkeley.edu/project_overview.html). You are welcome to also check the descriptions of the problems given there. The underlying code is mostly the same, except for small modifications for running in the notebook.\n",
    "\n",
    "This is the license of the code, for completeness:"
   ]
  },
  {
   "cell_type": "raw",
   "metadata": {},
   "source": [
    "# Licensing Information:  You are free to use or extend these projects for\n",
    "# educational purposes provided that (1) you do not distribute or publish\n",
    "# solutions, (2) you retain this notice, and (3) you provide clear\n",
    "# attribution to UC Berkeley, including a link to\n",
    "# http://inst.eecs.berkeley.edu/~cs188/pacman/pacman.html\n",
    "#\n",
    "# Attribution Information: The Pacman AI projects were developed at UC Berkeley.\n",
    "# The core projects and autograders were primarily created by John DeNero\n",
    "# (denero@cs.berkeley.edu) and Dan Klein (klein@cs.berkeley.edu).\n",
    "# Student side autograding was added by Brad Miller, Nick Hay, and\n",
    "# Pieter Abbeel (pabbeel@cs.berkeley.edu)."
   ]
  },
  {
   "cell_type": "markdown",
   "metadata": {},
   "source": [
    "### Before you start coding your algorithms we strongly recommend you to: \n",
    "\n",
    "- read through the whole assignment first as some of the search algorithms will be used for the second part of the assignment.\n",
    "- be aware that you can always test your code with the provided test cases before submitting.\n",
    "- get familiar with the provided data types and try to use them within your algorithms. We provided a separate notebook file to give you a short introduction to them.\n",
    "- check the python tutorial for the proper use of standard data types within python to prevent relatively easy errors."
   ]
  },
  {
   "cell_type": "markdown",
   "metadata": {},
   "source": [
    "## Setting up the game"
   ]
  },
  {
   "cell_type": "markdown",
   "metadata": {},
   "source": [
    "The general way to set up a pacman game is shown below. First, a few imports from the `pac` package that contains all the necessary modules are needed (Do **not** modify this part!). "
   ]
  },
  {
   "cell_type": "code",
   "execution_count": 1,
   "metadata": {
    "collapsed": false
   },
   "outputs": [
    {
     "data": {
      "application/javascript": [
       "IPython.notebook.set_autosave_interval(0)"
      ]
     },
     "metadata": {},
     "output_type": "display_data"
    },
    {
     "name": "stdout",
     "output_type": "stream",
     "text": [
      "Autosave disabled\n"
     ]
    }
   ],
   "source": [
    "import pac\n",
    "\n",
    "from pac import util\n",
    "from pac import search\n",
    "from pac import layout\n",
    "from pac import pacman\n",
    "\n",
    "from pac.searchAgents import SearchAgent\n",
    "from pac.searchAgents import PositionSearchProblem\n",
    "\n",
    "from pac.game import Actions, Directions\n",
    "from pac.pacman_utils import NotebookGraphics\n",
    "%autosave 0\n",
    "\n",
    "rules = pacman.ClassicGameRules(timeout=0)  "
   ]
  },
  {
   "cell_type": "markdown",
   "metadata": {},
   "source": [
    "## Running the game\n",
    "\n",
    "This is an example where Pacman plays against two ghosts.\n",
    "You can copy it into a new cell and it will run a game.\n",
    "What the single lines do will be discussed below:\n",
    "\n",
    "```python\n",
    "rules = pac.pacman.ClassicGameRules(0)\n",
    "\n",
    "from pac.pacmanAgents import GreedyAgent\n",
    "mr_pacman = GreedyAgent()  # controls the pacman behavior\n",
    "\n",
    "from pac.ghostAgents import RandomGhost\n",
    "ghosts = [RandomGhost(1), RandomGhost(2)]  # controls the behavior of two ghosts\n",
    "\n",
    "gameDisplay = NotebookGraphics()  # initialize the display of the playing field\n",
    "\n",
    "lay = layout.getLayout('mediumClassic')  # load the layout of the map\n",
    "\n",
    "game = rules.newGame(lay, mr_pacman, ghosts, gameDisplay, False, False)  # instantiate a Game instance, see below\n",
    "game.run()  # run the game, until Pacman is caught by a ghost or there is no food left\n",
    "```\n",
    "\n",
    "### Layouts \n",
    "\n",
    "Layouts encode the map on which Pacman moves.\n",
    "You can load different layouts with a call to \n",
    "\n",
    "```python\n",
    "mylayout = layout.getLayout(layout_name)\n",
    "```\n",
    "\n",
    "Important layouts for the first part of this assignment are `tinyMaze`, `mediumMaze`, `bigMaze`, and `openMaze`.\n",
    "\n",
    "### The Search Agent\n",
    "\n",
    "The behavior of all characters in the game is controlled by an `Agent` class instance, such as the `GreedyAgent` or `RandomAgent` above.\n",
    "In this assignment, the `SearchAgent` class will serve as a container for the algorithms you will implement. It needs a search function and the definition of the problem to be solved (how the search states are generated, etc.).\n",
    "These are passed as arguments  `fn` and `prob` to the constructor of the `SearchAgent`.\n",
    "\n",
    "```python\n",
    "search_agent = SearchAgent(fn=some_search_function, prob=AProblemClass)\n",
    "```\n",
    "\n",
    "### The position search problem\n",
    "\n",
    "The goal of the first part of this exercise is to implement and compare different search algorithms.\n",
    "They are all used to get Pacman from a start position to a goal in a typical Pacman world.\n",
    "The definition of the search space, in which this problem should be solved, is given as a `PositionSearchProblem` instance. "
   ]
  },
  {
   "cell_type": "markdown",
   "metadata": {},
   "source": [
    "Here is an example of a very simple, deterministic search function that just returns a hardcoded sets of directions, and solves the search problem for the `tinyMaze` layout (but not any other, of course):"
   ]
  },
  {
   "cell_type": "code",
   "execution_count": 2,
   "metadata": {
    "collapsed": false
   },
   "outputs": [],
   "source": [
    "def tinyMazeSearch(problem):\n",
    "    \"\"\"\n",
    "    Returns a sequence of moves that solves tinyMaze.  For any other\n",
    "    maze, the sequence of moves will be incorrect, so only use this for tinyMaze\n",
    "    \"\"\"\n",
    "    from pac.game import Directions\n",
    "    s = Directions.SOUTH\n",
    "    w = Directions.WEST\n",
    "    return  [s, s, w, s, w, w, s, w]"
   ]
  },
  {
   "cell_type": "markdown",
   "metadata": {},
   "source": [
    "The search functions receive a `problem` variable as an argument, which has several methods that can be called by your code to get all relevant information.\n",
    "This is an example how to retrieve the start state from a search problem and how to check if the start state is already also a goal state:\n",
    "\n",
    "```\n",
    "start_state = problem.getStartState()\n",
    "check_goal = problem.isGoalState(start_state)\n",
    "```\n",
    "\n",
    "The states that are reachable in a single step from the state can be retrieved with:\n",
    "\n",
    "```\n",
    "successors = problem.getSuccessors(start_state)\n",
    "```\n",
    "\n",
    "This returns a list of `(successor_state, action, cost)` tuples, where `action` is the `Action` that transitions from  `start_state` to `successor_state`, and `cost` is the cost of taking that action.\n",
    "\n",
    "Note that the state representation for search problems is not limited to the space of positions on a board, as in the Pacman problem. \n",
    "States can be anything, positions, abstract symbols, or higher-dimensional objects.\n",
    "You will design a state representation for a different problem in the second part of this exercise.\n",
    "\n",
    "The **return value** of a search function is, as in the `tinyMazeSearch` example above, a sequence of `Actions`, as you get from the `getSucessors` method above."
   ]
  },
  {
   "cell_type": "markdown",
   "metadata": {},
   "source": [
    "\n",
    "For experimenting with the state and problem representations used in the search functions directly in a notebook cell outside of a search function, you can get a `problem` instance such as the one passed as an argument to the search functions like so:\n",
    "\n",
    "```\n",
    "sa = SearchAgent(prob=PositionSearchProblem)  # no search function given here, this Agent is just for experimenting!\n",
    "lay = layout.getLayout('mediumClassic')\n",
    "game = rules.newGame(lay, sa, [], None, False, False)\n",
    "problem = sa.searchType(game.state)\n",
    "successors = problem.getStartState()\n",
    "print(successors)\n",
    "```\n",
    "\n",
    "This you can also use to run your search function on a problem with a given layout, to get the corresponding path:\n",
    "```\n",
    "tinyMazeSearch(problem)\n",
    "```"
   ]
  },
  {
   "cell_type": "markdown",
   "metadata": {},
   "source": [
    "### Visualization and running the game\n",
    "\n",
    "The call `gameDisplay = NotebookGraphics(sleep_time=0.2)` initializes a visualization of the Pacman playing field that can be shown inside the notebook. \n",
    "The playing field will always be displayed in the cell where the `NotebookGraphics` instance is created, even if the game is run in a different cell.\n",
    "The speed of the game is regulated by setting the `sleep_time` parameter in the `NotebookGraphics` class constructor.\n",
    "\n",
    "The game is started by calling the `run` method on a `Game` instance. \n",
    "There might be some JavaScript errors that you can ignore as long as the game runs (JavaScript programmers who can fix this are very welcome to do so!). \n"
   ]
  },
  {
   "cell_type": "code",
   "execution_count": 3,
   "metadata": {
    "collapsed": false
   },
   "outputs": [
    {
     "data": {
      "application/javascript": [
       "\n",
       "\n",
       "(function(window) {\n",
       "    function setupCanvas(width, height) {\n",
       "\n",
       "        var canvas = $('#myCanvas')[0];\n",
       "        if (!(canvas===undefined)) {\n",
       "            console.log('deleting canvas');\n",
       "            canvas.parentElement.removeChild(canvas);\n",
       "        }\n",
       "        element.html(\"<canvas width=\"+width+\" height=\"+height+\" id='myCanvas'></canvas>\");\n",
       "        container.show();\n",
       "    }\n",
       "\n",
       "    var Game;\n",
       "    var intervalId;\n",
       "    function initGame(width, height, obj) {\n",
       "        require([\"../static/GameReduced.js\"], function(GGame) {\n",
       "            Game = GGame;\n",
       "            Game.setCanvas();\n",
       "            Game.initCanvas(width, height);\n",
       "            Game.setMaze(obj);\n",
       "        });\n",
       "    };\n",
       "    function setBeans(b) {\n",
       "        Game.setBeans(b);\n",
       "    };\n",
       "    function setPowerBeans(b) {\n",
       "        Game.setPowerBeans(b);\n",
       "    };\n",
       "    function placePac(x, y, d) {Game.placePacman(x, y, d);};\n",
       "    function placeGhost(i, x, y, c, d, s, b) {Game.placeGhost(i, x, y, c, d, s, b);};\n",
       "\n",
       "    function start() {Game.initMaze(); Game.startGame();};\n",
       "    function stop() {Game.stopGame()};\n",
       "\n",
       "    function rb(x, y) {Game.removeBean(x, y);};\n",
       "    window.GameModule = {\n",
       "        initGame: function (width, height, obj) {\n",
       "            initGame(width, height, obj);\n",
       "        },\n",
       "        setupCanvas: function(w, h){ setupCanvas(w, h); },\n",
       "        setBeans: function(b){ setBeans(b); },\n",
       "        setPowerBeans: function(b){ setPowerBeans(b); },\n",
       "        placePacman: function(x, y, d) {placePac(x, y, d);},\n",
       "        placeGhost: function(i, x, y, c, d, s, b) {placeGhost(i, x, y, c, d, s ,b);},\n",
       "        startGame: function() {start();},\n",
       "        stopGame: function() {stop();},\n",
       "        removeBean: function(x, y) {rb(x, y);}\n",
       "    }\n",
       "})(window);\n",
       "\n"
      ],
      "text/plain": [
       "<IPython.core.display.Javascript object>"
      ]
     },
     "metadata": {},
     "output_type": "display_data"
    },
    {
     "data": {
      "application/javascript": [
       "window.GameModule.setupCanvas(210, 210)"
      ],
      "text/plain": [
       "<IPython.core.display.Javascript object>"
      ]
     },
     "metadata": {},
     "output_type": "display_data"
    },
    {
     "data": {
      "application/javascript": [
       "window.GameModule.initGame(210, 210, [[0, 8, 8, 8, 8, 8, 0], [4, 3, 10, 10, 10, 6, 1], [4, 5, 11, 2, 14, 5, 1], [4, 9, 6, 13, 3, 12, 1], [4, 14, 1, 10, 12, 3, 1], [4, 11, 12, 3, 2, 0, 1], [0, 2, 2, 2, 2, 2, 0]]);"
      ],
      "text/plain": [
       "<IPython.core.display.Javascript object>"
      ]
     },
     "metadata": {},
     "output_type": "display_data"
    },
    {
     "data": {
      "application/javascript": [
       "\n",
       "    window.GameModule.setBeans(JSON.parse(\"[[1, 5]]\"));\n",
       "    window.GameModule.setPowerBeans(JSON.parse(\"[]\"));\n",
       "    "
      ],
      "text/plain": [
       "<IPython.core.display.Javascript object>"
      ]
     },
     "metadata": {},
     "output_type": "display_data"
    },
    {
     "data": {
      "application/javascript": [
       "window.GameModule.placePacman(165, 45, 1)"
      ],
      "text/plain": [
       "<IPython.core.display.Javascript object>"
      ]
     },
     "metadata": {},
     "output_type": "display_data"
    },
    {
     "data": {
      "application/javascript": [
       "window.GameModule.startGame()"
      ],
      "text/plain": [
       "<IPython.core.display.Javascript object>"
      ]
     },
     "metadata": {},
     "output_type": "display_data"
    },
    {
     "name": "stdout",
     "output_type": "stream",
     "text": [
      "Path found with total cost of 8 in 0.0 seconds\n",
      "Search nodes expanded: 0\n"
     ]
    },
    {
     "data": {
      "application/javascript": [
       "window.GameModule.placePacman(165, 75, 2)"
      ],
      "text/plain": [
       "<IPython.core.display.Javascript object>"
      ]
     },
     "metadata": {},
     "output_type": "display_data"
    },
    {
     "data": {
      "application/javascript": [
       "window.GameModule.placePacman(165, 105, 2)"
      ],
      "text/plain": [
       "<IPython.core.display.Javascript object>"
      ]
     },
     "metadata": {},
     "output_type": "display_data"
    },
    {
     "data": {
      "application/javascript": [
       "window.GameModule.placePacman(135, 105, 3)"
      ],
      "text/plain": [
       "<IPython.core.display.Javascript object>"
      ]
     },
     "metadata": {},
     "output_type": "display_data"
    },
    {
     "data": {
      "application/javascript": [
       "window.GameModule.placePacman(135, 135, 2)"
      ],
      "text/plain": [
       "<IPython.core.display.Javascript object>"
      ]
     },
     "metadata": {},
     "output_type": "display_data"
    },
    {
     "data": {
      "application/javascript": [
       "window.GameModule.placePacman(105, 135, 3)"
      ],
      "text/plain": [
       "<IPython.core.display.Javascript object>"
      ]
     },
     "metadata": {},
     "output_type": "display_data"
    },
    {
     "data": {
      "application/javascript": [
       "window.GameModule.placePacman(75, 135, 3)"
      ],
      "text/plain": [
       "<IPython.core.display.Javascript object>"
      ]
     },
     "metadata": {},
     "output_type": "display_data"
    },
    {
     "data": {
      "application/javascript": [
       "window.GameModule.placePacman(75, 165, 2)"
      ],
      "text/plain": [
       "<IPython.core.display.Javascript object>"
      ]
     },
     "metadata": {},
     "output_type": "display_data"
    },
    {
     "data": {
      "application/javascript": [
       "window.GameModule.placePacman(45, 165, 3)"
      ],
      "text/plain": [
       "<IPython.core.display.Javascript object>"
      ]
     },
     "metadata": {},
     "output_type": "display_data"
    },
    {
     "data": {
      "application/javascript": [
       "window.GameModule.removeBean(1, 5);"
      ],
      "text/plain": [
       "<IPython.core.display.Javascript object>"
      ]
     },
     "metadata": {},
     "output_type": "display_data"
    },
    {
     "name": "stdout",
     "output_type": "stream",
     "text": [
      "Pacman emerges victorious! Score: 502\n"
     ]
    },
    {
     "data": {
      "application/javascript": [
       "window.GameModule.stopGame();"
      ],
      "text/plain": [
       "<IPython.core.display.Javascript object>"
      ]
     },
     "metadata": {},
     "output_type": "display_data"
    }
   ],
   "source": [
    "tiny_maze_layout = layout.getLayout('tinyMaze')  # load the layout of the map\n",
    "\n",
    "sa = SearchAgent(fn=tinyMazeSearch, prob=PositionSearchProblem)\n",
    "gameDisplay = NotebookGraphics(sleep_time=0.2)  # visualization\n",
    "game = rules.newGame(tiny_maze_layout, sa, [], gameDisplay, False, False)\n",
    "game.run()"
   ]
  },
  {
   "cell_type": "markdown",
   "metadata": {},
   "source": [
    "You can stop the game while it is running by interrupting the ipython kernel, which you can do either using the menu above or by pressing `Escape` to get into command mode and then the letter `i` twice. (By the way: You can see all keyboard shortcuts the notebook offers if you press `h` in command mode.)\n"
   ]
  },
  {
   "cell_type": "markdown",
   "metadata": {},
   "source": [
    "### Data types\n",
    "\n",
    "For the implementation of the search algorithms, you can use the simple data types `Stack`, `Queue` and `PriorityQueue` from the `pac.util` module provided for this, or you can use your own types. You can get more information about the provided data types by using the question mark to get documentation, as for all other objects of interest.\n"
   ]
  },
  {
   "cell_type": "code",
   "execution_count": 4,
   "metadata": {
    "collapsed": false
   },
   "outputs": [],
   "source": [
    "from pac.util import Queue, Stack, PriorityQueue"
   ]
  },
  {
   "cell_type": "markdown",
   "metadata": {},
   "source": [
    "## Depth First Search [6 Points]"
   ]
  },
  {
   "cell_type": "markdown",
   "metadata": {},
   "source": [
    "Implement depth first search for an **arbitrary** problem. Note that not only the sequence of actions that is returned has to be correct, also the **nodes have to expanded in the correct order**, as it is described by the depth-first search paradigm. A node is counted as expanded when you call the `getSucessors` method with it as an argument. For example, expanding a node twice will lead to a program execution that is not correct.\n",
    "\n",
    "Note also that the path that is returned is also a result of the order the search algorithm expands the nodes.\n",
    "In order to retrieve the correct path, you have to keep track of how the search algorithm arrived at each node.\n",
    "\n",
    "As a starting hint, we recommend to get familiar with the provided data types `Stack`, `Queue` and `PriorityQueue` before starting with implementing any code. In addition, you **should not hard-code state representation such as `(1, 1)` and actions, e.g. \"North\" or \"East\"** into your algorithm. Your submission will be checked on arbitrary problems with **a different state and action representation**, so your implementation must be independent from this. In addition, please read through the second half of the assignment first, to see the requirements of your algorithms.\n",
    "\n",
    "Also, make sure you implement **iterative** versions of the search algorithms. Although they can be implemented in a recursive fashion, this is more error-prone and very hard to debug. In addition, python does not optimize recursions and has a hard limit on recursion level that might be exceeded.\n",
    "\n",
    "While working on the implementation for the search algorithms, it might happen that you create an infinite loop. \n",
    "To prevent this, it could be a good idea to put a maximum to the iterations you allow the algorithm to perform.\n",
    "If an infinite loop occurs nevertheless, you can try to restart the ipython kernel (`Escape - i - i`) and/or close and reopen the browser tab."
   ]
  },
  {
   "cell_type": "code",
   "execution_count": 5,
   "metadata": {
    "collapsed": false
   },
   "outputs": [],
   "source": [
    "def depthFirstSearch(problem):\n",
    "    \"\"\"\n",
    "    Search the deepest nodes in the search tree first\n",
    "\n",
    "    Your search algorithm needs to return a list of actions that reaches\n",
    "    the goal.  Make sure to implement a graph search algorithm.\n",
    "\n",
    "    To get started, you might want to try some of these simple commands to\n",
    "    understand the search problem that is being passed in:\n",
    "    \"\"\"\n",
    "#     print \"Start:\", problem.getStartState()\n",
    "#     print \"Is the start a goal?\", problem.isGoalState(problem.getStartState())\n",
    "#     print \"Start's successors:\", problem.getSuccessors(problem.getStartState())  # delete this later, otherwise the start state \n",
    "#                                                                                  # will count as expanded twice!\n",
    "\n",
    "#     print 'problem', problem\n",
    "    S = Stack()\n",
    "    # S.pop = (currentState, actionTocurrentState)\n",
    "    startState = problem.getStartState()\n",
    "    visitedList = []\n",
    "    successorDict = {}\n",
    "    S.push((startState, ''))\n",
    "    goalHasBeenFound = 0\n",
    "\n",
    "    while not(S.isEmpty()):\n",
    "        currentState, motion = S.pop()\n",
    "        visitedList.append(currentState)\n",
    "        S.push((currentState, motion))\n",
    "        if problem.isGoalState(currentState):\n",
    "            goalHasBeenFound = 1\n",
    "            break\n",
    "\n",
    "        ifBackTrack = True\n",
    "\n",
    "        if currentState in successorDict:\n",
    "            for i in list(successorDict[currentState]):\n",
    "                if list(i)[0] in visitedList:\n",
    "                    continue\n",
    "                else:\n",
    "                    S.push((list(i)[0], list(i)[1]))\n",
    "                    visitedList.append(list(i)[0])\n",
    "                    ifBackTrack = False\n",
    "                    break\n",
    "        else:\n",
    "            successorDict[currentState] = (problem.getSuccessors(currentState))\n",
    "            for i in list(successorDict[currentState]):\n",
    "                if list(i)[0] in visitedList:\n",
    "                    continue\n",
    "                else:\n",
    "                    S.push((list(i)[0], list(i)[1]))\n",
    "                    visitedList.append(list(i)[0])\n",
    "                    ifBackTrack = False\n",
    "                    break\n",
    "\n",
    "        if ifBackTrack:\n",
    "            S.pop()\n",
    "\n",
    "    if goalHasBeenFound == 1:\n",
    "        motion = []\n",
    "        while not(S.isEmpty()):\n",
    "            motion.append(list(S.pop())[1])\n",
    "        motion = [i for i in reversed(motion)]\n",
    "        return motion[1:]\n",
    "    else:\n",
    "        return[]"
   ]
  },
  {
   "cell_type": "markdown",
   "metadata": {},
   "source": [
    "You can test your code on a pacman map like this:"
   ]
  },
  {
   "cell_type": "code",
   "execution_count": 6,
   "metadata": {
    "collapsed": false
   },
   "outputs": [
    {
     "data": {
      "application/javascript": [
       "\n",
       "\n",
       "(function(window) {\n",
       "    function setupCanvas(width, height) {\n",
       "\n",
       "        var canvas = $('#myCanvas')[0];\n",
       "        if (!(canvas===undefined)) {\n",
       "            console.log('deleting canvas');\n",
       "            canvas.parentElement.removeChild(canvas);\n",
       "        }\n",
       "        element.html(\"<canvas width=\"+width+\" height=\"+height+\" id='myCanvas'></canvas>\");\n",
       "        container.show();\n",
       "    }\n",
       "\n",
       "    var Game;\n",
       "    var intervalId;\n",
       "    function initGame(width, height, obj) {\n",
       "        require([\"../static/GameReduced.js\"], function(GGame) {\n",
       "            Game = GGame;\n",
       "            Game.setCanvas();\n",
       "            Game.initCanvas(width, height);\n",
       "            Game.setMaze(obj);\n",
       "        });\n",
       "    };\n",
       "    function setBeans(b) {\n",
       "        Game.setBeans(b);\n",
       "    };\n",
       "    function setPowerBeans(b) {\n",
       "        Game.setPowerBeans(b);\n",
       "    };\n",
       "    function placePac(x, y, d) {Game.placePacman(x, y, d);};\n",
       "    function placeGhost(i, x, y, c, d, s, b) {Game.placeGhost(i, x, y, c, d, s, b);};\n",
       "\n",
       "    function start() {Game.initMaze(); Game.startGame();};\n",
       "    function stop() {Game.stopGame()};\n",
       "\n",
       "    function rb(x, y) {Game.removeBean(x, y);};\n",
       "    window.GameModule = {\n",
       "        initGame: function (width, height, obj) {\n",
       "            initGame(width, height, obj);\n",
       "        },\n",
       "        setupCanvas: function(w, h){ setupCanvas(w, h); },\n",
       "        setBeans: function(b){ setBeans(b); },\n",
       "        setPowerBeans: function(b){ setPowerBeans(b); },\n",
       "        placePacman: function(x, y, d) {placePac(x, y, d);},\n",
       "        placeGhost: function(i, x, y, c, d, s, b) {placeGhost(i, x, y, c, d, s ,b);},\n",
       "        startGame: function() {start();},\n",
       "        stopGame: function() {stop();},\n",
       "        removeBean: function(x, y) {rb(x, y);}\n",
       "    }\n",
       "})(window);\n",
       "\n"
      ],
      "text/plain": [
       "<IPython.core.display.Javascript object>"
      ]
     },
     "metadata": {},
     "output_type": "display_data"
    },
    {
     "data": {
      "application/javascript": [
       "window.GameModule.setupCanvas(210, 210)"
      ],
      "text/plain": [
       "<IPython.core.display.Javascript object>"
      ]
     },
     "metadata": {},
     "output_type": "display_data"
    },
    {
     "data": {
      "application/javascript": [
       "window.GameModule.initGame(210, 210, [[0, 8, 8, 8, 8, 8, 0], [4, 3, 10, 10, 10, 6, 1], [4, 5, 11, 2, 14, 5, 1], [4, 9, 6, 13, 3, 12, 1], [4, 14, 1, 10, 12, 3, 1], [4, 11, 12, 3, 2, 0, 1], [0, 2, 2, 2, 2, 2, 0]]);"
      ],
      "text/plain": [
       "<IPython.core.display.Javascript object>"
      ]
     },
     "metadata": {},
     "output_type": "display_data"
    },
    {
     "data": {
      "application/javascript": [
       "\n",
       "    window.GameModule.setBeans(JSON.parse(\"[[1, 5]]\"));\n",
       "    window.GameModule.setPowerBeans(JSON.parse(\"[]\"));\n",
       "    "
      ],
      "text/plain": [
       "<IPython.core.display.Javascript object>"
      ]
     },
     "metadata": {},
     "output_type": "display_data"
    },
    {
     "data": {
      "application/javascript": [
       "window.GameModule.placePacman(165, 45, 1)"
      ],
      "text/plain": [
       "<IPython.core.display.Javascript object>"
      ]
     },
     "metadata": {},
     "output_type": "display_data"
    },
    {
     "data": {
      "application/javascript": [
       "window.GameModule.startGame()"
      ],
      "text/plain": [
       "<IPython.core.display.Javascript object>"
      ]
     },
     "metadata": {},
     "output_type": "display_data"
    },
    {
     "name": "stdout",
     "output_type": "stream",
     "text": [
      "Path found with total cost of 8 in 0.0 seconds\n",
      "Search nodes expanded: 15\n"
     ]
    },
    {
     "data": {
      "application/javascript": [
       "window.GameModule.placePacman(165, 75, 2)"
      ],
      "text/plain": [
       "<IPython.core.display.Javascript object>"
      ]
     },
     "metadata": {},
     "output_type": "display_data"
    },
    {
     "data": {
      "application/javascript": [
       "window.GameModule.placePacman(165, 105, 2)"
      ],
      "text/plain": [
       "<IPython.core.display.Javascript object>"
      ]
     },
     "metadata": {},
     "output_type": "display_data"
    },
    {
     "data": {
      "application/javascript": [
       "window.GameModule.placePacman(135, 105, 3)"
      ],
      "text/plain": [
       "<IPython.core.display.Javascript object>"
      ]
     },
     "metadata": {},
     "output_type": "display_data"
    },
    {
     "data": {
      "application/javascript": [
       "window.GameModule.placePacman(135, 135, 2)"
      ],
      "text/plain": [
       "<IPython.core.display.Javascript object>"
      ]
     },
     "metadata": {},
     "output_type": "display_data"
    },
    {
     "data": {
      "application/javascript": [
       "window.GameModule.placePacman(105, 135, 3)"
      ],
      "text/plain": [
       "<IPython.core.display.Javascript object>"
      ]
     },
     "metadata": {},
     "output_type": "display_data"
    },
    {
     "data": {
      "application/javascript": [
       "window.GameModule.placePacman(75, 135, 3)"
      ],
      "text/plain": [
       "<IPython.core.display.Javascript object>"
      ]
     },
     "metadata": {},
     "output_type": "display_data"
    },
    {
     "data": {
      "application/javascript": [
       "window.GameModule.placePacman(75, 165, 2)"
      ],
      "text/plain": [
       "<IPython.core.display.Javascript object>"
      ]
     },
     "metadata": {},
     "output_type": "display_data"
    },
    {
     "data": {
      "application/javascript": [
       "window.GameModule.placePacman(45, 165, 3)"
      ],
      "text/plain": [
       "<IPython.core.display.Javascript object>"
      ]
     },
     "metadata": {},
     "output_type": "display_data"
    },
    {
     "data": {
      "application/javascript": [
       "window.GameModule.removeBean(1, 5);"
      ],
      "text/plain": [
       "<IPython.core.display.Javascript object>"
      ]
     },
     "metadata": {},
     "output_type": "display_data"
    },
    {
     "name": "stdout",
     "output_type": "stream",
     "text": [
      "Pacman emerges victorious! Score: 502\n"
     ]
    },
    {
     "data": {
      "application/javascript": [
       "window.GameModule.stopGame();"
      ],
      "text/plain": [
       "<IPython.core.display.Javascript object>"
      ]
     },
     "metadata": {},
     "output_type": "display_data"
    }
   ],
   "source": [
    "sa = SearchAgent(fn=depthFirstSearch, prob=PositionSearchProblem)\n",
    "gameDisplay = NotebookGraphics(sleep_time=0.2)  # visualization\n",
    "game = rules.newGame(tiny_maze_layout, sa, [], gameDisplay, False, False)\n",
    "game.run()"
   ]
  },
  {
   "cell_type": "markdown",
   "metadata": {},
   "source": [
    "## Breadth First Search [6 Points]"
   ]
  },
  {
   "cell_type": "markdown",
   "metadata": {},
   "source": [
    "Implement breadth first search. The same restrictions with respect to expanding states etc. as above apply. Note that you can probably reuse most of your depth-first search code; depending on your implementation you might only have to change one line in the body of the function."
   ]
  },
  {
   "cell_type": "code",
   "execution_count": 7,
   "metadata": {
    "collapsed": false,
    "scrolled": false
   },
   "outputs": [],
   "source": [
    "def breadthFirstSearch(problem):\n",
    "    startState = problem.getStartState()\n",
    "    if problem.isGoalState(startState):\n",
    "        return []\n",
    "\n",
    "    goalHasBeenFound = 0\n",
    "    adjListDic = {}\n",
    "    visitedList = []\n",
    "    # adjListDic[state] = (previousState, motion)\n",
    "\n",
    "    Q = Queue()\n",
    "    Q.push(('', startState, ''))\n",
    "    # Queue(state, nextState, motionToNextState)\n",
    "\n",
    "    while not(Q.isEmpty()):\n",
    "        previousState, currentState, motion = Q.pop()\n",
    "        if problem.isGoalState(currentState):\n",
    "            adjListDic[currentState] = (previousState, motion)\n",
    "            goalHasBeenFound = 1\n",
    "            break\n",
    "\n",
    "        if currentState in visitedList:\n",
    "            continue\n",
    "        else:\n",
    "            adjListDic[currentState] = (previousState, motion)\n",
    "            visitedList.append(currentState)\n",
    "\n",
    "        for x in problem.getSuccessors(currentState):\n",
    "            Q.push((currentState, list(x)[0], list(x)[1]))\n",
    "\n",
    "    if goalHasBeenFound == 1:\n",
    "        motion = []\n",
    "        while currentState != startState:\n",
    "            motion.append(list(adjListDic[currentState])[1])\n",
    "            currentState = list(adjListDic[currentState])[0]\n",
    "        motion = [i for i in reversed(motion)]\n",
    "        return motion\n",
    "    else:\n",
    "        return []"
   ]
  },
  {
   "cell_type": "markdown",
   "metadata": {},
   "source": [
    "As above, this code can be used to test breadth first search:"
   ]
  },
  {
   "cell_type": "code",
   "execution_count": 8,
   "metadata": {
    "collapsed": false
   },
   "outputs": [
    {
     "data": {
      "application/javascript": [
       "\n",
       "\n",
       "(function(window) {\n",
       "    function setupCanvas(width, height) {\n",
       "\n",
       "        var canvas = $('#myCanvas')[0];\n",
       "        if (!(canvas===undefined)) {\n",
       "            console.log('deleting canvas');\n",
       "            canvas.parentElement.removeChild(canvas);\n",
       "        }\n",
       "        element.html(\"<canvas width=\"+width+\" height=\"+height+\" id='myCanvas'></canvas>\");\n",
       "        container.show();\n",
       "    }\n",
       "\n",
       "    var Game;\n",
       "    var intervalId;\n",
       "    function initGame(width, height, obj) {\n",
       "        require([\"../static/GameReduced.js\"], function(GGame) {\n",
       "            Game = GGame;\n",
       "            Game.setCanvas();\n",
       "            Game.initCanvas(width, height);\n",
       "            Game.setMaze(obj);\n",
       "        });\n",
       "    };\n",
       "    function setBeans(b) {\n",
       "        Game.setBeans(b);\n",
       "    };\n",
       "    function setPowerBeans(b) {\n",
       "        Game.setPowerBeans(b);\n",
       "    };\n",
       "    function placePac(x, y, d) {Game.placePacman(x, y, d);};\n",
       "    function placeGhost(i, x, y, c, d, s, b) {Game.placeGhost(i, x, y, c, d, s, b);};\n",
       "\n",
       "    function start() {Game.initMaze(); Game.startGame();};\n",
       "    function stop() {Game.stopGame()};\n",
       "\n",
       "    function rb(x, y) {Game.removeBean(x, y);};\n",
       "    window.GameModule = {\n",
       "        initGame: function (width, height, obj) {\n",
       "            initGame(width, height, obj);\n",
       "        },\n",
       "        setupCanvas: function(w, h){ setupCanvas(w, h); },\n",
       "        setBeans: function(b){ setBeans(b); },\n",
       "        setPowerBeans: function(b){ setPowerBeans(b); },\n",
       "        placePacman: function(x, y, d) {placePac(x, y, d);},\n",
       "        placeGhost: function(i, x, y, c, d, s, b) {placeGhost(i, x, y, c, d, s ,b);},\n",
       "        startGame: function() {start();},\n",
       "        stopGame: function() {stop();},\n",
       "        removeBean: function(x, y) {rb(x, y);}\n",
       "    }\n",
       "})(window);\n",
       "\n"
      ],
      "text/plain": [
       "<IPython.core.display.Javascript object>"
      ]
     },
     "metadata": {},
     "output_type": "display_data"
    },
    {
     "data": {
      "application/javascript": [
       "window.GameModule.setupCanvas(210, 210)"
      ],
      "text/plain": [
       "<IPython.core.display.Javascript object>"
      ]
     },
     "metadata": {},
     "output_type": "display_data"
    },
    {
     "data": {
      "application/javascript": [
       "window.GameModule.initGame(210, 210, [[0, 8, 8, 8, 8, 8, 0], [4, 3, 10, 10, 10, 6, 1], [4, 5, 11, 2, 14, 5, 1], [4, 9, 6, 13, 3, 12, 1], [4, 14, 1, 10, 12, 3, 1], [4, 11, 12, 3, 2, 0, 1], [0, 2, 2, 2, 2, 2, 0]]);"
      ],
      "text/plain": [
       "<IPython.core.display.Javascript object>"
      ]
     },
     "metadata": {},
     "output_type": "display_data"
    },
    {
     "data": {
      "application/javascript": [
       "\n",
       "    window.GameModule.setBeans(JSON.parse(\"[[1, 5]]\"));\n",
       "    window.GameModule.setPowerBeans(JSON.parse(\"[]\"));\n",
       "    "
      ],
      "text/plain": [
       "<IPython.core.display.Javascript object>"
      ]
     },
     "metadata": {},
     "output_type": "display_data"
    },
    {
     "data": {
      "application/javascript": [
       "window.GameModule.placePacman(165, 45, 1)"
      ],
      "text/plain": [
       "<IPython.core.display.Javascript object>"
      ]
     },
     "metadata": {},
     "output_type": "display_data"
    },
    {
     "data": {
      "application/javascript": [
       "window.GameModule.startGame()"
      ],
      "text/plain": [
       "<IPython.core.display.Javascript object>"
      ]
     },
     "metadata": {},
     "output_type": "display_data"
    },
    {
     "name": "stdout",
     "output_type": "stream",
     "text": [
      "Path found with total cost of 8 in 0.0 seconds\n",
      "Search nodes expanded: 15\n"
     ]
    },
    {
     "data": {
      "application/javascript": [
       "window.GameModule.placePacman(165, 75, 2)"
      ],
      "text/plain": [
       "<IPython.core.display.Javascript object>"
      ]
     },
     "metadata": {},
     "output_type": "display_data"
    },
    {
     "data": {
      "application/javascript": [
       "window.GameModule.placePacman(165, 105, 2)"
      ],
      "text/plain": [
       "<IPython.core.display.Javascript object>"
      ]
     },
     "metadata": {},
     "output_type": "display_data"
    },
    {
     "data": {
      "application/javascript": [
       "window.GameModule.placePacman(135, 105, 3)"
      ],
      "text/plain": [
       "<IPython.core.display.Javascript object>"
      ]
     },
     "metadata": {},
     "output_type": "display_data"
    },
    {
     "data": {
      "application/javascript": [
       "window.GameModule.placePacman(135, 135, 2)"
      ],
      "text/plain": [
       "<IPython.core.display.Javascript object>"
      ]
     },
     "metadata": {},
     "output_type": "display_data"
    },
    {
     "data": {
      "application/javascript": [
       "window.GameModule.placePacman(105, 135, 3)"
      ],
      "text/plain": [
       "<IPython.core.display.Javascript object>"
      ]
     },
     "metadata": {},
     "output_type": "display_data"
    },
    {
     "data": {
      "application/javascript": [
       "window.GameModule.placePacman(75, 135, 3)"
      ],
      "text/plain": [
       "<IPython.core.display.Javascript object>"
      ]
     },
     "metadata": {},
     "output_type": "display_data"
    },
    {
     "data": {
      "application/javascript": [
       "window.GameModule.placePacman(75, 165, 2)"
      ],
      "text/plain": [
       "<IPython.core.display.Javascript object>"
      ]
     },
     "metadata": {},
     "output_type": "display_data"
    },
    {
     "data": {
      "application/javascript": [
       "window.GameModule.placePacman(45, 165, 3)"
      ],
      "text/plain": [
       "<IPython.core.display.Javascript object>"
      ]
     },
     "metadata": {},
     "output_type": "display_data"
    },
    {
     "data": {
      "application/javascript": [
       "window.GameModule.removeBean(1, 5);"
      ],
      "text/plain": [
       "<IPython.core.display.Javascript object>"
      ]
     },
     "metadata": {},
     "output_type": "display_data"
    },
    {
     "name": "stdout",
     "output_type": "stream",
     "text": [
      "Pacman emerges victorious! Score: 502\n"
     ]
    },
    {
     "data": {
      "application/javascript": [
       "window.GameModule.stopGame();"
      ],
      "text/plain": [
       "<IPython.core.display.Javascript object>"
      ]
     },
     "metadata": {},
     "output_type": "display_data"
    }
   ],
   "source": [
    "sa = SearchAgent(fn=breadthFirstSearch, prob=PositionSearchProblem)\n",
    "gameDisplay = NotebookGraphics(sleep_time=0.3)  # visualization\n",
    "game = rules.newGame(tiny_maze_layout, sa, [], gameDisplay, False, False)\n",
    "game.run()"
   ]
  },
  {
   "cell_type": "markdown",
   "metadata": {},
   "source": [
    "## Uniform Cost Search [6 Points]"
   ]
  },
  {
   "cell_type": "markdown",
   "metadata": {},
   "source": [
    "Implement uniform cost search, i.e. a search algorithm that expands the node with the lowest total path cost leading to it first. Again, the code should mostly be the same as in the other search functions."
   ]
  },
  {
   "cell_type": "code",
   "execution_count": 9,
   "metadata": {
    "collapsed": false
   },
   "outputs": [],
   "source": [
    "def uniformCostSearch(problem):\n",
    "    \"\"\"\n",
    "    Search the shallowest nodes in the search tree first, and return the corresponding path.\n",
    "    \"\"\"\n",
    "    startState = problem.getStartState()\n",
    "    if problem.isGoalState(startState):\n",
    "        return []\n",
    "\n",
    "    goalHasBeenFound = 0\n",
    "    adjListDic = {}\n",
    "    visitedList = []\n",
    "    # adjListDic[currentState] = (previousState, actionToCurrentState)\n",
    "\n",
    "    Q = PriorityQueue()\n",
    "    Q.push((startState, startState, '', 0), 0)\n",
    "\n",
    "    while not(Q.isEmpty()):\n",
    "        previousState, currentState, motion, cost = Q.pop()\n",
    "\n",
    "        if problem.isGoalState(currentState):\n",
    "            adjListDic[currentState] = (previousState, motion)\n",
    "            goalHasBeenFound = 1\n",
    "            break\n",
    "\n",
    "        if currentState in visitedList:\n",
    "            continue\n",
    "        else:\n",
    "            adjListDic[(currentState)] = (previousState, motion)\n",
    "            visitedList.append(currentState)\n",
    "\n",
    "        for i in problem.getSuccessors(currentState):\n",
    "            Q.push((currentState, list(i)[0], list(i)[1], cost + list(i)[2]), cost + list(i)[2])\n",
    "\n",
    "    if goalHasBeenFound == 1:\n",
    "        motion = []\n",
    "        while currentState != startState:\n",
    "            motion.append(list(adjListDic[currentState])[1])\n",
    "            currentState = list(adjListDic[currentState])[0]\n",
    "        motion = [i for i in reversed(motion)]\n",
    "        return motion\n",
    "    else:\n",
    "        return[]"
   ]
  },
  {
   "cell_type": "code",
   "execution_count": 10,
   "metadata": {
    "collapsed": false
   },
   "outputs": [
    {
     "data": {
      "application/javascript": [
       "\n",
       "\n",
       "(function(window) {\n",
       "    function setupCanvas(width, height) {\n",
       "\n",
       "        var canvas = $('#myCanvas')[0];\n",
       "        if (!(canvas===undefined)) {\n",
       "            console.log('deleting canvas');\n",
       "            canvas.parentElement.removeChild(canvas);\n",
       "        }\n",
       "        element.html(\"<canvas width=\"+width+\" height=\"+height+\" id='myCanvas'></canvas>\");\n",
       "        container.show();\n",
       "    }\n",
       "\n",
       "    var Game;\n",
       "    var intervalId;\n",
       "    function initGame(width, height, obj) {\n",
       "        require([\"../static/GameReduced.js\"], function(GGame) {\n",
       "            Game = GGame;\n",
       "            Game.setCanvas();\n",
       "            Game.initCanvas(width, height);\n",
       "            Game.setMaze(obj);\n",
       "        });\n",
       "    };\n",
       "    function setBeans(b) {\n",
       "        Game.setBeans(b);\n",
       "    };\n",
       "    function setPowerBeans(b) {\n",
       "        Game.setPowerBeans(b);\n",
       "    };\n",
       "    function placePac(x, y, d) {Game.placePacman(x, y, d);};\n",
       "    function placeGhost(i, x, y, c, d, s, b) {Game.placeGhost(i, x, y, c, d, s, b);};\n",
       "\n",
       "    function start() {Game.initMaze(); Game.startGame();};\n",
       "    function stop() {Game.stopGame()};\n",
       "\n",
       "    function rb(x, y) {Game.removeBean(x, y);};\n",
       "    window.GameModule = {\n",
       "        initGame: function (width, height, obj) {\n",
       "            initGame(width, height, obj);\n",
       "        },\n",
       "        setupCanvas: function(w, h){ setupCanvas(w, h); },\n",
       "        setBeans: function(b){ setBeans(b); },\n",
       "        setPowerBeans: function(b){ setPowerBeans(b); },\n",
       "        placePacman: function(x, y, d) {placePac(x, y, d);},\n",
       "        placeGhost: function(i, x, y, c, d, s, b) {placeGhost(i, x, y, c, d, s ,b);},\n",
       "        startGame: function() {start();},\n",
       "        stopGame: function() {stop();},\n",
       "        removeBean: function(x, y) {rb(x, y);}\n",
       "    }\n",
       "})(window);\n",
       "\n"
      ],
      "text/plain": [
       "<IPython.core.display.Javascript object>"
      ]
     },
     "metadata": {},
     "output_type": "display_data"
    },
    {
     "data": {
      "application/javascript": [
       "window.GameModule.setupCanvas(210, 210)"
      ],
      "text/plain": [
       "<IPython.core.display.Javascript object>"
      ]
     },
     "metadata": {},
     "output_type": "display_data"
    },
    {
     "data": {
      "application/javascript": [
       "window.GameModule.initGame(210, 210, [[0, 8, 8, 8, 8, 8, 0], [4, 3, 10, 10, 10, 6, 1], [4, 5, 11, 2, 14, 5, 1], [4, 9, 6, 13, 3, 12, 1], [4, 14, 1, 10, 12, 3, 1], [4, 11, 12, 3, 2, 0, 1], [0, 2, 2, 2, 2, 2, 0]]);"
      ],
      "text/plain": [
       "<IPython.core.display.Javascript object>"
      ]
     },
     "metadata": {},
     "output_type": "display_data"
    },
    {
     "data": {
      "application/javascript": [
       "\n",
       "    window.GameModule.setBeans(JSON.parse(\"[[1, 5]]\"));\n",
       "    window.GameModule.setPowerBeans(JSON.parse(\"[]\"));\n",
       "    "
      ],
      "text/plain": [
       "<IPython.core.display.Javascript object>"
      ]
     },
     "metadata": {},
     "output_type": "display_data"
    },
    {
     "data": {
      "application/javascript": [
       "window.GameModule.placePacman(165, 45, 1)"
      ],
      "text/plain": [
       "<IPython.core.display.Javascript object>"
      ]
     },
     "metadata": {},
     "output_type": "display_data"
    },
    {
     "data": {
      "application/javascript": [
       "window.GameModule.startGame()"
      ],
      "text/plain": [
       "<IPython.core.display.Javascript object>"
      ]
     },
     "metadata": {},
     "output_type": "display_data"
    },
    {
     "name": "stdout",
     "output_type": "stream",
     "text": [
      "Path found with total cost of 8 in 0.0 seconds\n",
      "Search nodes expanded: 15\n"
     ]
    },
    {
     "data": {
      "application/javascript": [
       "window.GameModule.placePacman(165, 75, 2)"
      ],
      "text/plain": [
       "<IPython.core.display.Javascript object>"
      ]
     },
     "metadata": {},
     "output_type": "display_data"
    },
    {
     "data": {
      "application/javascript": [
       "window.GameModule.placePacman(165, 105, 2)"
      ],
      "text/plain": [
       "<IPython.core.display.Javascript object>"
      ]
     },
     "metadata": {},
     "output_type": "display_data"
    },
    {
     "data": {
      "application/javascript": [
       "window.GameModule.placePacman(135, 105, 3)"
      ],
      "text/plain": [
       "<IPython.core.display.Javascript object>"
      ]
     },
     "metadata": {},
     "output_type": "display_data"
    },
    {
     "data": {
      "application/javascript": [
       "window.GameModule.placePacman(135, 135, 2)"
      ],
      "text/plain": [
       "<IPython.core.display.Javascript object>"
      ]
     },
     "metadata": {},
     "output_type": "display_data"
    },
    {
     "data": {
      "application/javascript": [
       "window.GameModule.placePacman(105, 135, 3)"
      ],
      "text/plain": [
       "<IPython.core.display.Javascript object>"
      ]
     },
     "metadata": {},
     "output_type": "display_data"
    },
    {
     "data": {
      "application/javascript": [
       "window.GameModule.placePacman(75, 135, 3)"
      ],
      "text/plain": [
       "<IPython.core.display.Javascript object>"
      ]
     },
     "metadata": {},
     "output_type": "display_data"
    },
    {
     "data": {
      "application/javascript": [
       "window.GameModule.placePacman(75, 165, 2)"
      ],
      "text/plain": [
       "<IPython.core.display.Javascript object>"
      ]
     },
     "metadata": {},
     "output_type": "display_data"
    },
    {
     "data": {
      "application/javascript": [
       "window.GameModule.placePacman(45, 165, 3)"
      ],
      "text/plain": [
       "<IPython.core.display.Javascript object>"
      ]
     },
     "metadata": {},
     "output_type": "display_data"
    },
    {
     "data": {
      "application/javascript": [
       "window.GameModule.removeBean(1, 5);"
      ],
      "text/plain": [
       "<IPython.core.display.Javascript object>"
      ]
     },
     "metadata": {},
     "output_type": "display_data"
    },
    {
     "name": "stdout",
     "output_type": "stream",
     "text": [
      "Pacman emerges victorious! Score: 502\n"
     ]
    },
    {
     "data": {
      "application/javascript": [
       "window.GameModule.stopGame();"
      ],
      "text/plain": [
       "<IPython.core.display.Javascript object>"
      ]
     },
     "metadata": {},
     "output_type": "display_data"
    }
   ],
   "source": [
    "sa = SearchAgent(fn=uniformCostSearch, prob=PositionSearchProblem)\n",
    "gameDisplay = NotebookGraphics(sleep_time=0.01)  # visualization\n",
    "game = rules.newGame(tiny_maze_layout, sa, [], gameDisplay, False, False)\n",
    "game.run()"
   ]
  },
  {
   "cell_type": "markdown",
   "metadata": {},
   "source": [
    "## A\\* Search [9 Points]"
   ]
  },
  {
   "cell_type": "markdown",
   "metadata": {},
   "source": [
    "Implement A\\* graph search in the empty function aStarSearch below. A\\* takes a `heuristic` function as an argument. Heuristics take two arguments: a `state` in the search problem (the main argument), and the `problem` itself (for reference information). The `nullHeuristic` heuristic function is given below."
   ]
  },
  {
   "cell_type": "code",
   "execution_count": 11,
   "metadata": {
    "collapsed": false
   },
   "outputs": [],
   "source": [
    "def nullHeuristic(state, problem=None):\n",
    "    \"\"\"\n",
    "    A heuristic function estimates the cost from the current state to the nearest\n",
    "    goal in the provided SearchProblem.  This heuristic is trivial.\n",
    "    \"\"\"\n",
    "    return 0"
   ]
  },
  {
   "cell_type": "code",
   "execution_count": 12,
   "metadata": {
    "collapsed": false,
    "scrolled": true
   },
   "outputs": [],
   "source": [
    "def aStarSearch(problem, heuristic=nullHeuristic):\n",
    "    \"Search the node that has the lowest combined cost and heuristic first.\"\n",
    "    startState = problem.getStartState()\n",
    "    closedSet = {}\n",
    "    openSet = {}\n",
    "    openSet[startState] = (heuristic(startState, problem), 0)\n",
    "    fatherVertex = {}\n",
    "\n",
    "    def reconstruct_path(fatherVertex, state, startState):\n",
    "        motion = []\n",
    "        while state != startState:\n",
    "            motion.append(list(fatherVertex[state])[1])\n",
    "            state = list(fatherVertex[state])[0]\n",
    "        motion = [i for i in reversed(motion)]\n",
    "        return motion\n",
    "\n",
    "    while bool(openSet):\n",
    "        currentState = min(openSet, key=openSet.get)\n",
    "        if problem.isGoalState(currentState):\n",
    "            return reconstruct_path(fatherVertex, currentState, startState)\n",
    "\n",
    "        closedSet[currentState] = openSet[currentState]\n",
    "        del openSet[currentState]\n",
    "\n",
    "        for i in problem.getSuccessors(currentState):\n",
    "            if list(i)[0] in closedSet:\n",
    "                continue\n",
    "            distBtCurNei = list(i)[2]\n",
    "            potentialGValueNeib = list(closedSet[currentState])[1] + distBtCurNei\n",
    "            if list(i)[0] in openSet:\n",
    "                if potentialGValueNeib > list(openSet[list(i)[0]])[1]:\n",
    "                    continue\n",
    "            openSet[list(i)[0]] = (potentialGValueNeib + heuristic(list(i)[0], problem), potentialGValueNeib)\n",
    "            fatherVertex[list(i)[0]] = (currentState, list(i)[1])\n",
    "\n",
    "    return False\n"
   ]
  },
  {
   "cell_type": "markdown",
   "metadata": {},
   "source": [
    "You can test your A\\* implementation on the original problem of finding a path through a maze to a fixed position using the Manhattan distance heuristic:"
   ]
  },
  {
   "cell_type": "code",
   "execution_count": 13,
   "metadata": {
    "collapsed": false,
    "scrolled": true
   },
   "outputs": [
    {
     "data": {
      "application/javascript": [
       "\n",
       "\n",
       "(function(window) {\n",
       "    function setupCanvas(width, height) {\n",
       "\n",
       "        var canvas = $('#myCanvas')[0];\n",
       "        if (!(canvas===undefined)) {\n",
       "            console.log('deleting canvas');\n",
       "            canvas.parentElement.removeChild(canvas);\n",
       "        }\n",
       "        element.html(\"<canvas width=\"+width+\" height=\"+height+\" id='myCanvas'></canvas>\");\n",
       "        container.show();\n",
       "    }\n",
       "\n",
       "    var Game;\n",
       "    var intervalId;\n",
       "    function initGame(width, height, obj) {\n",
       "        require([\"../static/GameReduced.js\"], function(GGame) {\n",
       "            Game = GGame;\n",
       "            Game.setCanvas();\n",
       "            Game.initCanvas(width, height);\n",
       "            Game.setMaze(obj);\n",
       "        });\n",
       "    };\n",
       "    function setBeans(b) {\n",
       "        Game.setBeans(b);\n",
       "    };\n",
       "    function setPowerBeans(b) {\n",
       "        Game.setPowerBeans(b);\n",
       "    };\n",
       "    function placePac(x, y, d) {Game.placePacman(x, y, d);};\n",
       "    function placeGhost(i, x, y, c, d, s, b) {Game.placeGhost(i, x, y, c, d, s, b);};\n",
       "\n",
       "    function start() {Game.initMaze(); Game.startGame();};\n",
       "    function stop() {Game.stopGame()};\n",
       "\n",
       "    function rb(x, y) {Game.removeBean(x, y);};\n",
       "    window.GameModule = {\n",
       "        initGame: function (width, height, obj) {\n",
       "            initGame(width, height, obj);\n",
       "        },\n",
       "        setupCanvas: function(w, h){ setupCanvas(w, h); },\n",
       "        setBeans: function(b){ setBeans(b); },\n",
       "        setPowerBeans: function(b){ setPowerBeans(b); },\n",
       "        placePacman: function(x, y, d) {placePac(x, y, d);},\n",
       "        placeGhost: function(i, x, y, c, d, s, b) {placeGhost(i, x, y, c, d, s ,b);},\n",
       "        startGame: function() {start();},\n",
       "        stopGame: function() {stop();},\n",
       "        removeBean: function(x, y) {rb(x, y);}\n",
       "    }\n",
       "})(window);\n",
       "\n"
      ],
      "text/plain": [
       "<IPython.core.display.Javascript object>"
      ]
     },
     "metadata": {},
     "output_type": "display_data"
    },
    {
     "data": {
      "application/javascript": [
       "window.GameModule.setupCanvas(1110, 1110)"
      ],
      "text/plain": [
       "<IPython.core.display.Javascript object>"
      ]
     },
     "metadata": {},
     "output_type": "display_data"
    },
    {
     "data": {
      "application/javascript": [
       "window.GameModule.initGame(1110, 1110, [[0, 8, 8, 8, 8, 8, 8, 8, 8, 8, 8, 8, 8, 8, 8, 8, 8, 8, 8, 8, 8, 8, 8, 8, 8, 8, 8, 8, 8, 8, 8, 8, 8, 8, 8, 8, 0], [4, 3, 10, 10, 10, 10, 10, 14, 5, 7, 5, 7, 5, 11, 10, 2, 10, 2, 10, 10, 10, 2, 10, 14, 5, 3, 10, 14, 5, 11, 10, 10, 10, 6, 5, 7, 1], [4, 5, 11, 10, 10, 10, 10, 10, 4, 5, 13, 5, 9, 10, 14, 5, 7, 5, 3, 10, 14, 5, 11, 10, 4, 5, 11, 10, 8, 10, 2, 10, 6, 5, 13, 5, 1], [4, 9, 10, 10, 10, 2, 10, 14, 5, 9, 10, 0, 10, 10, 10, 4, 5, 5, 5, 3, 10, 0, 10, 14, 5, 1, 10, 10, 10, 14, 5, 7, 5, 1, 10, 12, 1], [4, 10, 10, 10, 6, 5, 3, 10, 0, 10, 6, 5, 11, 10, 6, 5, 5, 5, 5, 5, 7, 5, 11, 10, 4, 5, 3, 10, 10, 10, 4, 5, 5, 5, 11, 10, 1], [4, 3, 10, 14, 5, 5, 5, 7, 5, 7, 5, 1, 10, 14, 5, 5, 5, 13, 5, 13, 5, 1, 10, 14, 5, 5, 5, 3, 10, 14, 5, 5, 5, 9, 10, 6, 1], [4, 5, 11, 10, 12, 5, 13, 5, 5, 5, 13, 5, 11, 10, 4, 5, 9, 10, 0, 10, 12, 5, 3, 10, 12, 5, 13, 5, 3, 10, 4, 5, 1, 10, 14, 5, 1], [4, 9, 10, 2, 10, 8, 10, 12, 5, 9, 10, 8, 10, 6, 5, 9, 10, 14, 5, 11, 10, 4, 5, 11, 10, 0, 10, 12, 5, 7, 5, 5, 5, 3, 10, 4, 1], [4, 10, 14, 5, 11, 10, 10, 10, 8, 10, 10, 10, 14, 5, 1, 10, 10, 10, 8, 10, 14, 5, 1, 10, 6, 5, 11, 10, 4, 5, 13, 5, 13, 5, 7, 5, 1], [4, 3, 10, 0, 10, 10, 10, 10, 10, 2, 10, 2, 10, 12, 5, 3, 10, 2, 10, 2, 10, 12, 5, 7, 5, 1, 10, 14, 5, 1, 10, 8, 10, 4, 5, 5, 1], [4, 5, 7, 5, 3, 10, 10, 10, 14, 5, 7, 5, 3, 10, 4, 5, 7, 5, 7, 5, 11, 10, 12, 5, 5, 5, 11, 10, 4, 5, 3, 10, 6, 5, 5, 5, 1], [4, 5, 5, 5, 5, 3, 10, 10, 10, 12, 5, 13, 5, 7, 5, 5, 5, 13, 5, 9, 10, 10, 10, 12, 5, 1, 10, 14, 5, 5, 5, 7, 5, 13, 5, 5, 1], [4, 5, 5, 5, 5, 5, 3, 10, 10, 10, 8, 10, 4, 5, 13, 5, 1, 10, 8, 10, 10, 10, 2, 10, 12, 5, 11, 10, 4, 5, 13, 5, 1, 10, 12, 5, 1], [4, 13, 5, 5, 5, 13, 5, 3, 10, 2, 10, 14, 5, 9, 10, 4, 5, 11, 10, 10, 10, 6, 5, 11, 10, 0, 10, 14, 5, 1, 10, 12, 5, 11, 10, 4, 1], [4, 10, 12, 5, 9, 10, 4, 5, 7, 5, 3, 10, 8, 10, 14, 5, 1, 10, 2, 10, 14, 5, 9, 10, 6, 5, 3, 10, 12, 5, 3, 10, 0, 10, 6, 5, 1], [4, 3, 10, 0, 10, 6, 5, 5, 5, 5, 5, 11, 10, 2, 10, 12, 5, 7, 5, 11, 10, 0, 10, 14, 5, 5, 5, 3, 10, 4, 5, 7, 5, 7, 5, 5, 1], [4, 5, 7, 5, 7, 5, 5, 5, 5, 5, 9, 10, 14, 5, 11, 10, 12, 5, 9, 10, 14, 5, 11, 10, 12, 5, 5, 5, 7, 5, 5, 5, 13, 5, 13, 5, 1], [4, 13, 5, 5, 5, 13, 5, 13, 5, 9, 10, 2, 10, 0, 10, 2, 10, 8, 10, 10, 10, 0, 10, 10, 10, 4, 5, 5, 5, 13, 5, 1, 10, 8, 10, 12, 1], [4, 10, 12, 5, 9, 10, 8, 10, 0, 10, 6, 5, 7, 5, 7, 5, 11, 10, 10, 10, 6, 5, 11, 10, 6, 5, 13, 5, 9, 10, 4, 5, 3, 10, 10, 10, 1], [4, 11, 10, 8, 10, 2, 10, 6, 5, 7, 5, 13, 5, 13, 5, 9, 10, 10, 10, 6, 5, 9, 10, 14, 5, 9, 10, 8, 10, 14, 5, 5, 5, 3, 10, 14, 1], [4, 10, 10, 10, 6, 5, 7, 5, 13, 5, 9, 10, 8, 10, 8, 10, 10, 10, 6, 5, 1, 10, 10, 10, 8, 10, 2, 10, 10, 10, 4, 5, 5, 5, 11, 10, 1], [4, 3, 10, 14, 5, 5, 5, 9, 10, 8, 10, 2, 10, 10, 10, 10, 10, 14, 5, 13, 5, 3, 10, 10, 10, 14, 5, 3, 10, 6, 5, 5, 5, 9, 10, 6, 1], [4, 5, 3, 10, 12, 5, 1, 10, 10, 10, 14, 5, 11, 2, 10, 10, 10, 10, 8, 10, 12, 5, 3, 10, 10, 10, 12, 5, 7, 5, 13, 5, 9, 10, 14, 5, 1], [4, 5, 5, 3, 10, 4, 5, 11, 10, 10, 10, 0, 14, 5, 11, 2, 10, 2, 10, 2, 10, 4, 5, 3, 10, 10, 10, 12, 5, 9, 10, 8, 10, 10, 10, 12, 1], [4, 5, 5, 5, 7, 5, 9, 10, 2, 10, 14, 5, 11, 8, 6, 5, 7, 5, 7, 5, 7, 5, 13, 5, 11, 10, 10, 10, 0, 10, 10, 10, 2, 10, 2, 10, 1], [4, 5, 5, 5, 5, 9, 10, 6, 5, 11, 10, 0, 10, 6, 5, 5, 5, 5, 5, 13, 5, 9, 10, 8, 10, 10, 10, 6, 5, 11, 10, 6, 5, 7, 5, 7, 1], [4, 5, 5, 5, 9, 10, 6, 5, 1, 10, 14, 5, 7, 5, 5, 5, 5, 5, 9, 10, 0, 10, 2, 10, 10, 10, 6, 5, 1, 10, 6, 5, 13, 5, 13, 5, 1], [4, 5, 5, 9, 10, 6, 5, 13, 5, 3, 10, 12, 5, 13, 5, 5, 5, 9, 10, 6, 5, 7, 5, 3, 10, 14, 5, 13, 5, 7, 5, 1, 10, 8, 10, 12, 1], [4, 5, 9, 10, 14, 5, 9, 10, 4, 5, 11, 10, 0, 10, 12, 5, 9, 10, 6, 5, 5, 5, 13, 5, 11, 10, 0, 10, 12, 5, 5, 5, 3, 10, 10, 10, 1], [4, 9, 10, 2, 10, 0, 10, 14, 5, 9, 10, 6, 5, 11, 10, 8, 10, 6, 5, 13, 5, 1, 10, 8, 10, 6, 5, 3, 10, 12, 5, 5, 5, 3, 10, 14, 1], [4, 10, 6, 5, 7, 5, 3, 10, 0, 10, 6, 5, 1, 10, 2, 10, 14, 5, 9, 10, 4, 5, 3, 10, 14, 5, 5, 5, 3, 10, 12, 5, 5, 5, 3, 10, 1], [4, 7, 5, 5, 5, 13, 5, 7, 5, 7, 5, 5, 5, 7, 5, 3, 10, 8, 10, 14, 5, 13, 5, 11, 10, 4, 5, 5, 5, 3, 10, 4, 5, 5, 5, 7, 1], [4, 5, 13, 5, 1, 10, 12, 5, 5, 5, 13, 5, 5, 5, 13, 5, 11, 10, 10, 10, 8, 10, 8, 10, 14, 5, 13, 5, 13, 5, 7, 5, 13, 5, 13, 5, 1], [4, 1, 10, 4, 5, 3, 10, 4, 5, 9, 10, 4, 5, 9, 10, 0, 10, 10, 10, 10, 10, 10, 10, 2, 10, 8, 10, 0, 10, 12, 5, 1, 10, 8, 10, 4, 1], [4, 5, 7, 5, 5, 5, 7, 5, 9, 10, 14, 5, 9, 10, 6, 5, 11, 10, 2, 10, 10, 10, 14, 5, 11, 10, 6, 5, 11, 10, 4, 5, 3, 10, 14, 5, 1], [4, 13, 5, 13, 5, 13, 5, 9, 10, 10, 10, 8, 10, 14, 5, 9, 10, 14, 5, 11, 10, 10, 10, 8, 10, 14, 5, 9, 10, 14, 5, 13, 5, 11, 10, 12, 1], [0, 2, 2, 2, 2, 2, 2, 2, 2, 2, 2, 2, 2, 2, 2, 2, 2, 2, 2, 2, 2, 2, 2, 2, 2, 2, 2, 2, 2, 2, 2, 2, 2, 2, 2, 2, 0]]);"
      ],
      "text/plain": [
       "<IPython.core.display.Javascript object>"
      ]
     },
     "metadata": {},
     "output_type": "display_data"
    },
    {
     "data": {
      "application/javascript": [
       "\n",
       "    window.GameModule.setBeans(JSON.parse(\"[[1, 35]]\"));\n",
       "    window.GameModule.setPowerBeans(JSON.parse(\"[]\"));\n",
       "    "
      ],
      "text/plain": [
       "<IPython.core.display.Javascript object>"
      ]
     },
     "metadata": {},
     "output_type": "display_data"
    },
    {
     "data": {
      "application/javascript": [
       "window.GameModule.placePacman(1065, 1065, 1)"
      ],
      "text/plain": [
       "<IPython.core.display.Javascript object>"
      ]
     },
     "metadata": {},
     "output_type": "display_data"
    },
    {
     "data": {
      "application/javascript": [
       "window.GameModule.startGame()"
      ],
      "text/plain": [
       "<IPython.core.display.Javascript object>"
      ]
     },
     "metadata": {},
     "output_type": "display_data"
    },
    {
     "name": "stdout",
     "output_type": "stream",
     "text": [
      "Path found with total cost of 210 in 0.0 seconds\n",
      "Search nodes expanded: 549\n"
     ]
    },
    {
     "data": {
      "application/javascript": [
       "window.GameModule.placePacman(1065, 1035, 1)"
      ],
      "text/plain": [
       "<IPython.core.display.Javascript object>"
      ]
     },
     "metadata": {},
     "output_type": "display_data"
    },
    {
     "data": {
      "application/javascript": [
       "window.GameModule.placePacman(1065, 1005, 1)"
      ],
      "text/plain": [
       "<IPython.core.display.Javascript object>"
      ]
     },
     "metadata": {},
     "output_type": "display_data"
    },
    {
     "data": {
      "application/javascript": [
       "window.GameModule.placePacman(1035, 1005, 3)"
      ],
      "text/plain": [
       "<IPython.core.display.Javascript object>"
      ]
     },
     "metadata": {},
     "output_type": "display_data"
    },
    {
     "data": {
      "application/javascript": [
       "window.GameModule.placePacman(1005, 1005, 3)"
      ],
      "text/plain": [
       "<IPython.core.display.Javascript object>"
      ]
     },
     "metadata": {},
     "output_type": "display_data"
    },
    {
     "data": {
      "application/javascript": [
       "window.GameModule.placePacman(975, 1005, 3)"
      ],
      "text/plain": [
       "<IPython.core.display.Javascript object>"
      ]
     },
     "metadata": {},
     "output_type": "display_data"
    },
    {
     "data": {
      "application/javascript": [
       "window.GameModule.placePacman(945, 1005, 3)"
      ],
      "text/plain": [
       "<IPython.core.display.Javascript object>"
      ]
     },
     "metadata": {},
     "output_type": "display_data"
    },
    {
     "data": {
      "application/javascript": [
       "window.GameModule.placePacman(945, 975, 1)"
      ],
      "text/plain": [
       "<IPython.core.display.Javascript object>"
      ]
     },
     "metadata": {},
     "output_type": "display_data"
    },
    {
     "data": {
      "application/javascript": [
       "window.GameModule.placePacman(945, 945, 1)"
      ],
      "text/plain": [
       "<IPython.core.display.Javascript object>"
      ]
     },
     "metadata": {},
     "output_type": "display_data"
    },
    {
     "data": {
      "application/javascript": [
       "window.GameModule.placePacman(915, 945, 3)"
      ],
      "text/plain": [
       "<IPython.core.display.Javascript object>"
      ]
     },
     "metadata": {},
     "output_type": "display_data"
    },
    {
     "data": {
      "application/javascript": [
       "window.GameModule.placePacman(885, 945, 3)"
      ],
      "text/plain": [
       "<IPython.core.display.Javascript object>"
      ]
     },
     "metadata": {},
     "output_type": "display_data"
    },
    {
     "data": {
      "application/javascript": [
       "window.GameModule.placePacman(885, 975, 2)"
      ],
      "text/plain": [
       "<IPython.core.display.Javascript object>"
      ]
     },
     "metadata": {},
     "output_type": "display_data"
    },
    {
     "data": {
      "application/javascript": [
       "window.GameModule.placePacman(885, 1005, 2)"
      ],
      "text/plain": [
       "<IPython.core.display.Javascript object>"
      ]
     },
     "metadata": {},
     "output_type": "display_data"
    },
    {
     "data": {
      "application/javascript": [
       "window.GameModule.placePacman(855, 1005, 3)"
      ],
      "text/plain": [
       "<IPython.core.display.Javascript object>"
      ]
     },
     "metadata": {},
     "output_type": "display_data"
    },
    {
     "data": {
      "application/javascript": [
       "window.GameModule.placePacman(825, 1005, 3)"
      ],
      "text/plain": [
       "<IPython.core.display.Javascript object>"
      ]
     },
     "metadata": {},
     "output_type": "display_data"
    },
    {
     "data": {
      "application/javascript": [
       "window.GameModule.placePacman(795, 1005, 3)"
      ],
      "text/plain": [
       "<IPython.core.display.Javascript object>"
      ]
     },
     "metadata": {},
     "output_type": "display_data"
    },
    {
     "data": {
      "application/javascript": [
       "window.GameModule.placePacman(765, 1005, 3)"
      ],
      "text/plain": [
       "<IPython.core.display.Javascript object>"
      ]
     },
     "metadata": {},
     "output_type": "display_data"
    },
    {
     "data": {
      "application/javascript": [
       "window.GameModule.placePacman(735, 1005, 3)"
      ],
      "text/plain": [
       "<IPython.core.display.Javascript object>"
      ]
     },
     "metadata": {},
     "output_type": "display_data"
    },
    {
     "data": {
      "application/javascript": [
       "window.GameModule.placePacman(705, 1005, 3)"
      ],
      "text/plain": [
       "<IPython.core.display.Javascript object>"
      ]
     },
     "metadata": {},
     "output_type": "display_data"
    },
    {
     "data": {
      "application/javascript": [
       "window.GameModule.placePacman(675, 1005, 3)"
      ],
      "text/plain": [
       "<IPython.core.display.Javascript object>"
      ]
     },
     "metadata": {},
     "output_type": "display_data"
    },
    {
     "data": {
      "application/javascript": [
       "window.GameModule.placePacman(645, 1005, 3)"
      ],
      "text/plain": [
       "<IPython.core.display.Javascript object>"
      ]
     },
     "metadata": {},
     "output_type": "display_data"
    },
    {
     "data": {
      "application/javascript": [
       "window.GameModule.placePacman(615, 1005, 3)"
      ],
      "text/plain": [
       "<IPython.core.display.Javascript object>"
      ]
     },
     "metadata": {},
     "output_type": "display_data"
    },
    {
     "data": {
      "application/javascript": [
       "window.GameModule.placePacman(585, 1005, 3)"
      ],
      "text/plain": [
       "<IPython.core.display.Javascript object>"
      ]
     },
     "metadata": {},
     "output_type": "display_data"
    },
    {
     "data": {
      "application/javascript": [
       "window.GameModule.placePacman(555, 1005, 3)"
      ],
      "text/plain": [
       "<IPython.core.display.Javascript object>"
      ]
     },
     "metadata": {},
     "output_type": "display_data"
    },
    {
     "data": {
      "application/javascript": [
       "window.GameModule.placePacman(525, 1005, 3)"
      ],
      "text/plain": [
       "<IPython.core.display.Javascript object>"
      ]
     },
     "metadata": {},
     "output_type": "display_data"
    },
    {
     "data": {
      "application/javascript": [
       "window.GameModule.placePacman(495, 1005, 3)"
      ],
      "text/plain": [
       "<IPython.core.display.Javascript object>"
      ]
     },
     "metadata": {},
     "output_type": "display_data"
    },
    {
     "data": {
      "application/javascript": [
       "window.GameModule.placePacman(465, 1005, 3)"
      ],
      "text/plain": [
       "<IPython.core.display.Javascript object>"
      ]
     },
     "metadata": {},
     "output_type": "display_data"
    },
    {
     "data": {
      "application/javascript": [
       "window.GameModule.placePacman(465, 975, 1)"
      ],
      "text/plain": [
       "<IPython.core.display.Javascript object>"
      ]
     },
     "metadata": {},
     "output_type": "display_data"
    },
    {
     "data": {
      "application/javascript": [
       "window.GameModule.placePacman(465, 945, 1)"
      ],
      "text/plain": [
       "<IPython.core.display.Javascript object>"
      ]
     },
     "metadata": {},
     "output_type": "display_data"
    },
    {
     "data": {
      "application/javascript": [
       "window.GameModule.placePacman(495, 945, 4)"
      ],
      "text/plain": [
       "<IPython.core.display.Javascript object>"
      ]
     },
     "metadata": {},
     "output_type": "display_data"
    },
    {
     "data": {
      "application/javascript": [
       "window.GameModule.placePacman(525, 945, 4)"
      ],
      "text/plain": [
       "<IPython.core.display.Javascript object>"
      ]
     },
     "metadata": {},
     "output_type": "display_data"
    },
    {
     "data": {
      "application/javascript": [
       "window.GameModule.placePacman(525, 915, 1)"
      ],
      "text/plain": [
       "<IPython.core.display.Javascript object>"
      ]
     },
     "metadata": {},
     "output_type": "display_data"
    },
    {
     "data": {
      "application/javascript": [
       "window.GameModule.placePacman(525, 885, 1)"
      ],
      "text/plain": [
       "<IPython.core.display.Javascript object>"
      ]
     },
     "metadata": {},
     "output_type": "display_data"
    },
    {
     "data": {
      "application/javascript": [
       "window.GameModule.placePacman(495, 885, 3)"
      ],
      "text/plain": [
       "<IPython.core.display.Javascript object>"
      ]
     },
     "metadata": {},
     "output_type": "display_data"
    },
    {
     "data": {
      "application/javascript": [
       "window.GameModule.placePacman(465, 885, 3)"
      ],
      "text/plain": [
       "<IPython.core.display.Javascript object>"
      ]
     },
     "metadata": {},
     "output_type": "display_data"
    },
    {
     "data": {
      "application/javascript": [
       "window.GameModule.placePacman(465, 855, 1)"
      ],
      "text/plain": [
       "<IPython.core.display.Javascript object>"
      ]
     },
     "metadata": {},
     "output_type": "display_data"
    },
    {
     "data": {
      "application/javascript": [
       "window.GameModule.placePacman(465, 825, 1)"
      ],
      "text/plain": [
       "<IPython.core.display.Javascript object>"
      ]
     },
     "metadata": {},
     "output_type": "display_data"
    },
    {
     "data": {
      "application/javascript": [
       "window.GameModule.placePacman(465, 795, 1)"
      ],
      "text/plain": [
       "<IPython.core.display.Javascript object>"
      ]
     },
     "metadata": {},
     "output_type": "display_data"
    },
    {
     "data": {
      "application/javascript": [
       "window.GameModule.placePacman(465, 765, 1)"
      ],
      "text/plain": [
       "<IPython.core.display.Javascript object>"
      ]
     },
     "metadata": {},
     "output_type": "display_data"
    },
    {
     "data": {
      "application/javascript": [
       "window.GameModule.placePacman(465, 735, 1)"
      ],
      "text/plain": [
       "<IPython.core.display.Javascript object>"
      ]
     },
     "metadata": {},
     "output_type": "display_data"
    },
    {
     "data": {
      "application/javascript": [
       "window.GameModule.placePacman(465, 705, 1)"
      ],
      "text/plain": [
       "<IPython.core.display.Javascript object>"
      ]
     },
     "metadata": {},
     "output_type": "display_data"
    },
    {
     "data": {
      "application/javascript": [
       "window.GameModule.placePacman(495, 705, 4)"
      ],
      "text/plain": [
       "<IPython.core.display.Javascript object>"
      ]
     },
     "metadata": {},
     "output_type": "display_data"
    },
    {
     "data": {
      "application/javascript": [
       "window.GameModule.placePacman(525, 705, 4)"
      ],
      "text/plain": [
       "<IPython.core.display.Javascript object>"
      ]
     },
     "metadata": {},
     "output_type": "display_data"
    },
    {
     "data": {
      "application/javascript": [
       "window.GameModule.placePacman(555, 705, 4)"
      ],
      "text/plain": [
       "<IPython.core.display.Javascript object>"
      ]
     },
     "metadata": {},
     "output_type": "display_data"
    },
    {
     "data": {
      "application/javascript": [
       "window.GameModule.placePacman(585, 705, 4)"
      ],
      "text/plain": [
       "<IPython.core.display.Javascript object>"
      ]
     },
     "metadata": {},
     "output_type": "display_data"
    },
    {
     "data": {
      "application/javascript": [
       "window.GameModule.placePacman(615, 705, 4)"
      ],
      "text/plain": [
       "<IPython.core.display.Javascript object>"
      ]
     },
     "metadata": {},
     "output_type": "display_data"
    },
    {
     "data": {
      "application/javascript": [
       "window.GameModule.placePacman(645, 705, 4)"
      ],
      "text/plain": [
       "<IPython.core.display.Javascript object>"
      ]
     },
     "metadata": {},
     "output_type": "display_data"
    },
    {
     "data": {
      "application/javascript": [
       "window.GameModule.placePacman(645, 735, 2)"
      ],
      "text/plain": [
       "<IPython.core.display.Javascript object>"
      ]
     },
     "metadata": {},
     "output_type": "display_data"
    },
    {
     "data": {
      "application/javascript": [
       "window.GameModule.placePacman(645, 765, 2)"
      ],
      "text/plain": [
       "<IPython.core.display.Javascript object>"
      ]
     },
     "metadata": {},
     "output_type": "display_data"
    },
    {
     "data": {
      "application/javascript": [
       "window.GameModule.placePacman(675, 765, 4)"
      ],
      "text/plain": [
       "<IPython.core.display.Javascript object>"
      ]
     },
     "metadata": {},
     "output_type": "display_data"
    },
    {
     "data": {
      "application/javascript": [
       "window.GameModule.placePacman(705, 765, 4)"
      ],
      "text/plain": [
       "<IPython.core.display.Javascript object>"
      ]
     },
     "metadata": {},
     "output_type": "display_data"
    },
    {
     "data": {
      "application/javascript": [
       "window.GameModule.placePacman(705, 735, 1)"
      ],
      "text/plain": [
       "<IPython.core.display.Javascript object>"
      ]
     },
     "metadata": {},
     "output_type": "display_data"
    },
    {
     "data": {
      "application/javascript": [
       "window.GameModule.placePacman(705, 705, 1)"
      ],
      "text/plain": [
       "<IPython.core.display.Javascript object>"
      ]
     },
     "metadata": {},
     "output_type": "display_data"
    },
    {
     "data": {
      "application/javascript": [
       "window.GameModule.placePacman(735, 705, 4)"
      ],
      "text/plain": [
       "<IPython.core.display.Javascript object>"
      ]
     },
     "metadata": {},
     "output_type": "display_data"
    },
    {
     "data": {
      "application/javascript": [
       "window.GameModule.placePacman(765, 705, 4)"
      ],
      "text/plain": [
       "<IPython.core.display.Javascript object>"
      ]
     },
     "metadata": {},
     "output_type": "display_data"
    },
    {
     "data": {
      "application/javascript": [
       "window.GameModule.placePacman(795, 705, 4)"
      ],
      "text/plain": [
       "<IPython.core.display.Javascript object>"
      ]
     },
     "metadata": {},
     "output_type": "display_data"
    },
    {
     "data": {
      "application/javascript": [
       "window.GameModule.placePacman(825, 705, 4)"
      ],
      "text/plain": [
       "<IPython.core.display.Javascript object>"
      ]
     },
     "metadata": {},
     "output_type": "display_data"
    },
    {
     "data": {
      "application/javascript": [
       "window.GameModule.placePacman(825, 675, 1)"
      ],
      "text/plain": [
       "<IPython.core.display.Javascript object>"
      ]
     },
     "metadata": {},
     "output_type": "display_data"
    },
    {
     "data": {
      "application/javascript": [
       "window.GameModule.placePacman(825, 645, 1)"
      ],
      "text/plain": [
       "<IPython.core.display.Javascript object>"
      ]
     },
     "metadata": {},
     "output_type": "display_data"
    },
    {
     "data": {
      "application/javascript": [
       "window.GameModule.placePacman(855, 645, 4)"
      ],
      "text/plain": [
       "<IPython.core.display.Javascript object>"
      ]
     },
     "metadata": {},
     "output_type": "display_data"
    },
    {
     "data": {
      "application/javascript": [
       "window.GameModule.placePacman(885, 645, 4)"
      ],
      "text/plain": [
       "<IPython.core.display.Javascript object>"
      ]
     },
     "metadata": {},
     "output_type": "display_data"
    },
    {
     "data": {
      "application/javascript": [
       "window.GameModule.placePacman(885, 675, 2)"
      ],
      "text/plain": [
       "<IPython.core.display.Javascript object>"
      ]
     },
     "metadata": {},
     "output_type": "display_data"
    },
    {
     "data": {
      "application/javascript": [
       "window.GameModule.placePacman(885, 705, 2)"
      ],
      "text/plain": [
       "<IPython.core.display.Javascript object>"
      ]
     },
     "metadata": {},
     "output_type": "display_data"
    },
    {
     "data": {
      "application/javascript": [
       "window.GameModule.placePacman(915, 705, 4)"
      ],
      "text/plain": [
       "<IPython.core.display.Javascript object>"
      ]
     },
     "metadata": {},
     "output_type": "display_data"
    },
    {
     "data": {
      "application/javascript": [
       "window.GameModule.placePacman(945, 705, 4)"
      ],
      "text/plain": [
       "<IPython.core.display.Javascript object>"
      ]
     },
     "metadata": {},
     "output_type": "display_data"
    },
    {
     "data": {
      "application/javascript": [
       "window.GameModule.placePacman(945, 675, 1)"
      ],
      "text/plain": [
       "<IPython.core.display.Javascript object>"
      ]
     },
     "metadata": {},
     "output_type": "display_data"
    },
    {
     "data": {
      "application/javascript": [
       "window.GameModule.placePacman(945, 645, 1)"
      ],
      "text/plain": [
       "<IPython.core.display.Javascript object>"
      ]
     },
     "metadata": {},
     "output_type": "display_data"
    },
    {
     "data": {
      "application/javascript": [
       "window.GameModule.placePacman(945, 615, 1)"
      ],
      "text/plain": [
       "<IPython.core.display.Javascript object>"
      ]
     },
     "metadata": {},
     "output_type": "display_data"
    },
    {
     "data": {
      "application/javascript": [
       "window.GameModule.placePacman(945, 585, 1)"
      ],
      "text/plain": [
       "<IPython.core.display.Javascript object>"
      ]
     },
     "metadata": {},
     "output_type": "display_data"
    },
    {
     "data": {
      "application/javascript": [
       "window.GameModule.placePacman(945, 555, 1)"
      ],
      "text/plain": [
       "<IPython.core.display.Javascript object>"
      ]
     },
     "metadata": {},
     "output_type": "display_data"
    },
    {
     "data": {
      "application/javascript": [
       "window.GameModule.placePacman(945, 525, 1)"
      ],
      "text/plain": [
       "<IPython.core.display.Javascript object>"
      ]
     },
     "metadata": {},
     "output_type": "display_data"
    },
    {
     "data": {
      "application/javascript": [
       "window.GameModule.placePacman(975, 525, 4)"
      ],
      "text/plain": [
       "<IPython.core.display.Javascript object>"
      ]
     },
     "metadata": {},
     "output_type": "display_data"
    },
    {
     "data": {
      "application/javascript": [
       "window.GameModule.placePacman(1005, 525, 4)"
      ],
      "text/plain": [
       "<IPython.core.display.Javascript object>"
      ]
     },
     "metadata": {},
     "output_type": "display_data"
    },
    {
     "data": {
      "application/javascript": [
       "window.GameModule.placePacman(1035, 525, 4)"
      ],
      "text/plain": [
       "<IPython.core.display.Javascript object>"
      ]
     },
     "metadata": {},
     "output_type": "display_data"
    },
    {
     "data": {
      "application/javascript": [
       "window.GameModule.placePacman(1065, 525, 4)"
      ],
      "text/plain": [
       "<IPython.core.display.Javascript object>"
      ]
     },
     "metadata": {},
     "output_type": "display_data"
    },
    {
     "data": {
      "application/javascript": [
       "window.GameModule.placePacman(1065, 495, 1)"
      ],
      "text/plain": [
       "<IPython.core.display.Javascript object>"
      ]
     },
     "metadata": {},
     "output_type": "display_data"
    },
    {
     "data": {
      "application/javascript": [
       "window.GameModule.placePacman(1065, 465, 1)"
      ],
      "text/plain": [
       "<IPython.core.display.Javascript object>"
      ]
     },
     "metadata": {},
     "output_type": "display_data"
    },
    {
     "data": {
      "application/javascript": [
       "window.GameModule.placePacman(1065, 435, 1)"
      ],
      "text/plain": [
       "<IPython.core.display.Javascript object>"
      ]
     },
     "metadata": {},
     "output_type": "display_data"
    },
    {
     "data": {
      "application/javascript": [
       "window.GameModule.placePacman(1065, 405, 1)"
      ],
      "text/plain": [
       "<IPython.core.display.Javascript object>"
      ]
     },
     "metadata": {},
     "output_type": "display_data"
    },
    {
     "data": {
      "application/javascript": [
       "window.GameModule.placePacman(1065, 375, 1)"
      ],
      "text/plain": [
       "<IPython.core.display.Javascript object>"
      ]
     },
     "metadata": {},
     "output_type": "display_data"
    },
    {
     "data": {
      "application/javascript": [
       "window.GameModule.placePacman(1065, 345, 1)"
      ],
      "text/plain": [
       "<IPython.core.display.Javascript object>"
      ]
     },
     "metadata": {},
     "output_type": "display_data"
    },
    {
     "data": {
      "application/javascript": [
       "window.GameModule.placePacman(1065, 315, 1)"
      ],
      "text/plain": [
       "<IPython.core.display.Javascript object>"
      ]
     },
     "metadata": {},
     "output_type": "display_data"
    },
    {
     "data": {
      "application/javascript": [
       "window.GameModule.placePacman(1065, 285, 1)"
      ],
      "text/plain": [
       "<IPython.core.display.Javascript object>"
      ]
     },
     "metadata": {},
     "output_type": "display_data"
    },
    {
     "data": {
      "application/javascript": [
       "window.GameModule.placePacman(1065, 255, 1)"
      ],
      "text/plain": [
       "<IPython.core.display.Javascript object>"
      ]
     },
     "metadata": {},
     "output_type": "display_data"
    },
    {
     "data": {
      "application/javascript": [
       "window.GameModule.placePacman(1065, 225, 1)"
      ],
      "text/plain": [
       "<IPython.core.display.Javascript object>"
      ]
     },
     "metadata": {},
     "output_type": "display_data"
    },
    {
     "data": {
      "application/javascript": [
       "window.GameModule.placePacman(1035, 225, 3)"
      ],
      "text/plain": [
       "<IPython.core.display.Javascript object>"
      ]
     },
     "metadata": {},
     "output_type": "display_data"
    },
    {
     "data": {
      "application/javascript": [
       "window.GameModule.placePacman(1005, 225, 3)"
      ],
      "text/plain": [
       "<IPython.core.display.Javascript object>"
      ]
     },
     "metadata": {},
     "output_type": "display_data"
    },
    {
     "data": {
      "application/javascript": [
       "window.GameModule.placePacman(1005, 255, 2)"
      ],
      "text/plain": [
       "<IPython.core.display.Javascript object>"
      ]
     },
     "metadata": {},
     "output_type": "display_data"
    },
    {
     "data": {
      "application/javascript": [
       "window.GameModule.placePacman(1005, 285, 2)"
      ],
      "text/plain": [
       "<IPython.core.display.Javascript object>"
      ]
     },
     "metadata": {},
     "output_type": "display_data"
    },
    {
     "data": {
      "application/javascript": [
       "window.GameModule.placePacman(975, 285, 3)"
      ],
      "text/plain": [
       "<IPython.core.display.Javascript object>"
      ]
     },
     "metadata": {},
     "output_type": "display_data"
    },
    {
     "data": {
      "application/javascript": [
       "window.GameModule.placePacman(945, 285, 3)"
      ],
      "text/plain": [
       "<IPython.core.display.Javascript object>"
      ]
     },
     "metadata": {},
     "output_type": "display_data"
    },
    {
     "data": {
      "application/javascript": [
       "window.GameModule.placePacman(915, 285, 3)"
      ],
      "text/plain": [
       "<IPython.core.display.Javascript object>"
      ]
     },
     "metadata": {},
     "output_type": "display_data"
    },
    {
     "data": {
      "application/javascript": [
       "window.GameModule.placePacman(885, 285, 3)"
      ],
      "text/plain": [
       "<IPython.core.display.Javascript object>"
      ]
     },
     "metadata": {},
     "output_type": "display_data"
    },
    {
     "data": {
      "application/javascript": [
       "window.GameModule.placePacman(885, 315, 2)"
      ],
      "text/plain": [
       "<IPython.core.display.Javascript object>"
      ]
     },
     "metadata": {},
     "output_type": "display_data"
    },
    {
     "data": {
      "application/javascript": [
       "window.GameModule.placePacman(885, 345, 2)"
      ],
      "text/plain": [
       "<IPython.core.display.Javascript object>"
      ]
     },
     "metadata": {},
     "output_type": "display_data"
    },
    {
     "data": {
      "application/javascript": [
       "window.GameModule.placePacman(885, 375, 2)"
      ],
      "text/plain": [
       "<IPython.core.display.Javascript object>"
      ]
     },
     "metadata": {},
     "output_type": "display_data"
    },
    {
     "data": {
      "application/javascript": [
       "window.GameModule.placePacman(885, 405, 2)"
      ],
      "text/plain": [
       "<IPython.core.display.Javascript object>"
      ]
     },
     "metadata": {},
     "output_type": "display_data"
    },
    {
     "data": {
      "application/javascript": [
       "window.GameModule.placePacman(885, 435, 2)"
      ],
      "text/plain": [
       "<IPython.core.display.Javascript object>"
      ]
     },
     "metadata": {},
     "output_type": "display_data"
    },
    {
     "data": {
      "application/javascript": [
       "window.GameModule.placePacman(885, 465, 2)"
      ],
      "text/plain": [
       "<IPython.core.display.Javascript object>"
      ]
     },
     "metadata": {},
     "output_type": "display_data"
    },
    {
     "data": {
      "application/javascript": [
       "window.GameModule.placePacman(855, 465, 3)"
      ],
      "text/plain": [
       "<IPython.core.display.Javascript object>"
      ]
     },
     "metadata": {},
     "output_type": "display_data"
    },
    {
     "data": {
      "application/javascript": [
       "window.GameModule.placePacman(825, 465, 3)"
      ],
      "text/plain": [
       "<IPython.core.display.Javascript object>"
      ]
     },
     "metadata": {},
     "output_type": "display_data"
    },
    {
     "data": {
      "application/javascript": [
       "window.GameModule.placePacman(825, 495, 2)"
      ],
      "text/plain": [
       "<IPython.core.display.Javascript object>"
      ]
     },
     "metadata": {},
     "output_type": "display_data"
    },
    {
     "data": {
      "application/javascript": [
       "window.GameModule.placePacman(825, 525, 2)"
      ],
      "text/plain": [
       "<IPython.core.display.Javascript object>"
      ]
     },
     "metadata": {},
     "output_type": "display_data"
    },
    {
     "data": {
      "application/javascript": [
       "window.GameModule.placePacman(825, 555, 2)"
      ],
      "text/plain": [
       "<IPython.core.display.Javascript object>"
      ]
     },
     "metadata": {},
     "output_type": "display_data"
    },
    {
     "data": {
      "application/javascript": [
       "window.GameModule.placePacman(825, 585, 2)"
      ],
      "text/plain": [
       "<IPython.core.display.Javascript object>"
      ]
     },
     "metadata": {},
     "output_type": "display_data"
    },
    {
     "data": {
      "application/javascript": [
       "window.GameModule.placePacman(795, 585, 3)"
      ],
      "text/plain": [
       "<IPython.core.display.Javascript object>"
      ]
     },
     "metadata": {},
     "output_type": "display_data"
    },
    {
     "data": {
      "application/javascript": [
       "window.GameModule.placePacman(765, 585, 3)"
      ],
      "text/plain": [
       "<IPython.core.display.Javascript object>"
      ]
     },
     "metadata": {},
     "output_type": "display_data"
    },
    {
     "data": {
      "application/javascript": [
       "window.GameModule.placePacman(765, 555, 1)"
      ],
      "text/plain": [
       "<IPython.core.display.Javascript object>"
      ]
     },
     "metadata": {},
     "output_type": "display_data"
    },
    {
     "data": {
      "application/javascript": [
       "window.GameModule.placePacman(765, 525, 1)"
      ],
      "text/plain": [
       "<IPython.core.display.Javascript object>"
      ]
     },
     "metadata": {},
     "output_type": "display_data"
    },
    {
     "data": {
      "application/javascript": [
       "window.GameModule.placePacman(735, 525, 3)"
      ],
      "text/plain": [
       "<IPython.core.display.Javascript object>"
      ]
     },
     "metadata": {},
     "output_type": "display_data"
    },
    {
     "data": {
      "application/javascript": [
       "window.GameModule.placePacman(705, 525, 3)"
      ],
      "text/plain": [
       "<IPython.core.display.Javascript object>"
      ]
     },
     "metadata": {},
     "output_type": "display_data"
    },
    {
     "data": {
      "application/javascript": [
       "window.GameModule.placePacman(675, 525, 3)"
      ],
      "text/plain": [
       "<IPython.core.display.Javascript object>"
      ]
     },
     "metadata": {},
     "output_type": "display_data"
    },
    {
     "data": {
      "application/javascript": [
       "window.GameModule.placePacman(645, 525, 3)"
      ],
      "text/plain": [
       "<IPython.core.display.Javascript object>"
      ]
     },
     "metadata": {},
     "output_type": "display_data"
    },
    {
     "data": {
      "application/javascript": [
       "window.GameModule.placePacman(615, 525, 3)"
      ],
      "text/plain": [
       "<IPython.core.display.Javascript object>"
      ]
     },
     "metadata": {},
     "output_type": "display_data"
    },
    {
     "data": {
      "application/javascript": [
       "window.GameModule.placePacman(585, 525, 3)"
      ],
      "text/plain": [
       "<IPython.core.display.Javascript object>"
      ]
     },
     "metadata": {},
     "output_type": "display_data"
    },
    {
     "data": {
      "application/javascript": [
       "window.GameModule.placePacman(555, 525, 3)"
      ],
      "text/plain": [
       "<IPython.core.display.Javascript object>"
      ]
     },
     "metadata": {},
     "output_type": "display_data"
    },
    {
     "data": {
      "application/javascript": [
       "window.GameModule.placePacman(525, 525, 3)"
      ],
      "text/plain": [
       "<IPython.core.display.Javascript object>"
      ]
     },
     "metadata": {},
     "output_type": "display_data"
    },
    {
     "data": {
      "application/javascript": [
       "window.GameModule.placePacman(495, 525, 3)"
      ],
      "text/plain": [
       "<IPython.core.display.Javascript object>"
      ]
     },
     "metadata": {},
     "output_type": "display_data"
    },
    {
     "data": {
      "application/javascript": [
       "window.GameModule.placePacman(465, 525, 3)"
      ],
      "text/plain": [
       "<IPython.core.display.Javascript object>"
      ]
     },
     "metadata": {},
     "output_type": "display_data"
    },
    {
     "data": {
      "application/javascript": [
       "window.GameModule.placePacman(435, 525, 3)"
      ],
      "text/plain": [
       "<IPython.core.display.Javascript object>"
      ]
     },
     "metadata": {},
     "output_type": "display_data"
    },
    {
     "data": {
      "application/javascript": [
       "window.GameModule.placePacman(405, 525, 3)"
      ],
      "text/plain": [
       "<IPython.core.display.Javascript object>"
      ]
     },
     "metadata": {},
     "output_type": "display_data"
    },
    {
     "data": {
      "application/javascript": [
       "window.GameModule.placePacman(405, 495, 1)"
      ],
      "text/plain": [
       "<IPython.core.display.Javascript object>"
      ]
     },
     "metadata": {},
     "output_type": "display_data"
    },
    {
     "data": {
      "application/javascript": [
       "window.GameModule.placePacman(405, 465, 1)"
      ],
      "text/plain": [
       "<IPython.core.display.Javascript object>"
      ]
     },
     "metadata": {},
     "output_type": "display_data"
    },
    {
     "data": {
      "application/javascript": [
       "window.GameModule.placePacman(435, 465, 4)"
      ],
      "text/plain": [
       "<IPython.core.display.Javascript object>"
      ]
     },
     "metadata": {},
     "output_type": "display_data"
    },
    {
     "data": {
      "application/javascript": [
       "window.GameModule.placePacman(465, 465, 4)"
      ],
      "text/plain": [
       "<IPython.core.display.Javascript object>"
      ]
     },
     "metadata": {},
     "output_type": "display_data"
    },
    {
     "data": {
      "application/javascript": [
       "window.GameModule.placePacman(465, 435, 1)"
      ],
      "text/plain": [
       "<IPython.core.display.Javascript object>"
      ]
     },
     "metadata": {},
     "output_type": "display_data"
    },
    {
     "data": {
      "application/javascript": [
       "window.GameModule.placePacman(465, 405, 1)"
      ],
      "text/plain": [
       "<IPython.core.display.Javascript object>"
      ]
     },
     "metadata": {},
     "output_type": "display_data"
    },
    {
     "data": {
      "application/javascript": [
       "window.GameModule.placePacman(465, 375, 1)"
      ],
      "text/plain": [
       "<IPython.core.display.Javascript object>"
      ]
     },
     "metadata": {},
     "output_type": "display_data"
    },
    {
     "data": {
      "application/javascript": [
       "window.GameModule.placePacman(465, 345, 1)"
      ],
      "text/plain": [
       "<IPython.core.display.Javascript object>"
      ]
     },
     "metadata": {},
     "output_type": "display_data"
    },
    {
     "data": {
      "application/javascript": [
       "window.GameModule.placePacman(465, 315, 1)"
      ],
      "text/plain": [
       "<IPython.core.display.Javascript object>"
      ]
     },
     "metadata": {},
     "output_type": "display_data"
    },
    {
     "data": {
      "application/javascript": [
       "window.GameModule.placePacman(465, 285, 1)"
      ],
      "text/plain": [
       "<IPython.core.display.Javascript object>"
      ]
     },
     "metadata": {},
     "output_type": "display_data"
    },
    {
     "data": {
      "application/javascript": [
       "window.GameModule.placePacman(495, 285, 4)"
      ],
      "text/plain": [
       "<IPython.core.display.Javascript object>"
      ]
     },
     "metadata": {},
     "output_type": "display_data"
    },
    {
     "data": {
      "application/javascript": [
       "window.GameModule.placePacman(525, 285, 4)"
      ],
      "text/plain": [
       "<IPython.core.display.Javascript object>"
      ]
     },
     "metadata": {},
     "output_type": "display_data"
    },
    {
     "data": {
      "application/javascript": [
       "window.GameModule.placePacman(555, 285, 4)"
      ],
      "text/plain": [
       "<IPython.core.display.Javascript object>"
      ]
     },
     "metadata": {},
     "output_type": "display_data"
    },
    {
     "data": {
      "application/javascript": [
       "window.GameModule.placePacman(585, 285, 4)"
      ],
      "text/plain": [
       "<IPython.core.display.Javascript object>"
      ]
     },
     "metadata": {},
     "output_type": "display_data"
    },
    {
     "data": {
      "application/javascript": [
       "window.GameModule.placePacman(615, 285, 4)"
      ],
      "text/plain": [
       "<IPython.core.display.Javascript object>"
      ]
     },
     "metadata": {},
     "output_type": "display_data"
    },
    {
     "data": {
      "application/javascript": [
       "window.GameModule.placePacman(645, 285, 4)"
      ],
      "text/plain": [
       "<IPython.core.display.Javascript object>"
      ]
     },
     "metadata": {},
     "output_type": "display_data"
    },
    {
     "data": {
      "application/javascript": [
       "window.GameModule.placePacman(645, 255, 1)"
      ],
      "text/plain": [
       "<IPython.core.display.Javascript object>"
      ]
     },
     "metadata": {},
     "output_type": "display_data"
    },
    {
     "data": {
      "application/javascript": [
       "window.GameModule.placePacman(645, 225, 1)"
      ],
      "text/plain": [
       "<IPython.core.display.Javascript object>"
      ]
     },
     "metadata": {},
     "output_type": "display_data"
    },
    {
     "data": {
      "application/javascript": [
       "window.GameModule.placePacman(645, 195, 1)"
      ],
      "text/plain": [
       "<IPython.core.display.Javascript object>"
      ]
     },
     "metadata": {},
     "output_type": "display_data"
    },
    {
     "data": {
      "application/javascript": [
       "window.GameModule.placePacman(645, 165, 1)"
      ],
      "text/plain": [
       "<IPython.core.display.Javascript object>"
      ]
     },
     "metadata": {},
     "output_type": "display_data"
    },
    {
     "data": {
      "application/javascript": [
       "window.GameModule.placePacman(645, 135, 1)"
      ],
      "text/plain": [
       "<IPython.core.display.Javascript object>"
      ]
     },
     "metadata": {},
     "output_type": "display_data"
    },
    {
     "data": {
      "application/javascript": [
       "window.GameModule.placePacman(645, 105, 1)"
      ],
      "text/plain": [
       "<IPython.core.display.Javascript object>"
      ]
     },
     "metadata": {},
     "output_type": "display_data"
    },
    {
     "data": {
      "application/javascript": [
       "window.GameModule.placePacman(645, 75, 1)"
      ],
      "text/plain": [
       "<IPython.core.display.Javascript object>"
      ]
     },
     "metadata": {},
     "output_type": "display_data"
    },
    {
     "data": {
      "application/javascript": [
       "window.GameModule.placePacman(645, 45, 1)"
      ],
      "text/plain": [
       "<IPython.core.display.Javascript object>"
      ]
     },
     "metadata": {},
     "output_type": "display_data"
    },
    {
     "data": {
      "application/javascript": [
       "window.GameModule.placePacman(615, 45, 3)"
      ],
      "text/plain": [
       "<IPython.core.display.Javascript object>"
      ]
     },
     "metadata": {},
     "output_type": "display_data"
    },
    {
     "data": {
      "application/javascript": [
       "window.GameModule.placePacman(585, 45, 3)"
      ],
      "text/plain": [
       "<IPython.core.display.Javascript object>"
      ]
     },
     "metadata": {},
     "output_type": "display_data"
    },
    {
     "data": {
      "application/javascript": [
       "window.GameModule.placePacman(555, 45, 3)"
      ],
      "text/plain": [
       "<IPython.core.display.Javascript object>"
      ]
     },
     "metadata": {},
     "output_type": "display_data"
    },
    {
     "data": {
      "application/javascript": [
       "window.GameModule.placePacman(525, 45, 3)"
      ],
      "text/plain": [
       "<IPython.core.display.Javascript object>"
      ]
     },
     "metadata": {},
     "output_type": "display_data"
    },
    {
     "data": {
      "application/javascript": [
       "window.GameModule.placePacman(495, 45, 3)"
      ],
      "text/plain": [
       "<IPython.core.display.Javascript object>"
      ]
     },
     "metadata": {},
     "output_type": "display_data"
    },
    {
     "data": {
      "application/javascript": [
       "window.GameModule.placePacman(465, 45, 3)"
      ],
      "text/plain": [
       "<IPython.core.display.Javascript object>"
      ]
     },
     "metadata": {},
     "output_type": "display_data"
    },
    {
     "data": {
      "application/javascript": [
       "window.GameModule.placePacman(465, 75, 2)"
      ],
      "text/plain": [
       "<IPython.core.display.Javascript object>"
      ]
     },
     "metadata": {},
     "output_type": "display_data"
    },
    {
     "data": {
      "application/javascript": [
       "window.GameModule.placePacman(465, 105, 2)"
      ],
      "text/plain": [
       "<IPython.core.display.Javascript object>"
      ]
     },
     "metadata": {},
     "output_type": "display_data"
    },
    {
     "data": {
      "application/javascript": [
       "window.GameModule.placePacman(435, 105, 3)"
      ],
      "text/plain": [
       "<IPython.core.display.Javascript object>"
      ]
     },
     "metadata": {},
     "output_type": "display_data"
    },
    {
     "data": {
      "application/javascript": [
       "window.GameModule.placePacman(405, 105, 3)"
      ],
      "text/plain": [
       "<IPython.core.display.Javascript object>"
      ]
     },
     "metadata": {},
     "output_type": "display_data"
    },
    {
     "data": {
      "application/javascript": [
       "window.GameModule.placePacman(375, 105, 3)"
      ],
      "text/plain": [
       "<IPython.core.display.Javascript object>"
      ]
     },
     "metadata": {},
     "output_type": "display_data"
    },
    {
     "data": {
      "application/javascript": [
       "window.GameModule.placePacman(345, 105, 3)"
      ],
      "text/plain": [
       "<IPython.core.display.Javascript object>"
      ]
     },
     "metadata": {},
     "output_type": "display_data"
    },
    {
     "data": {
      "application/javascript": [
       "window.GameModule.placePacman(345, 135, 2)"
      ],
      "text/plain": [
       "<IPython.core.display.Javascript object>"
      ]
     },
     "metadata": {},
     "output_type": "display_data"
    },
    {
     "data": {
      "application/javascript": [
       "window.GameModule.placePacman(345, 165, 2)"
      ],
      "text/plain": [
       "<IPython.core.display.Javascript object>"
      ]
     },
     "metadata": {},
     "output_type": "display_data"
    },
    {
     "data": {
      "application/javascript": [
       "window.GameModule.placePacman(345, 195, 2)"
      ],
      "text/plain": [
       "<IPython.core.display.Javascript object>"
      ]
     },
     "metadata": {},
     "output_type": "display_data"
    },
    {
     "data": {
      "application/javascript": [
       "window.GameModule.placePacman(345, 225, 2)"
      ],
      "text/plain": [
       "<IPython.core.display.Javascript object>"
      ]
     },
     "metadata": {},
     "output_type": "display_data"
    },
    {
     "data": {
      "application/javascript": [
       "window.GameModule.placePacman(375, 225, 4)"
      ],
      "text/plain": [
       "<IPython.core.display.Javascript object>"
      ]
     },
     "metadata": {},
     "output_type": "display_data"
    },
    {
     "data": {
      "application/javascript": [
       "window.GameModule.placePacman(405, 225, 4)"
      ],
      "text/plain": [
       "<IPython.core.display.Javascript object>"
      ]
     },
     "metadata": {},
     "output_type": "display_data"
    },
    {
     "data": {
      "application/javascript": [
       "window.GameModule.placePacman(405, 255, 2)"
      ],
      "text/plain": [
       "<IPython.core.display.Javascript object>"
      ]
     },
     "metadata": {},
     "output_type": "display_data"
    },
    {
     "data": {
      "application/javascript": [
       "window.GameModule.placePacman(405, 285, 2)"
      ],
      "text/plain": [
       "<IPython.core.display.Javascript object>"
      ]
     },
     "metadata": {},
     "output_type": "display_data"
    },
    {
     "data": {
      "application/javascript": [
       "window.GameModule.placePacman(375, 285, 3)"
      ],
      "text/plain": [
       "<IPython.core.display.Javascript object>"
      ]
     },
     "metadata": {},
     "output_type": "display_data"
    },
    {
     "data": {
      "application/javascript": [
       "window.GameModule.placePacman(345, 285, 3)"
      ],
      "text/plain": [
       "<IPython.core.display.Javascript object>"
      ]
     },
     "metadata": {},
     "output_type": "display_data"
    },
    {
     "data": {
      "application/javascript": [
       "window.GameModule.placePacman(315, 285, 3)"
      ],
      "text/plain": [
       "<IPython.core.display.Javascript object>"
      ]
     },
     "metadata": {},
     "output_type": "display_data"
    },
    {
     "data": {
      "application/javascript": [
       "window.GameModule.placePacman(285, 285, 3)"
      ],
      "text/plain": [
       "<IPython.core.display.Javascript object>"
      ]
     },
     "metadata": {},
     "output_type": "display_data"
    },
    {
     "data": {
      "application/javascript": [
       "window.GameModule.placePacman(255, 285, 3)"
      ],
      "text/plain": [
       "<IPython.core.display.Javascript object>"
      ]
     },
     "metadata": {},
     "output_type": "display_data"
    },
    {
     "data": {
      "application/javascript": [
       "window.GameModule.placePacman(225, 285, 3)"
      ],
      "text/plain": [
       "<IPython.core.display.Javascript object>"
      ]
     },
     "metadata": {},
     "output_type": "display_data"
    },
    {
     "data": {
      "application/javascript": [
       "window.GameModule.placePacman(195, 285, 3)"
      ],
      "text/plain": [
       "<IPython.core.display.Javascript object>"
      ]
     },
     "metadata": {},
     "output_type": "display_data"
    },
    {
     "data": {
      "application/javascript": [
       "window.GameModule.placePacman(165, 285, 3)"
      ],
      "text/plain": [
       "<IPython.core.display.Javascript object>"
      ]
     },
     "metadata": {},
     "output_type": "display_data"
    },
    {
     "data": {
      "application/javascript": [
       "window.GameModule.placePacman(135, 285, 3)"
      ],
      "text/plain": [
       "<IPython.core.display.Javascript object>"
      ]
     },
     "metadata": {},
     "output_type": "display_data"
    },
    {
     "data": {
      "application/javascript": [
       "window.GameModule.placePacman(105, 285, 3)"
      ],
      "text/plain": [
       "<IPython.core.display.Javascript object>"
      ]
     },
     "metadata": {},
     "output_type": "display_data"
    },
    {
     "data": {
      "application/javascript": [
       "window.GameModule.placePacman(105, 315, 2)"
      ],
      "text/plain": [
       "<IPython.core.display.Javascript object>"
      ]
     },
     "metadata": {},
     "output_type": "display_data"
    },
    {
     "data": {
      "application/javascript": [
       "window.GameModule.placePacman(105, 345, 2)"
      ],
      "text/plain": [
       "<IPython.core.display.Javascript object>"
      ]
     },
     "metadata": {},
     "output_type": "display_data"
    },
    {
     "data": {
      "application/javascript": [
       "window.GameModule.placePacman(105, 375, 2)"
      ],
      "text/plain": [
       "<IPython.core.display.Javascript object>"
      ]
     },
     "metadata": {},
     "output_type": "display_data"
    },
    {
     "data": {
      "application/javascript": [
       "window.GameModule.placePacman(105, 405, 2)"
      ],
      "text/plain": [
       "<IPython.core.display.Javascript object>"
      ]
     },
     "metadata": {},
     "output_type": "display_data"
    },
    {
     "data": {
      "application/javascript": [
       "window.GameModule.placePacman(105, 435, 2)"
      ],
      "text/plain": [
       "<IPython.core.display.Javascript object>"
      ]
     },
     "metadata": {},
     "output_type": "display_data"
    },
    {
     "data": {
      "application/javascript": [
       "window.GameModule.placePacman(105, 465, 2)"
      ],
      "text/plain": [
       "<IPython.core.display.Javascript object>"
      ]
     },
     "metadata": {},
     "output_type": "display_data"
    },
    {
     "data": {
      "application/javascript": [
       "window.GameModule.placePacman(105, 495, 2)"
      ],
      "text/plain": [
       "<IPython.core.display.Javascript object>"
      ]
     },
     "metadata": {},
     "output_type": "display_data"
    },
    {
     "data": {
      "application/javascript": [
       "window.GameModule.placePacman(105, 525, 2)"
      ],
      "text/plain": [
       "<IPython.core.display.Javascript object>"
      ]
     },
     "metadata": {},
     "output_type": "display_data"
    },
    {
     "data": {
      "application/javascript": [
       "window.GameModule.placePacman(105, 555, 2)"
      ],
      "text/plain": [
       "<IPython.core.display.Javascript object>"
      ]
     },
     "metadata": {},
     "output_type": "display_data"
    },
    {
     "data": {
      "application/javascript": [
       "window.GameModule.placePacman(105, 585, 2)"
      ],
      "text/plain": [
       "<IPython.core.display.Javascript object>"
      ]
     },
     "metadata": {},
     "output_type": "display_data"
    },
    {
     "data": {
      "application/javascript": [
       "window.GameModule.placePacman(135, 585, 4)"
      ],
      "text/plain": [
       "<IPython.core.display.Javascript object>"
      ]
     },
     "metadata": {},
     "output_type": "display_data"
    },
    {
     "data": {
      "application/javascript": [
       "window.GameModule.placePacman(165, 585, 4)"
      ],
      "text/plain": [
       "<IPython.core.display.Javascript object>"
      ]
     },
     "metadata": {},
     "output_type": "display_data"
    },
    {
     "data": {
      "application/javascript": [
       "window.GameModule.placePacman(165, 615, 2)"
      ],
      "text/plain": [
       "<IPython.core.display.Javascript object>"
      ]
     },
     "metadata": {},
     "output_type": "display_data"
    },
    {
     "data": {
      "application/javascript": [
       "window.GameModule.placePacman(165, 645, 2)"
      ],
      "text/plain": [
       "<IPython.core.display.Javascript object>"
      ]
     },
     "metadata": {},
     "output_type": "display_data"
    },
    {
     "data": {
      "application/javascript": [
       "window.GameModule.placePacman(165, 675, 2)"
      ],
      "text/plain": [
       "<IPython.core.display.Javascript object>"
      ]
     },
     "metadata": {},
     "output_type": "display_data"
    },
    {
     "data": {
      "application/javascript": [
       "window.GameModule.placePacman(165, 705, 2)"
      ],
      "text/plain": [
       "<IPython.core.display.Javascript object>"
      ]
     },
     "metadata": {},
     "output_type": "display_data"
    },
    {
     "data": {
      "application/javascript": [
       "window.GameModule.placePacman(135, 705, 3)"
      ],
      "text/plain": [
       "<IPython.core.display.Javascript object>"
      ]
     },
     "metadata": {},
     "output_type": "display_data"
    },
    {
     "data": {
      "application/javascript": [
       "window.GameModule.placePacman(105, 705, 3)"
      ],
      "text/plain": [
       "<IPython.core.display.Javascript object>"
      ]
     },
     "metadata": {},
     "output_type": "display_data"
    },
    {
     "data": {
      "application/javascript": [
       "window.GameModule.placePacman(105, 735, 2)"
      ],
      "text/plain": [
       "<IPython.core.display.Javascript object>"
      ]
     },
     "metadata": {},
     "output_type": "display_data"
    },
    {
     "data": {
      "application/javascript": [
       "window.GameModule.placePacman(105, 765, 2)"
      ],
      "text/plain": [
       "<IPython.core.display.Javascript object>"
      ]
     },
     "metadata": {},
     "output_type": "display_data"
    },
    {
     "data": {
      "application/javascript": [
       "window.GameModule.placePacman(105, 795, 2)"
      ],
      "text/plain": [
       "<IPython.core.display.Javascript object>"
      ]
     },
     "metadata": {},
     "output_type": "display_data"
    },
    {
     "data": {
      "application/javascript": [
       "window.GameModule.placePacman(105, 825, 2)"
      ],
      "text/plain": [
       "<IPython.core.display.Javascript object>"
      ]
     },
     "metadata": {},
     "output_type": "display_data"
    },
    {
     "data": {
      "application/javascript": [
       "window.GameModule.placePacman(135, 825, 4)"
      ],
      "text/plain": [
       "<IPython.core.display.Javascript object>"
      ]
     },
     "metadata": {},
     "output_type": "display_data"
    },
    {
     "data": {
      "application/javascript": [
       "window.GameModule.placePacman(165, 825, 4)"
      ],
      "text/plain": [
       "<IPython.core.display.Javascript object>"
      ]
     },
     "metadata": {},
     "output_type": "display_data"
    },
    {
     "data": {
      "application/javascript": [
       "window.GameModule.placePacman(165, 855, 2)"
      ],
      "text/plain": [
       "<IPython.core.display.Javascript object>"
      ]
     },
     "metadata": {},
     "output_type": "display_data"
    },
    {
     "data": {
      "application/javascript": [
       "window.GameModule.placePacman(165, 885, 2)"
      ],
      "text/plain": [
       "<IPython.core.display.Javascript object>"
      ]
     },
     "metadata": {},
     "output_type": "display_data"
    },
    {
     "data": {
      "application/javascript": [
       "window.GameModule.placePacman(135, 885, 3)"
      ],
      "text/plain": [
       "<IPython.core.display.Javascript object>"
      ]
     },
     "metadata": {},
     "output_type": "display_data"
    },
    {
     "data": {
      "application/javascript": [
       "window.GameModule.placePacman(105, 885, 3)"
      ],
      "text/plain": [
       "<IPython.core.display.Javascript object>"
      ]
     },
     "metadata": {},
     "output_type": "display_data"
    },
    {
     "data": {
      "application/javascript": [
       "window.GameModule.placePacman(105, 915, 2)"
      ],
      "text/plain": [
       "<IPython.core.display.Javascript object>"
      ]
     },
     "metadata": {},
     "output_type": "display_data"
    },
    {
     "data": {
      "application/javascript": [
       "window.GameModule.placePacman(105, 945, 2)"
      ],
      "text/plain": [
       "<IPython.core.display.Javascript object>"
      ]
     },
     "metadata": {},
     "output_type": "display_data"
    },
    {
     "data": {
      "application/javascript": [
       "window.GameModule.placePacman(105, 975, 2)"
      ],
      "text/plain": [
       "<IPython.core.display.Javascript object>"
      ]
     },
     "metadata": {},
     "output_type": "display_data"
    },
    {
     "data": {
      "application/javascript": [
       "window.GameModule.placePacman(105, 1005, 2)"
      ],
      "text/plain": [
       "<IPython.core.display.Javascript object>"
      ]
     },
     "metadata": {},
     "output_type": "display_data"
    },
    {
     "data": {
      "application/javascript": [
       "window.GameModule.placePacman(75, 1005, 3)"
      ],
      "text/plain": [
       "<IPython.core.display.Javascript object>"
      ]
     },
     "metadata": {},
     "output_type": "display_data"
    },
    {
     "data": {
      "application/javascript": [
       "window.GameModule.placePacman(45, 1005, 3)"
      ],
      "text/plain": [
       "<IPython.core.display.Javascript object>"
      ]
     },
     "metadata": {},
     "output_type": "display_data"
    },
    {
     "data": {
      "application/javascript": [
       "window.GameModule.placePacman(45, 1035, 2)"
      ],
      "text/plain": [
       "<IPython.core.display.Javascript object>"
      ]
     },
     "metadata": {},
     "output_type": "display_data"
    },
    {
     "data": {
      "application/javascript": [
       "window.GameModule.placePacman(45, 1065, 2)"
      ],
      "text/plain": [
       "<IPython.core.display.Javascript object>"
      ]
     },
     "metadata": {},
     "output_type": "display_data"
    },
    {
     "data": {
      "application/javascript": [
       "window.GameModule.removeBean(1, 35);"
      ],
      "text/plain": [
       "<IPython.core.display.Javascript object>"
      ]
     },
     "metadata": {},
     "output_type": "display_data"
    },
    {
     "name": "stdout",
     "output_type": "stream",
     "text": [
      "Pacman emerges victorious! Score: 300\n"
     ]
    },
    {
     "data": {
      "application/javascript": [
       "window.GameModule.stopGame();"
      ],
      "text/plain": [
       "<IPython.core.display.Javascript object>"
      ]
     },
     "metadata": {},
     "output_type": "display_data"
    }
   ],
   "source": [
    "from pac.searchAgents import manhattanHeuristic\n",
    "big_maze_layout = layout.getLayout('bigMaze')\n",
    "\n",
    "sa = SearchAgent(fn=lambda pb: aStarSearch(pb, manhattanHeuristic), prob=PositionSearchProblem)\n",
    "gameDisplay = NotebookGraphics(sleep_time=0.01)  # visualization\n",
    "game = rules.newGame(big_maze_layout, sa, [], gameDisplay, False, False)\n",
    "game.run()"
   ]
  },
  {
   "cell_type": "markdown",
   "metadata": {},
   "source": [
    "This example code introduces a new programing concept, a `lambda` function to call the `aStarSearch` function, which takes two arguments, with only one variable argument `pb` for the problem definition, while the second one for the heuristic is bound to `manhattanHeuristic`. You can read more about lambda functions [here](http://www.secnetix.de/olli/Python/lambda_functions.hawk).\n",
    "\n",
    "You should see that A\\* finds the optimal solution slightly faster than uniform cost search (about 470 vs. 620 search nodes expanded for `bigMaze` in our implementation, but ties in priority may make your numbers differ slightly). What happens on openMaze for the various search strategies?"
   ]
  },
  {
   "cell_type": "code",
   "execution_count": 14,
   "metadata": {
    "collapsed": false
   },
   "outputs": [],
   "source": [
    "# Abbreviations, please leave these in here!\n",
    "bfs = breadthFirstSearch\n",
    "dfs = depthFirstSearch\n",
    "astar = aStarSearch\n",
    "ucs = uniformCostSearch"
   ]
  },
  {
   "cell_type": "markdown",
   "metadata": {},
   "source": [
    "# Solving problems"
   ]
  },
  {
   "cell_type": "markdown",
   "metadata": {},
   "source": [
    "## Corner Problem [9 Points]"
   ]
  },
  {
   "cell_type": "markdown",
   "metadata": {},
   "source": [
    "### Finding All the Corners\n",
    "\n",
    "The real power of A\\* will only be apparent with a more challenging search problem. \n",
    "Now, it's time to formulate a new problem and design a heuristic for it.\n",
    "\n",
    "In corner mazes, there are four dots, one in each corner. Our new search problem is to find the shortest path through the maze that touches all four corners (whether the maze actually has food there or not).\n",
    "Note that for some mazes like tinyCorners, the shortest path does not always go to the closest food first! \n",
    "Hint: the shortest path through tinyCorners takes 28 steps.\n",
    "\n",
    "\n",
    "**Note:** Make sure to implement breadth first search before trying this problem.\n",
    "\n",
    "Implement the `CornersProblem` search problem below. \n",
    "You will need to choose a state representation that encodes all the information necessary to detect whether all four corners have been reached. Now, your search agent should solve the corners problem for the `tinyCorners` and `mediumCorners` layouts.\n",
    "\n",
    "\n",
    "To receive full credit, you need to define an abstract state representation that does not encode irrelevant information (like the position of ghosts, where extra food is, etc.).\n",
    "In particular, do not use a full Pacman `GameState` as a search state.\n",
    "Your code will be very, very slow if you do (and also wrong).\n",
    "\n",
    "**Hint:** The only parts of startingGameState you need to reference in your implementation are the starting Pacman position and the location of the four corners.\n",
    "\n",
    "Our implementation of `breadthFirstSearch` expands just under 2000 search nodes on the `mediumCorners` layout.\n",
    "However, heuristics (used with A\\* search) can reduce the amount of searching required."
   ]
  },
  {
   "cell_type": "code",
   "execution_count": 15,
   "metadata": {
    "collapsed": false,
    "scrolled": false
   },
   "outputs": [],
   "source": [
    "class CornersProblem(search.SearchProblem):\n",
    "    \"\"\"\n",
    "    This search problem finds paths through all four corners of a layout.\n",
    "    You must select a suitable state space and successor function\n",
    "    \"\"\"\n",
    "\n",
    "    def __init__(self, startingGameState):\n",
    "        \"\"\"\n",
    "        Stores the walls, pacman's starting position and corners.\n",
    "        \"\"\"\n",
    "        self.walls = startingGameState.getWalls()\n",
    "        self.startingPosition = startingGameState.getPacmanPosition()\n",
    "        top, right = self.walls.height-2, self.walls.width-2\n",
    "        self.corners = ((1,1), (1,top), (right, 1), (right, top))\n",
    "        for corner in self.corners:\n",
    "            if not startingGameState.hasFood(*corner):\n",
    "                print 'Warning: no food in corner ' + str(corner)\n",
    "        self._expanded = 0 # Number of search nodes expanded\n",
    "\n",
    "    def getStartState(self):\n",
    "        return (self.startingPosition, ())\n",
    "\n",
    "    def isGoalState(self, state):\n",
    "        node = state[0]\n",
    "        visitedCorners = state[1]\n",
    "        if node in self.corners:\n",
    "            if not node in visitedCorners:\n",
    "                visitedCorners.append(node)\n",
    "            return len(visitedCorners) == 4\n",
    "        return False\n",
    "\n",
    "    def getSuccessors(self, state):\n",
    "        \"\"\"\n",
    "        Returns successor states, the actions they require, and a cost of 1.\n",
    "         As noted in search.py:\n",
    "             For a given state, this should return a list of triples,\n",
    "         (successor, action, stepCost), where 'successor' is a\n",
    "         successor to the current state, 'action' is the action\n",
    "         required to get there, and 'stepCost' is the incremental\n",
    "         cost of expanding to that successor\n",
    "        \"\"\"\n",
    "\n",
    "        x,y = state[0]\n",
    "        visitedCorners = state[1]\n",
    "\n",
    "        successors = []\n",
    "        for action in [Directions.NORTH, Directions.SOUTH, Directions.EAST, Directions.WEST]:\n",
    "\n",
    "            dx, dy = Actions.directionToVector(action)\n",
    "            nextx, nexty = int(x + dx), int(y + dy)\n",
    "            hitsWall = self.walls[nextx][nexty]\n",
    "            if not hitsWall:\n",
    "                successorVisitedCorners = list(visitedCorners)\n",
    "                next_node = (nextx, nexty)\n",
    "                if next_node in self.corners:\n",
    "                    if not next_node in successorVisitedCorners:\n",
    "                        successorVisitedCorners.append( next_node )\n",
    "                successor = ((next_node, tuple(successorVisitedCorners)), action, 1)\n",
    "                successors.append(successor)\n",
    "\n",
    "        self._expanded += 1\n",
    "        return successors\n",
    "\n",
    "    def getCostOfActions(self, actions):\n",
    "        \"\"\"\n",
    "        Returns the cost of a particular sequence of actions.  If those actions\n",
    "        include an illegal move, return 999999.  This is implemented for you.\n",
    "        \"\"\"\n",
    "        if actions == None: return 999999\n",
    "        x,y= self.startingPosition\n",
    "        for action in actions:\n",
    "            dx, dy = Actions.directionToVector(action)\n",
    "            x, y = int(x + dx), int(y + dy)\n",
    "            if self.walls[x][y]: return 999999\n",
    "        return len(actions)"
   ]
  },
  {
   "cell_type": "markdown",
   "metadata": {},
   "source": [
    "You can get the path which results from searching in your state space like so:"
   ]
  },
  {
   "cell_type": "code",
   "execution_count": 16,
   "metadata": {
    "collapsed": false
   },
   "outputs": [],
   "source": [
    "tiny_corner_layout = layout.getLayout('tinyCorners')\n",
    "medium_corner_layout =layout.getLayout('mediumCorners')\n",
    "\n",
    "gameState = pacman.GameState()\n",
    "gameState.initialize(medium_corner_layout, 0)\n",
    "\n",
    "problem = CornersProblem(gameState)\n",
    "path = bfs(problem)\n"
   ]
  },
  {
   "cell_type": "code",
   "execution_count": 17,
   "metadata": {
    "collapsed": false,
    "scrolled": true
   },
   "outputs": [
    {
     "data": {
      "application/javascript": [
       "\n",
       "\n",
       "(function(window) {\n",
       "    function setupCanvas(width, height) {\n",
       "\n",
       "        var canvas = $('#myCanvas')[0];\n",
       "        if (!(canvas===undefined)) {\n",
       "            console.log('deleting canvas');\n",
       "            canvas.parentElement.removeChild(canvas);\n",
       "        }\n",
       "        element.html(\"<canvas width=\"+width+\" height=\"+height+\" id='myCanvas'></canvas>\");\n",
       "        container.show();\n",
       "    }\n",
       "\n",
       "    var Game;\n",
       "    var intervalId;\n",
       "    function initGame(width, height, obj) {\n",
       "        require([\"../static/GameReduced.js\"], function(GGame) {\n",
       "            Game = GGame;\n",
       "            Game.setCanvas();\n",
       "            Game.initCanvas(width, height);\n",
       "            Game.setMaze(obj);\n",
       "        });\n",
       "    };\n",
       "    function setBeans(b) {\n",
       "        Game.setBeans(b);\n",
       "    };\n",
       "    function setPowerBeans(b) {\n",
       "        Game.setPowerBeans(b);\n",
       "    };\n",
       "    function placePac(x, y, d) {Game.placePacman(x, y, d);};\n",
       "    function placeGhost(i, x, y, c, d, s, b) {Game.placeGhost(i, x, y, c, d, s, b);};\n",
       "\n",
       "    function start() {Game.initMaze(); Game.startGame();};\n",
       "    function stop() {Game.stopGame()};\n",
       "\n",
       "    function rb(x, y) {Game.removeBean(x, y);};\n",
       "    window.GameModule = {\n",
       "        initGame: function (width, height, obj) {\n",
       "            initGame(width, height, obj);\n",
       "        },\n",
       "        setupCanvas: function(w, h){ setupCanvas(w, h); },\n",
       "        setBeans: function(b){ setBeans(b); },\n",
       "        setPowerBeans: function(b){ setPowerBeans(b); },\n",
       "        placePacman: function(x, y, d) {placePac(x, y, d);},\n",
       "        placeGhost: function(i, x, y, c, d, s, b) {placeGhost(i, x, y, c, d, s ,b);},\n",
       "        startGame: function() {start();},\n",
       "        stopGame: function() {stop();},\n",
       "        removeBean: function(x, y) {rb(x, y);}\n",
       "    }\n",
       "})(window);\n",
       "\n"
      ],
      "text/plain": [
       "<IPython.core.display.Javascript object>"
      ]
     },
     "metadata": {},
     "output_type": "display_data"
    },
    {
     "data": {
      "application/javascript": [
       "window.GameModule.setupCanvas(240, 240)"
      ],
      "text/plain": [
       "<IPython.core.display.Javascript object>"
      ]
     },
     "metadata": {},
     "output_type": "display_data"
    },
    {
     "data": {
      "application/javascript": [
       "window.GameModule.initGame(240, 240, [[0, 8, 8, 8, 8, 8, 8, 0], [4, 3, 2, 2, 2, 2, 6, 1], [4, 1, 8, 8, 8, 8, 4, 1], [4, 5, 3, 10, 10, 14, 5, 1], [4, 5, 5, 3, 10, 10, 12, 1], [4, 5, 5, 5, 11, 10, 10, 1], [4, 13, 5, 9, 10, 10, 14, 1], [0, 2, 2, 2, 2, 2, 2, 0]]);"
      ],
      "text/plain": [
       "<IPython.core.display.Javascript object>"
      ]
     },
     "metadata": {},
     "output_type": "display_data"
    },
    {
     "data": {
      "application/javascript": [
       "\n",
       "    window.GameModule.setBeans(JSON.parse(\"[[1, 6], [1, 1], [6, 6], [6, 1]]\"));\n",
       "    window.GameModule.setPowerBeans(JSON.parse(\"[]\"));\n",
       "    "
      ],
      "text/plain": [
       "<IPython.core.display.Javascript object>"
      ]
     },
     "metadata": {},
     "output_type": "display_data"
    },
    {
     "data": {
      "application/javascript": [
       "window.GameModule.placePacman(135, 75, 1)"
      ],
      "text/plain": [
       "<IPython.core.display.Javascript object>"
      ]
     },
     "metadata": {},
     "output_type": "display_data"
    },
    {
     "data": {
      "application/javascript": [
       "window.GameModule.startGame()"
      ],
      "text/plain": [
       "<IPython.core.display.Javascript object>"
      ]
     },
     "metadata": {},
     "output_type": "display_data"
    },
    {
     "name": "stdout",
     "output_type": "stream",
     "text": [
      "Path found with total cost of 28 in 0.0 seconds\n",
      "Search nodes expanded: 435\n"
     ]
    },
    {
     "data": {
      "application/javascript": [
       "window.GameModule.placePacman(105, 75, 3)"
      ],
      "text/plain": [
       "<IPython.core.display.Javascript object>"
      ]
     },
     "metadata": {},
     "output_type": "display_data"
    },
    {
     "data": {
      "application/javascript": [
       "window.GameModule.placePacman(75, 75, 3)"
      ],
      "text/plain": [
       "<IPython.core.display.Javascript object>"
      ]
     },
     "metadata": {},
     "output_type": "display_data"
    },
    {
     "data": {
      "application/javascript": [
       "window.GameModule.placePacman(45, 75, 3)"
      ],
      "text/plain": [
       "<IPython.core.display.Javascript object>"
      ]
     },
     "metadata": {},
     "output_type": "display_data"
    },
    {
     "data": {
      "application/javascript": [
       "window.GameModule.placePacman(45, 105, 2)"
      ],
      "text/plain": [
       "<IPython.core.display.Javascript object>"
      ]
     },
     "metadata": {},
     "output_type": "display_data"
    },
    {
     "data": {
      "application/javascript": [
       "window.GameModule.placePacman(45, 135, 2)"
      ],
      "text/plain": [
       "<IPython.core.display.Javascript object>"
      ]
     },
     "metadata": {},
     "output_type": "display_data"
    },
    {
     "data": {
      "application/javascript": [
       "window.GameModule.placePacman(45, 165, 2)"
      ],
      "text/plain": [
       "<IPython.core.display.Javascript object>"
      ]
     },
     "metadata": {},
     "output_type": "display_data"
    },
    {
     "data": {
      "application/javascript": [
       "window.GameModule.placePacman(45, 195, 2)"
      ],
      "text/plain": [
       "<IPython.core.display.Javascript object>"
      ]
     },
     "metadata": {},
     "output_type": "display_data"
    },
    {
     "data": {
      "application/javascript": [
       "window.GameModule.removeBean(1, 6);"
      ],
      "text/plain": [
       "<IPython.core.display.Javascript object>"
      ]
     },
     "metadata": {},
     "output_type": "display_data"
    },
    {
     "data": {
      "application/javascript": [
       "window.GameModule.placePacman(45, 165, 1)"
      ],
      "text/plain": [
       "<IPython.core.display.Javascript object>"
      ]
     },
     "metadata": {},
     "output_type": "display_data"
    },
    {
     "data": {
      "application/javascript": [
       "window.GameModule.placePacman(45, 135, 1)"
      ],
      "text/plain": [
       "<IPython.core.display.Javascript object>"
      ]
     },
     "metadata": {},
     "output_type": "display_data"
    },
    {
     "data": {
      "application/javascript": [
       "window.GameModule.placePacman(45, 105, 1)"
      ],
      "text/plain": [
       "<IPython.core.display.Javascript object>"
      ]
     },
     "metadata": {},
     "output_type": "display_data"
    },
    {
     "data": {
      "application/javascript": [
       "window.GameModule.placePacman(45, 75, 1)"
      ],
      "text/plain": [
       "<IPython.core.display.Javascript object>"
      ]
     },
     "metadata": {},
     "output_type": "display_data"
    },
    {
     "data": {
      "application/javascript": [
       "window.GameModule.placePacman(45, 45, 1)"
      ],
      "text/plain": [
       "<IPython.core.display.Javascript object>"
      ]
     },
     "metadata": {},
     "output_type": "display_data"
    },
    {
     "data": {
      "application/javascript": [
       "window.GameModule.removeBean(1, 1);"
      ],
      "text/plain": [
       "<IPython.core.display.Javascript object>"
      ]
     },
     "metadata": {},
     "output_type": "display_data"
    },
    {
     "data": {
      "application/javascript": [
       "window.GameModule.placePacman(75, 45, 4)"
      ],
      "text/plain": [
       "<IPython.core.display.Javascript object>"
      ]
     },
     "metadata": {},
     "output_type": "display_data"
    },
    {
     "data": {
      "application/javascript": [
       "window.GameModule.placePacman(105, 45, 4)"
      ],
      "text/plain": [
       "<IPython.core.display.Javascript object>"
      ]
     },
     "metadata": {},
     "output_type": "display_data"
    },
    {
     "data": {
      "application/javascript": [
       "window.GameModule.placePacman(135, 45, 4)"
      ],
      "text/plain": [
       "<IPython.core.display.Javascript object>"
      ]
     },
     "metadata": {},
     "output_type": "display_data"
    },
    {
     "data": {
      "application/javascript": [
       "window.GameModule.placePacman(165, 45, 4)"
      ],
      "text/plain": [
       "<IPython.core.display.Javascript object>"
      ]
     },
     "metadata": {},
     "output_type": "display_data"
    },
    {
     "data": {
      "application/javascript": [
       "window.GameModule.placePacman(195, 45, 4)"
      ],
      "text/plain": [
       "<IPython.core.display.Javascript object>"
      ]
     },
     "metadata": {},
     "output_type": "display_data"
    },
    {
     "data": {
      "application/javascript": [
       "window.GameModule.removeBean(6, 1);"
      ],
      "text/plain": [
       "<IPython.core.display.Javascript object>"
      ]
     },
     "metadata": {},
     "output_type": "display_data"
    },
    {
     "data": {
      "application/javascript": [
       "window.GameModule.placePacman(195, 75, 2)"
      ],
      "text/plain": [
       "<IPython.core.display.Javascript object>"
      ]
     },
     "metadata": {},
     "output_type": "display_data"
    },
    {
     "data": {
      "application/javascript": [
       "window.GameModule.placePacman(195, 105, 2)"
      ],
      "text/plain": [
       "<IPython.core.display.Javascript object>"
      ]
     },
     "metadata": {},
     "output_type": "display_data"
    },
    {
     "data": {
      "application/javascript": [
       "window.GameModule.placePacman(195, 135, 2)"
      ],
      "text/plain": [
       "<IPython.core.display.Javascript object>"
      ]
     },
     "metadata": {},
     "output_type": "display_data"
    },
    {
     "data": {
      "application/javascript": [
       "window.GameModule.placePacman(165, 135, 3)"
      ],
      "text/plain": [
       "<IPython.core.display.Javascript object>"
      ]
     },
     "metadata": {},
     "output_type": "display_data"
    },
    {
     "data": {
      "application/javascript": [
       "window.GameModule.placePacman(135, 135, 3)"
      ],
      "text/plain": [
       "<IPython.core.display.Javascript object>"
      ]
     },
     "metadata": {},
     "output_type": "display_data"
    },
    {
     "data": {
      "application/javascript": [
       "window.GameModule.placePacman(105, 135, 3)"
      ],
      "text/plain": [
       "<IPython.core.display.Javascript object>"
      ]
     },
     "metadata": {},
     "output_type": "display_data"
    },
    {
     "data": {
      "application/javascript": [
       "window.GameModule.placePacman(105, 165, 2)"
      ],
      "text/plain": [
       "<IPython.core.display.Javascript object>"
      ]
     },
     "metadata": {},
     "output_type": "display_data"
    },
    {
     "data": {
      "application/javascript": [
       "window.GameModule.placePacman(105, 195, 2)"
      ],
      "text/plain": [
       "<IPython.core.display.Javascript object>"
      ]
     },
     "metadata": {},
     "output_type": "display_data"
    },
    {
     "data": {
      "application/javascript": [
       "window.GameModule.placePacman(135, 195, 4)"
      ],
      "text/plain": [
       "<IPython.core.display.Javascript object>"
      ]
     },
     "metadata": {},
     "output_type": "display_data"
    },
    {
     "data": {
      "application/javascript": [
       "window.GameModule.placePacman(165, 195, 4)"
      ],
      "text/plain": [
       "<IPython.core.display.Javascript object>"
      ]
     },
     "metadata": {},
     "output_type": "display_data"
    },
    {
     "data": {
      "application/javascript": [
       "window.GameModule.placePacman(195, 195, 4)"
      ],
      "text/plain": [
       "<IPython.core.display.Javascript object>"
      ]
     },
     "metadata": {},
     "output_type": "display_data"
    },
    {
     "data": {
      "application/javascript": [
       "window.GameModule.removeBean(6, 6);"
      ],
      "text/plain": [
       "<IPython.core.display.Javascript object>"
      ]
     },
     "metadata": {},
     "output_type": "display_data"
    },
    {
     "name": "stdout",
     "output_type": "stream",
     "text": [
      "Pacman emerges victorious! Score: 512\n"
     ]
    },
    {
     "data": {
      "application/javascript": [
       "window.GameModule.stopGame();"
      ],
      "text/plain": [
       "<IPython.core.display.Javascript object>"
      ]
     },
     "metadata": {},
     "output_type": "display_data"
    }
   ],
   "source": [
    "sa = SearchAgent(fn=breadthFirstSearch, prob=CornersProblem)\n",
    "gameDisplay = NotebookGraphics(sleep_time=0.3)  # visualization\n",
    "game = rules.newGame(tiny_corner_layout, sa, [], gameDisplay, False, False)\n",
    "game.run()"
   ]
  },
  {
   "cell_type": "markdown",
   "metadata": {},
   "source": [
    "And you can also run the game on a map\n",
    "\n",
    "```\n",
    "sa = SearchAgent(fn=breadthFirstSearch, prob=CornersProblem)\n",
    "gameDisplay = NotebookGraphics(sleep_time=0.01)  # visualization\n",
    "game = rules.newGame(tiny_corner_layout, sa, [], gameDisplay, False, False)\n",
    "game.run()\n",
    "```"
   ]
  },
  {
   "cell_type": "markdown",
   "metadata": {},
   "source": [
    "## Heuristic Solution for the Corners Problem [9 Points]"
   ]
  },
  {
   "cell_type": "markdown",
   "metadata": {},
   "source": [
    "**Note:** Make sure to implement A\\* search before working on this assignment.\n",
    "\n",
    "Implement a non-trivial, consistent heuristic for the `CornersProblem` in `cornersHeuristic` below.\n",
    "\n",
    "**Admissibility vs. Consistency:** Remember, heuristics are just functions that take search states and return numbers that estimate the cost to a nearest goal. More effective heuristics will return values closer to the actual goal costs. To be admissible, the heuristic values must be lower bounds on the actual shortest path cost to the nearest goal (and non-negative). To be consistent, it must additionally hold that if an action has cost c, then taking that action can only cause a drop in heuristic of at most c.\n",
    "\n",
    "Remember that admissibility isn't enough to guarantee correctness in graph search &mdash; you need the stronger condition of consistency. However, admissible heuristics are usually also consistent, especially if they are derived from problem relaxations. Therefore it is usually easiest to start out by brainstorming admissible heuristics. Once you have an admissible heuristic that works well, you can check whether it is indeed consistent, too. The only way to guarantee consistency is with a proof. However, inconsistency can often be detected by verifying that for each node you expand, its successor nodes are equal or higher in in f-value. Moreover, if UCS and A\\* ever return paths of different lengths, your heuristic is inconsistent. This stuff is tricky!\n",
    "\n",
    "**Non-Trivial Heuristics:** The trivial heuristics are the ones that return zero everywhere (UCS) and the heuristic which computes the true completion cost. The former won't save you any time, while the latter will timeout the autograder. You want a heuristic which reduces total compute time, though for this assignment the autograder will only check node counts (aside from enforcing a reasonable time limit).\n",
    "\n",
    "Grading: Your heuristic must be a **non-trivial non-negative consistent** heuristic to receive any points. \n",
    "Make sure that your heuristic returns 0 at every goal state and never returns a negative value. \n",
    "Depending on how few nodes your heuristic expands, you'll be graded proportional to:\n",
    "\n",
    "The evaluation is based on the `mediumCorners` layout.\n",
    "\n",
    "Number of nodes expanded\t| Grade\n",
    "---|---\n",
    " more than 2000\t| 0/9\n",
    " at most 2000\t| 3/9\n",
    " at most 1600\t| 6/9\n",
    " at most 1200\t| 9/9\n",
    "\n",
    "**Remember:** If your heuristic is inconsistent, you will receive no credit, so be careful!"
   ]
  },
  {
   "cell_type": "markdown",
   "metadata": {},
   "source": [
    "**Yet another note**: If you are unsure whether your A\\* implementation is correct, you can use a reference implementation to try out your heuristics on the testcases of the autograder. To use this, put \n",
    "   \n",
    "    USE_REFERENCE_ASTAR = True\n",
    "\n",
    "in your submission. In that case, 3 points for each of the two heuristics exercises will be deducted if you get any points using the reference implementation, so you should still try to fix your A\\* &mdash; if it works with the reference and not with yours, there is very likely an error."
   ]
  },
  {
   "cell_type": "code",
   "execution_count": 18,
   "metadata": {
    "collapsed": false
   },
   "outputs": [],
   "source": [
    "def cornersHeuristic(state, problem):\n",
    "    \"\"\"\n",
    "    A heuristic for the CornersProblem that you defined.\n",
    "\n",
    "      state:   The current search state\n",
    "               (a data structure you chose in your search problem)\n",
    "\n",
    "      problem: The CornersProblem instance for this layout.\n",
    "\n",
    "    This function should always return a number that is a lower bound\n",
    "    on the shortest path from the state to a goal of the problem; i.e.\n",
    "    it should be admissible (as well as consistent).\n",
    "    \"\"\"\n",
    "    corners = problem.corners # These are the corner coordinates\n",
    "    walls = problem.walls # These are the walls of the maze, as a Grid (game.py)\n",
    "\n",
    "    \"*** YOUR CODE HERE ***\"\n",
    "    node = state[0]\n",
    "    visitedCorners = set(state[1])\n",
    "    x, y = node\n",
    "    corners = set(corners)\n",
    "    unVisitedCorners = list(corners - visitedCorners)\n",
    "    lengthUnvisitedCorners = len(unVisitedCorners)\n",
    "\n",
    "    if lengthUnvisitedCorners == 0:\n",
    "        return 0\n",
    "\n",
    "    if lengthUnvisitedCorners == 1:\n",
    "        xPoint, yPoint = unVisitedCorners[0]\n",
    "        return abs(x - xPoint) + abs(y - yPoint)\n",
    "\n",
    "    h = 0\n",
    "    nodeToNearestCorner = 9999\n",
    "    for i in unVisitedCorners:\n",
    "        xPoint, yPoint = i\n",
    "        if abs(x - xPoint) + abs(y - yPoint) < nodeToNearestCorner:\n",
    "            nodeToNearestCorner = abs(x - xPoint) + abs(y - yPoint)\n",
    "            startCornerPoint = i\n",
    "    h = nodeToNearestCorner\n",
    "\n",
    "    unVisitedCorners.remove(startCornerPoint)\n",
    "\n",
    "    while len(unVisitedCorners) != 0:\n",
    "        x, y = startCornerPoint\n",
    "        nodeToNearestCorner = 9999\n",
    "        for i in unVisitedCorners:\n",
    "            xPoint, yPoint = i\n",
    "            if abs(x - xPoint) + abs(y - yPoint) < nodeToNearestCorner:\n",
    "                nodeToNearestCorner = abs(x - xPoint) + abs(y - yPoint)\n",
    "                startCornerPoint = i\n",
    "        h += nodeToNearestCorner\n",
    "        unVisitedCorners.remove(startCornerPoint)\n",
    "    return h"
   ]
  },
  {
   "cell_type": "code",
   "execution_count": 19,
   "metadata": {
    "collapsed": false
   },
   "outputs": [],
   "source": [
    "class AStarCornersAgent(SearchAgent):\n",
    "    \"\"\"A SearchAgent for CornersProblem using A* and your cornersHeuristic\n",
    "    \n",
    "    No need to change anything here.\n",
    "    \"\"\"\n",
    "    def __init__(self):\n",
    "        self.searchFunction = lambda prob: aStarSearch(prob, cornersHeuristic)\n",
    "        self.searchType = CornersProblem"
   ]
  },
  {
   "cell_type": "markdown",
   "metadata": {},
   "source": [
    "Get the number of expanded states to see how much improvement the heuristic provides over the naive heuristic:"
   ]
  },
  {
   "cell_type": "code",
   "execution_count": 20,
   "metadata": {
    "collapsed": false
   },
   "outputs": [
    {
     "name": "stdout",
     "output_type": "stream",
     "text": [
      "number of expanded states 901\n"
     ]
    }
   ],
   "source": [
    "tiny_corner_layout = layout.getLayout('tinyCorners')\n",
    "medium_corner_layout = layout.getLayout('mediumCorners')\n",
    "big_corner_layout = layout.getLayout('bigCorners')\n",
    "\n",
    "gameState = pacman.GameState()\n",
    "gameState.initialize(medium_corner_layout, 0)\n",
    "\n",
    "problem = CornersProblem(gameState)\n",
    "\n",
    "aStarSearch(problem, cornersHeuristic);\n",
    "print 'number of expanded states', problem._expanded"
   ]
  },
  {
   "cell_type": "markdown",
   "metadata": {},
   "source": [
    "and run the game\n",
    "\n",
    "```python\n",
    "sa = AStarCornersAgent()\n",
    "gameDisplay = NotebookGraphics(sleep_time=0.01)  # visualization\n",
    "game = rules.newGame(layout.getLayout('bigCorners'), sa, [], gameDisplay, False, False)\n",
    "game.run()\n",
    "```"
   ]
  },
  {
   "cell_type": "markdown",
   "metadata": {},
   "source": [
    "## Food Search Problem [12+ Points]"
   ]
  },
  {
   "cell_type": "markdown",
   "metadata": {},
   "source": [
    "This is the code we will be working with for this exercise:"
   ]
  },
  {
   "cell_type": "code",
   "execution_count": 21,
   "metadata": {
    "collapsed": false
   },
   "outputs": [],
   "source": [
    "class AStarFoodSearchAgent(SearchAgent):\n",
    "    \"\"\"A SearchAgent for FoodSearchProblem using A* and your foodHeuristic\n",
    "    \n",
    "    No need to change anything here.\n",
    "    \"\"\"\n",
    "    def __init__(self):\n",
    "        self.searchFunction = lambda prob: aStarSearch(prob, foodHeuristic)\n",
    "        self.searchType = FoodSearchProblem"
   ]
  },
  {
   "cell_type": "code",
   "execution_count": 22,
   "metadata": {
    "collapsed": false
   },
   "outputs": [],
   "source": [
    "class FoodSearchProblem:\n",
    "    \"\"\"\n",
    "    A search problem associated with finding a path that collects all of the\n",
    "    food (dots) in a Pacman game.\n",
    "\n",
    "    A search state in this problem is a tuple ( pacmanPosition, foodGrid ) where\n",
    "      pacmanPosition: a tuple (x,y) of integers specifying Pacman's position\n",
    "      foodGrid:       a Grid (see pac.game module) of either True or False, specifying remaining food\n",
    "    \"\"\"\n",
    "    def __init__(self, startingGameState):\n",
    "        self.start = (startingGameState.getPacmanPosition(), startingGameState.getFood())\n",
    "        self.walls = startingGameState.getWalls()\n",
    "        self.startingGameState = startingGameState\n",
    "        self._expanded = 0\n",
    "        self.heuristicInfo = {} # A dictionary for the heuristic to store information\n",
    "\n",
    "    def getStartState(self):\n",
    "        return self.start\n",
    "\n",
    "    def isGoalState(self, state):\n",
    "        return state[1].count() == 0\n",
    "\n",
    "    def getSuccessors(self, state):\n",
    "        \"Returns successor states, the actions they require, and a cost of 1.\"\n",
    "        successors = []\n",
    "        self._expanded += 1\n",
    "        for direction in [Directions.NORTH, Directions.SOUTH, Directions.EAST, Directions.WEST]:\n",
    "            x,y = state[0]\n",
    "            dx, dy = Actions.directionToVector(direction)\n",
    "            nextx, nexty = int(x + dx), int(y + dy)\n",
    "            if not self.walls[nextx][nexty]:\n",
    "                nextFood = state[1].copy()\n",
    "                nextFood[nextx][nexty] = False\n",
    "                successors.append( ( ((nextx, nexty), nextFood), direction, 1) )\n",
    "        return successors\n",
    "\n",
    "    def getCostOfActions(self, actions):\n",
    "        \"\"\"Returns the cost of a particular sequence of actions.  If those actions\n",
    "        include an illegal move, return 999999\"\"\"\n",
    "        x,y= self.getStartState()[0]\n",
    "        cost = 0\n",
    "        for action in actions:\n",
    "            # figure out the next state and see whether it's legal\n",
    "            dx, dy = Actions.directionToVector(action)\n",
    "            x, y = int(x + dx), int(y + dy)\n",
    "            if self.walls[x][y]:\n",
    "                return 999999\n",
    "            cost += 1\n",
    "        return cost"
   ]
  },
  {
   "cell_type": "markdown",
   "metadata": {},
   "source": [
    "### Eating All The Dots\n",
    "\n",
    "Now we'll solve a hard search problem: eating all the Pacman food in as few steps as possible. \n",
    "For this, we'll need a new search problem definition which formalizes the food-clearing problem: `FoodSearchProblem` as defined below. \n",
    "A solution is defined to be a path that collects all of the food in the Pacman world. For the present project, solutions do not take into account any ghosts or power pellets; solutions only depend on the placement of walls, regular food and Pacman. \n",
    "(Of course ghosts can ruin the execution of a solution!).\n",
    "If you have written your general search methods correctly, A\\* with a null heuristic (equivalent to uniform-cost search) should quickly find an optimal solution on the `testSearch` layout with no code change on your part (total cost of 7).\n",
    "\n",
    "```\n",
    "sa = AStarFoodSearchAgent()\n",
    "gameDisplay = NotebookGraphics(sleep_time=0.1)\n",
    "game = rules.newGame(layout.getLayout('testSearch'), sa, [], gameDisplay, False, False)\n",
    "game.run()\n",
    "```\n",
    "\n",
    "`AStarFoodSearchAgent` is a shortcut for `SearchAgent(fn=lambda pb: astar(pb, foodHeuristic), prob=FoodSearchProblem)`.\n",
    "It is implemented above.\n",
    "\n",
    "You should find that UCS starts to slow down even for the seemingly simple `tinySearch`. \n",
    "\n",
    "**Note:** Make sure to implement A\\* search before working on this assignment.\n",
    "\n",
    "Our UCS agent finds the optimal solution after exploring over 16,000 nodes.\n",
    "\n",
    "Any non-trivial non-negative consistent heuristic will receive 1 point.\n",
    "Make sure that your heuristic returns 0 at every goal state and never returns a negative value.\n",
    "Depending on how few nodes your heuristic expands, you'll get additional points:\n",
    "\n",
    "Number of nodes expanded |\tGrade (proportional)\n",
    "--- | ---\n",
    "more than 15000\t| 3/12\n",
    "at most 15000\t| 6/12\n",
    "at most 12000\t| 9/12\n",
    "at most 9000\t| 12/12 (full credit; medium)\n",
    "at most 7000\t| 15/12 (optional extra credit; hard)\n",
    "\n",
    "Remember: If your heuristic is inconsistent, you will receive no credit, so be careful!"
   ]
  },
  {
   "cell_type": "markdown",
   "metadata": {},
   "source": [
    "This heuristic must be consistent to ensure correctness.  \n",
    "First, try to come up with an admissible heuristic; almost all admissible heuristics will be consistent as well.\n",
    "\n",
    "\n",
    "If using A\\* ever finds a solution that is worse than what uniform cost search finds, your heuristic is *not* consistent, and probably not admissible!\n",
    "On the other hand, inadmissible or inconsistent heuristics may find optimal solutions, so be careful.\n",
    "\n",
    "The state is a tuple `(pacmanPosition, foodGrid)` where `foodGrid` is a `game.Grid` of either `True` or `False`. \n",
    "You can call `foodGrid.asList()` to get a list of food coordinates instead.\n",
    "\n",
    "If you want access to info like walls, capsules, etc., you can query the problem.\n",
    "For example, `problem.walls` gives you a `Grid` of where the walls are.\n",
    "\n",
    "If you want to *store* information to be reused in other calls to the heuristic, there is a dictionary called `problem.heuristicInfo` that you can use. \n",
    "For example, if you only want to count the walls once and store that value, try:\n",
    "\n",
    "```python\n",
    "  problem.heuristicInfo['wallCount'] = problem.walls.count()\n",
    "```\n",
    "\n",
    "Subsequent calls to this heuristic can access `problem.heuristicInfo['wallCount']`.\n",
    "\n",
    "Remember that you can also use the **reference A\\* implementation** for this exercise as described above; however, if you do, you will get 3 points less than with your own A\\* implementation."
   ]
  },
  {
   "cell_type": "code",
   "execution_count": 23,
   "metadata": {
    "collapsed": false,
    "scrolled": true
   },
   "outputs": [],
   "source": [
    "def foodHeuristic(state, problem):\n",
    "    \"\"\"\n",
    "    Your heuristic for the FoodSearchProblem goes here.\n",
    "    \"\"\"\n",
    "    position, foodGrid = state\n",
    "    x, y = position\n",
    "    \"*** YOUR CODE HERE ***\"\n",
    "    def mazeDistance(point1, point2, gameState):\n",
    "        \"\"\"\n",
    "        Returns the maze distance between any two points, using the search functions\n",
    "        you have already built. The gameState can be any game state -- Pacman's\n",
    "        position in that state is ignored.\n",
    "\n",
    "        Example usage: mazeDistance( (2,4), (5,6), gameState)\n",
    "\n",
    "        This might be a useful helper function for your ApproximateSearchAgent.\n",
    "        \"\"\"\n",
    "        x1, y1 = point1\n",
    "        x2, y2 = point2\n",
    "        walls = gameState.getWalls()\n",
    "        assert not walls[x1][y1], 'point1 is a wall: ' + str(point1)\n",
    "        assert not walls[x2][y2], 'point2 is a wall: ' + str(point2)\n",
    "        prob = PositionSearchProblem(gameState, start=point1, goal=point2, warn=False, visualize=False)\n",
    "        return len(bfs(prob))\n",
    "\n",
    "    foodList = foodGrid.asList()\n",
    "    if len(foodList) == 0:\n",
    "        return 0\n",
    "    \n",
    "    if len(foodList) == 1:\n",
    "        return mazeDistance(position, foodList[0], problem.startingGameState)\n",
    "\n",
    "    foodListCopy = [i for i in foodList]\n",
    "    h = 0\n",
    "    for i in foodList:\n",
    "        foodListCopy.remove(i)\n",
    "        for j in foodListCopy:\n",
    "            if mazeDistance(i, j, problem.startingGameState) > h:\n",
    "                h = mazeDistance(i, j, problem.startingGameState)\n",
    "                point1, point2 = i, j\n",
    "    if mazeDistance(position, point1, problem.startingGameState) > mazeDistance(position, point2, problem.startingGameState):\n",
    "        h += mazeDistance(position, point2, problem.startingGameState)\n",
    "    else:\n",
    "        h += mazeDistance(position, point1, problem.startingGameState)\n",
    "    return h"
   ]
  },
  {
   "cell_type": "markdown",
   "metadata": {},
   "source": [
    "Fill in `foodHeuristic` below with a consistent heuristic for the `FoodSearchProblem`.\n",
    "Try your agent on the `trickySearch` board:"
   ]
  },
  {
   "cell_type": "code",
   "execution_count": 24,
   "metadata": {
    "collapsed": false
   },
   "outputs": [
    {
     "data": {
      "application/javascript": [
       "\n",
       "\n",
       "(function(window) {\n",
       "    function setupCanvas(width, height) {\n",
       "\n",
       "        var canvas = $('#myCanvas')[0];\n",
       "        if (!(canvas===undefined)) {\n",
       "            console.log('deleting canvas');\n",
       "            canvas.parentElement.removeChild(canvas);\n",
       "        }\n",
       "        element.html(\"<canvas width=\"+width+\" height=\"+height+\" id='myCanvas'></canvas>\");\n",
       "        container.show();\n",
       "    }\n",
       "\n",
       "    var Game;\n",
       "    var intervalId;\n",
       "    function initGame(width, height, obj) {\n",
       "        require([\"../static/GameReduced.js\"], function(GGame) {\n",
       "            Game = GGame;\n",
       "            Game.setCanvas();\n",
       "            Game.initCanvas(width, height);\n",
       "            Game.setMaze(obj);\n",
       "        });\n",
       "    };\n",
       "    function setBeans(b) {\n",
       "        Game.setBeans(b);\n",
       "    };\n",
       "    function setPowerBeans(b) {\n",
       "        Game.setPowerBeans(b);\n",
       "    };\n",
       "    function placePac(x, y, d) {Game.placePacman(x, y, d);};\n",
       "    function placeGhost(i, x, y, c, d, s, b) {Game.placeGhost(i, x, y, c, d, s, b);};\n",
       "\n",
       "    function start() {Game.initMaze(); Game.startGame();};\n",
       "    function stop() {Game.stopGame()};\n",
       "\n",
       "    function rb(x, y) {Game.removeBean(x, y);};\n",
       "    window.GameModule = {\n",
       "        initGame: function (width, height, obj) {\n",
       "            initGame(width, height, obj);\n",
       "        },\n",
       "        setupCanvas: function(w, h){ setupCanvas(w, h); },\n",
       "        setBeans: function(b){ setBeans(b); },\n",
       "        setPowerBeans: function(b){ setPowerBeans(b); },\n",
       "        placePacman: function(x, y, d) {placePac(x, y, d);},\n",
       "        placeGhost: function(i, x, y, c, d, s, b) {placeGhost(i, x, y, c, d, s ,b);},\n",
       "        startGame: function() {start();},\n",
       "        stopGame: function() {stop();},\n",
       "        removeBean: function(x, y) {rb(x, y);}\n",
       "    }\n",
       "})(window);\n",
       "\n"
      ],
      "text/plain": [
       "<IPython.core.display.Javascript object>"
      ]
     },
     "metadata": {},
     "output_type": "display_data"
    },
    {
     "data": {
      "application/javascript": [
       "window.GameModule.setupCanvas(600, 210)"
      ],
      "text/plain": [
       "<IPython.core.display.Javascript object>"
      ]
     },
     "metadata": {},
     "output_type": "display_data"
    },
    {
     "data": {
      "application/javascript": [
       "window.GameModule.initGame(600, 210, [[0, 8, 8, 8, 8, 8, 8, 8, 8, 8, 8, 8, 8, 8, 8, 8, 8, 8, 8, 0], [4, 3, 10, 10, 2, 10, 10, 2, 10, 10, 2, 10, 10, 2, 14, 5, 3, 10, 6, 1], [4, 5, 11, 14, 5, 11, 14, 5, 11, 14, 5, 11, 14, 5, 11, 12, 5, 7, 5, 1], [4, 9, 10, 10, 8, 10, 10, 8, 10, 10, 8, 10, 10, 8, 10, 10, 12, 5, 5, 1], [4, 10, 10, 10, 10, 10, 10, 10, 10, 10, 10, 10, 10, 10, 10, 10, 10, 12, 5, 1], [4, 11, 10, 10, 10, 10, 10, 10, 10, 10, 10, 10, 10, 10, 10, 10, 10, 10, 12, 1], [0, 2, 2, 2, 2, 2, 2, 2, 2, 2, 2, 2, 2, 2, 2, 2, 2, 2, 2, 0]]);"
      ],
      "text/plain": [
       "<IPython.core.display.Javascript object>"
      ]
     },
     "metadata": {},
     "output_type": "display_data"
    },
    {
     "data": {
      "application/javascript": [
       "\n",
       "    window.GameModule.setBeans(JSON.parse(\"[[1, 5], [1, 2], [1, 1], [2, 5], [3, 5], [4, 5], [4, 2], [5, 5], [7, 2], [10, 2], [13, 2], [13, 1], [14, 1]]\"));\n",
       "    window.GameModule.setPowerBeans(JSON.parse(\"[]\"));\n",
       "    "
      ],
      "text/plain": [
       "<IPython.core.display.Javascript object>"
      ]
     },
     "metadata": {},
     "output_type": "display_data"
    },
    {
     "data": {
      "application/javascript": [
       "window.GameModule.placePacman(285, 105, 1)"
      ],
      "text/plain": [
       "<IPython.core.display.Javascript object>"
      ]
     },
     "metadata": {},
     "output_type": "display_data"
    },
    {
     "data": {
      "application/javascript": [
       "window.GameModule.startGame()"
      ],
      "text/plain": [
       "<IPython.core.display.Javascript object>"
      ]
     },
     "metadata": {},
     "output_type": "display_data"
    },
    {
     "name": "stdout",
     "output_type": "stream",
     "text": [
      "Path found with total cost of 60 in 9.5 seconds\n",
      "Search nodes expanded: 376\n"
     ]
    },
    {
     "data": {
      "application/javascript": [
       "window.GameModule.placePacman(255, 105, 3)"
      ],
      "text/plain": [
       "<IPython.core.display.Javascript object>"
      ]
     },
     "metadata": {},
     "output_type": "display_data"
    },
    {
     "data": {
      "application/javascript": [
       "window.GameModule.placePacman(225, 105, 3)"
      ],
      "text/plain": [
       "<IPython.core.display.Javascript object>"
      ]
     },
     "metadata": {},
     "output_type": "display_data"
    },
    {
     "data": {
      "application/javascript": [
       "window.GameModule.placePacman(195, 105, 3)"
      ],
      "text/plain": [
       "<IPython.core.display.Javascript object>"
      ]
     },
     "metadata": {},
     "output_type": "display_data"
    },
    {
     "data": {
      "application/javascript": [
       "window.GameModule.placePacman(165, 105, 3)"
      ],
      "text/plain": [
       "<IPython.core.display.Javascript object>"
      ]
     },
     "metadata": {},
     "output_type": "display_data"
    },
    {
     "data": {
      "application/javascript": [
       "window.GameModule.placePacman(135, 105, 3)"
      ],
      "text/plain": [
       "<IPython.core.display.Javascript object>"
      ]
     },
     "metadata": {},
     "output_type": "display_data"
    },
    {
     "data": {
      "application/javascript": [
       "window.GameModule.placePacman(135, 75, 1)"
      ],
      "text/plain": [
       "<IPython.core.display.Javascript object>"
      ]
     },
     "metadata": {},
     "output_type": "display_data"
    },
    {
     "data": {
      "application/javascript": [
       "window.GameModule.removeBean(4, 2);"
      ],
      "text/plain": [
       "<IPython.core.display.Javascript object>"
      ]
     },
     "metadata": {},
     "output_type": "display_data"
    },
    {
     "data": {
      "application/javascript": [
       "window.GameModule.placePacman(135, 45, 1)"
      ],
      "text/plain": [
       "<IPython.core.display.Javascript object>"
      ]
     },
     "metadata": {},
     "output_type": "display_data"
    },
    {
     "data": {
      "application/javascript": [
       "window.GameModule.placePacman(105, 45, 3)"
      ],
      "text/plain": [
       "<IPython.core.display.Javascript object>"
      ]
     },
     "metadata": {},
     "output_type": "display_data"
    },
    {
     "data": {
      "application/javascript": [
       "window.GameModule.placePacman(75, 45, 3)"
      ],
      "text/plain": [
       "<IPython.core.display.Javascript object>"
      ]
     },
     "metadata": {},
     "output_type": "display_data"
    },
    {
     "data": {
      "application/javascript": [
       "window.GameModule.placePacman(45, 45, 3)"
      ],
      "text/plain": [
       "<IPython.core.display.Javascript object>"
      ]
     },
     "metadata": {},
     "output_type": "display_data"
    },
    {
     "data": {
      "application/javascript": [
       "window.GameModule.removeBean(1, 1);"
      ],
      "text/plain": [
       "<IPython.core.display.Javascript object>"
      ]
     },
     "metadata": {},
     "output_type": "display_data"
    },
    {
     "data": {
      "application/javascript": [
       "window.GameModule.placePacman(45, 75, 2)"
      ],
      "text/plain": [
       "<IPython.core.display.Javascript object>"
      ]
     },
     "metadata": {},
     "output_type": "display_data"
    },
    {
     "data": {
      "application/javascript": [
       "window.GameModule.removeBean(1, 2);"
      ],
      "text/plain": [
       "<IPython.core.display.Javascript object>"
      ]
     },
     "metadata": {},
     "output_type": "display_data"
    },
    {
     "data": {
      "application/javascript": [
       "window.GameModule.placePacman(45, 105, 2)"
      ],
      "text/plain": [
       "<IPython.core.display.Javascript object>"
      ]
     },
     "metadata": {},
     "output_type": "display_data"
    },
    {
     "data": {
      "application/javascript": [
       "window.GameModule.placePacman(75, 105, 4)"
      ],
      "text/plain": [
       "<IPython.core.display.Javascript object>"
      ]
     },
     "metadata": {},
     "output_type": "display_data"
    },
    {
     "data": {
      "application/javascript": [
       "window.GameModule.placePacman(105, 105, 4)"
      ],
      "text/plain": [
       "<IPython.core.display.Javascript object>"
      ]
     },
     "metadata": {},
     "output_type": "display_data"
    },
    {
     "data": {
      "application/javascript": [
       "window.GameModule.placePacman(135, 105, 4)"
      ],
      "text/plain": [
       "<IPython.core.display.Javascript object>"
      ]
     },
     "metadata": {},
     "output_type": "display_data"
    },
    {
     "data": {
      "application/javascript": [
       "window.GameModule.placePacman(165, 105, 4)"
      ],
      "text/plain": [
       "<IPython.core.display.Javascript object>"
      ]
     },
     "metadata": {},
     "output_type": "display_data"
    },
    {
     "data": {
      "application/javascript": [
       "window.GameModule.placePacman(195, 105, 4)"
      ],
      "text/plain": [
       "<IPython.core.display.Javascript object>"
      ]
     },
     "metadata": {},
     "output_type": "display_data"
    },
    {
     "data": {
      "application/javascript": [
       "window.GameModule.placePacman(225, 105, 4)"
      ],
      "text/plain": [
       "<IPython.core.display.Javascript object>"
      ]
     },
     "metadata": {},
     "output_type": "display_data"
    },
    {
     "data": {
      "application/javascript": [
       "window.GameModule.placePacman(225, 75, 1)"
      ],
      "text/plain": [
       "<IPython.core.display.Javascript object>"
      ]
     },
     "metadata": {},
     "output_type": "display_data"
    },
    {
     "data": {
      "application/javascript": [
       "window.GameModule.removeBean(7, 2);"
      ],
      "text/plain": [
       "<IPython.core.display.Javascript object>"
      ]
     },
     "metadata": {},
     "output_type": "display_data"
    },
    {
     "data": {
      "application/javascript": [
       "window.GameModule.placePacman(225, 45, 1)"
      ],
      "text/plain": [
       "<IPython.core.display.Javascript object>"
      ]
     },
     "metadata": {},
     "output_type": "display_data"
    },
    {
     "data": {
      "application/javascript": [
       "window.GameModule.placePacman(255, 45, 4)"
      ],
      "text/plain": [
       "<IPython.core.display.Javascript object>"
      ]
     },
     "metadata": {},
     "output_type": "display_data"
    },
    {
     "data": {
      "application/javascript": [
       "window.GameModule.placePacman(285, 45, 4)"
      ],
      "text/plain": [
       "<IPython.core.display.Javascript object>"
      ]
     },
     "metadata": {},
     "output_type": "display_data"
    },
    {
     "data": {
      "application/javascript": [
       "window.GameModule.placePacman(315, 45, 4)"
      ],
      "text/plain": [
       "<IPython.core.display.Javascript object>"
      ]
     },
     "metadata": {},
     "output_type": "display_data"
    },
    {
     "data": {
      "application/javascript": [
       "window.GameModule.placePacman(315, 75, 2)"
      ],
      "text/plain": [
       "<IPython.core.display.Javascript object>"
      ]
     },
     "metadata": {},
     "output_type": "display_data"
    },
    {
     "data": {
      "application/javascript": [
       "window.GameModule.removeBean(10, 2);"
      ],
      "text/plain": [
       "<IPython.core.display.Javascript object>"
      ]
     },
     "metadata": {},
     "output_type": "display_data"
    },
    {
     "data": {
      "application/javascript": [
       "window.GameModule.placePacman(315, 45, 1)"
      ],
      "text/plain": [
       "<IPython.core.display.Javascript object>"
      ]
     },
     "metadata": {},
     "output_type": "display_data"
    },
    {
     "data": {
      "application/javascript": [
       "window.GameModule.placePacman(345, 45, 4)"
      ],
      "text/plain": [
       "<IPython.core.display.Javascript object>"
      ]
     },
     "metadata": {},
     "output_type": "display_data"
    },
    {
     "data": {
      "application/javascript": [
       "window.GameModule.placePacman(375, 45, 4)"
      ],
      "text/plain": [
       "<IPython.core.display.Javascript object>"
      ]
     },
     "metadata": {},
     "output_type": "display_data"
    },
    {
     "data": {
      "application/javascript": [
       "window.GameModule.placePacman(405, 45, 4)"
      ],
      "text/plain": [
       "<IPython.core.display.Javascript object>"
      ]
     },
     "metadata": {},
     "output_type": "display_data"
    },
    {
     "data": {
      "application/javascript": [
       "window.GameModule.removeBean(13, 1);"
      ],
      "text/plain": [
       "<IPython.core.display.Javascript object>"
      ]
     },
     "metadata": {},
     "output_type": "display_data"
    },
    {
     "data": {
      "application/javascript": [
       "window.GameModule.placePacman(435, 45, 4)"
      ],
      "text/plain": [
       "<IPython.core.display.Javascript object>"
      ]
     },
     "metadata": {},
     "output_type": "display_data"
    },
    {
     "data": {
      "application/javascript": [
       "window.GameModule.removeBean(14, 1);"
      ],
      "text/plain": [
       "<IPython.core.display.Javascript object>"
      ]
     },
     "metadata": {},
     "output_type": "display_data"
    },
    {
     "data": {
      "application/javascript": [
       "window.GameModule.placePacman(405, 45, 3)"
      ],
      "text/plain": [
       "<IPython.core.display.Javascript object>"
      ]
     },
     "metadata": {},
     "output_type": "display_data"
    },
    {
     "data": {
      "application/javascript": [
       "window.GameModule.placePacman(405, 75, 2)"
      ],
      "text/plain": [
       "<IPython.core.display.Javascript object>"
      ]
     },
     "metadata": {},
     "output_type": "display_data"
    },
    {
     "data": {
      "application/javascript": [
       "window.GameModule.removeBean(13, 2);"
      ],
      "text/plain": [
       "<IPython.core.display.Javascript object>"
      ]
     },
     "metadata": {},
     "output_type": "display_data"
    },
    {
     "data": {
      "application/javascript": [
       "window.GameModule.placePacman(405, 105, 2)"
      ],
      "text/plain": [
       "<IPython.core.display.Javascript object>"
      ]
     },
     "metadata": {},
     "output_type": "display_data"
    },
    {
     "data": {
      "application/javascript": [
       "window.GameModule.placePacman(435, 105, 4)"
      ],
      "text/plain": [
       "<IPython.core.display.Javascript object>"
      ]
     },
     "metadata": {},
     "output_type": "display_data"
    },
    {
     "data": {
      "application/javascript": [
       "window.GameModule.placePacman(465, 105, 4)"
      ],
      "text/plain": [
       "<IPython.core.display.Javascript object>"
      ]
     },
     "metadata": {},
     "output_type": "display_data"
    },
    {
     "data": {
      "application/javascript": [
       "window.GameModule.placePacman(495, 105, 4)"
      ],
      "text/plain": [
       "<IPython.core.display.Javascript object>"
      ]
     },
     "metadata": {},
     "output_type": "display_data"
    },
    {
     "data": {
      "application/javascript": [
       "window.GameModule.placePacman(495, 75, 1)"
      ],
      "text/plain": [
       "<IPython.core.display.Javascript object>"
      ]
     },
     "metadata": {},
     "output_type": "display_data"
    },
    {
     "data": {
      "application/javascript": [
       "window.GameModule.placePacman(495, 45, 1)"
      ],
      "text/plain": [
       "<IPython.core.display.Javascript object>"
      ]
     },
     "metadata": {},
     "output_type": "display_data"
    },
    {
     "data": {
      "application/javascript": [
       "window.GameModule.placePacman(525, 45, 4)"
      ],
      "text/plain": [
       "<IPython.core.display.Javascript object>"
      ]
     },
     "metadata": {},
     "output_type": "display_data"
    },
    {
     "data": {
      "application/javascript": [
       "window.GameModule.placePacman(555, 45, 4)"
      ],
      "text/plain": [
       "<IPython.core.display.Javascript object>"
      ]
     },
     "metadata": {},
     "output_type": "display_data"
    },
    {
     "data": {
      "application/javascript": [
       "window.GameModule.placePacman(555, 75, 2)"
      ],
      "text/plain": [
       "<IPython.core.display.Javascript object>"
      ]
     },
     "metadata": {},
     "output_type": "display_data"
    },
    {
     "data": {
      "application/javascript": [
       "window.GameModule.placePacman(555, 105, 2)"
      ],
      "text/plain": [
       "<IPython.core.display.Javascript object>"
      ]
     },
     "metadata": {},
     "output_type": "display_data"
    },
    {
     "data": {
      "application/javascript": [
       "window.GameModule.placePacman(555, 135, 2)"
      ],
      "text/plain": [
       "<IPython.core.display.Javascript object>"
      ]
     },
     "metadata": {},
     "output_type": "display_data"
    },
    {
     "data": {
      "application/javascript": [
       "window.GameModule.placePacman(555, 165, 2)"
      ],
      "text/plain": [
       "<IPython.core.display.Javascript object>"
      ]
     },
     "metadata": {},
     "output_type": "display_data"
    },
    {
     "data": {
      "application/javascript": [
       "window.GameModule.placePacman(525, 165, 3)"
      ],
      "text/plain": [
       "<IPython.core.display.Javascript object>"
      ]
     },
     "metadata": {},
     "output_type": "display_data"
    },
    {
     "data": {
      "application/javascript": [
       "window.GameModule.placePacman(495, 165, 3)"
      ],
      "text/plain": [
       "<IPython.core.display.Javascript object>"
      ]
     },
     "metadata": {},
     "output_type": "display_data"
    },
    {
     "data": {
      "application/javascript": [
       "window.GameModule.placePacman(465, 165, 3)"
      ],
      "text/plain": [
       "<IPython.core.display.Javascript object>"
      ]
     },
     "metadata": {},
     "output_type": "display_data"
    },
    {
     "data": {
      "application/javascript": [
       "window.GameModule.placePacman(435, 165, 3)"
      ],
      "text/plain": [
       "<IPython.core.display.Javascript object>"
      ]
     },
     "metadata": {},
     "output_type": "display_data"
    },
    {
     "data": {
      "application/javascript": [
       "window.GameModule.placePacman(405, 165, 3)"
      ],
      "text/plain": [
       "<IPython.core.display.Javascript object>"
      ]
     },
     "metadata": {},
     "output_type": "display_data"
    },
    {
     "data": {
      "application/javascript": [
       "window.GameModule.placePacman(375, 165, 3)"
      ],
      "text/plain": [
       "<IPython.core.display.Javascript object>"
      ]
     },
     "metadata": {},
     "output_type": "display_data"
    },
    {
     "data": {
      "application/javascript": [
       "window.GameModule.placePacman(345, 165, 3)"
      ],
      "text/plain": [
       "<IPython.core.display.Javascript object>"
      ]
     },
     "metadata": {},
     "output_type": "display_data"
    },
    {
     "data": {
      "application/javascript": [
       "window.GameModule.placePacman(315, 165, 3)"
      ],
      "text/plain": [
       "<IPython.core.display.Javascript object>"
      ]
     },
     "metadata": {},
     "output_type": "display_data"
    },
    {
     "data": {
      "application/javascript": [
       "window.GameModule.placePacman(285, 165, 3)"
      ],
      "text/plain": [
       "<IPython.core.display.Javascript object>"
      ]
     },
     "metadata": {},
     "output_type": "display_data"
    },
    {
     "data": {
      "application/javascript": [
       "window.GameModule.placePacman(255, 165, 3)"
      ],
      "text/plain": [
       "<IPython.core.display.Javascript object>"
      ]
     },
     "metadata": {},
     "output_type": "display_data"
    },
    {
     "data": {
      "application/javascript": [
       "window.GameModule.placePacman(225, 165, 3)"
      ],
      "text/plain": [
       "<IPython.core.display.Javascript object>"
      ]
     },
     "metadata": {},
     "output_type": "display_data"
    },
    {
     "data": {
      "application/javascript": [
       "window.GameModule.placePacman(195, 165, 3)"
      ],
      "text/plain": [
       "<IPython.core.display.Javascript object>"
      ]
     },
     "metadata": {},
     "output_type": "display_data"
    },
    {
     "data": {
      "application/javascript": [
       "window.GameModule.placePacman(165, 165, 3)"
      ],
      "text/plain": [
       "<IPython.core.display.Javascript object>"
      ]
     },
     "metadata": {},
     "output_type": "display_data"
    },
    {
     "data": {
      "application/javascript": [
       "window.GameModule.removeBean(5, 5);"
      ],
      "text/plain": [
       "<IPython.core.display.Javascript object>"
      ]
     },
     "metadata": {},
     "output_type": "display_data"
    },
    {
     "data": {
      "application/javascript": [
       "window.GameModule.placePacman(135, 165, 3)"
      ],
      "text/plain": [
       "<IPython.core.display.Javascript object>"
      ]
     },
     "metadata": {},
     "output_type": "display_data"
    },
    {
     "data": {
      "application/javascript": [
       "window.GameModule.removeBean(4, 5);"
      ],
      "text/plain": [
       "<IPython.core.display.Javascript object>"
      ]
     },
     "metadata": {},
     "output_type": "display_data"
    },
    {
     "data": {
      "application/javascript": [
       "window.GameModule.placePacman(105, 165, 3)"
      ],
      "text/plain": [
       "<IPython.core.display.Javascript object>"
      ]
     },
     "metadata": {},
     "output_type": "display_data"
    },
    {
     "data": {
      "application/javascript": [
       "window.GameModule.removeBean(3, 5);"
      ],
      "text/plain": [
       "<IPython.core.display.Javascript object>"
      ]
     },
     "metadata": {},
     "output_type": "display_data"
    },
    {
     "data": {
      "application/javascript": [
       "window.GameModule.placePacman(75, 165, 3)"
      ],
      "text/plain": [
       "<IPython.core.display.Javascript object>"
      ]
     },
     "metadata": {},
     "output_type": "display_data"
    },
    {
     "data": {
      "application/javascript": [
       "window.GameModule.removeBean(2, 5);"
      ],
      "text/plain": [
       "<IPython.core.display.Javascript object>"
      ]
     },
     "metadata": {},
     "output_type": "display_data"
    },
    {
     "data": {
      "application/javascript": [
       "window.GameModule.placePacman(45, 165, 3)"
      ],
      "text/plain": [
       "<IPython.core.display.Javascript object>"
      ]
     },
     "metadata": {},
     "output_type": "display_data"
    },
    {
     "data": {
      "application/javascript": [
       "window.GameModule.removeBean(1, 5);"
      ],
      "text/plain": [
       "<IPython.core.display.Javascript object>"
      ]
     },
     "metadata": {},
     "output_type": "display_data"
    },
    {
     "name": "stdout",
     "output_type": "stream",
     "text": [
      "Pacman emerges victorious! Score: 570\n"
     ]
    },
    {
     "data": {
      "application/javascript": [
       "window.GameModule.stopGame();"
      ],
      "text/plain": [
       "<IPython.core.display.Javascript object>"
      ]
     },
     "metadata": {},
     "output_type": "display_data"
    }
   ],
   "source": [
    "sa = AStarFoodSearchAgent()\n",
    "gameDisplay = NotebookGraphics(sleep_time=0.1)  # visualization\n",
    "game = rules.newGame(layout.getLayout('trickySearch'), sa, [], gameDisplay, False, False)\n",
    "game.run()"
   ]
  },
  {
   "cell_type": "markdown",
   "metadata": {},
   "source": [
    "## Suboptimal Search [6 Points]\n",
    "\n",
    "Sometimes, even with A\\* and a good heuristic, finding the optimal path through all the dots is hard. \n",
    "In these cases, we'd still like to find a reasonably good path, quickly. \n",
    "In this section, you'll write an agent that always greedily eats the closest dot. \n",
    "`ClosestDotSearchAgent` is implemented for you below, but it's missing a key function that finds a path to the closest dot."
   ]
  },
  {
   "cell_type": "code",
   "execution_count": 25,
   "metadata": {
    "collapsed": false
   },
   "outputs": [],
   "source": [
    "class ClosestDotSearchAgent(SearchAgent):\n",
    "    \"Search for all food using a sequence of searches\"\n",
    "    def registerInitialState(self, state):\n",
    "        self.actions = []\n",
    "        currentState = state\n",
    "        while(currentState.getFood().count() > 0):\n",
    "            nextPathSegment = self.findPathToClosestDot(currentState) # The missing piece\n",
    "            self.actions += nextPathSegment\n",
    "            for action in nextPathSegment:\n",
    "                legal = currentState.getLegalActions()\n",
    "                if action not in legal:\n",
    "                    t = (str(action), str(currentState))\n",
    "                    raise Exception, 'findPathToClosestDot returned an illegal move: %s!\\n%s' % t\n",
    "                currentState = currentState.generateSuccessor(0, action)\n",
    "        self.actionIndex = 0\n",
    "        print 'Path found with cost %d.' % len(self.actions)\n",
    "\n",
    "    def findPathToClosestDot(self, gameState):\n",
    "        \"Returns a path (a list of actions) to the closest dot, starting from gameState\"\n",
    "        # Here are some useful elements of the startState\n",
    "        startPosition = gameState.getPacmanPosition()\n",
    "        food = gameState.getFood()\n",
    "        walls = gameState.getWalls()\n",
    "        problem = AnyFoodSearchProblem(gameState)\n",
    "\n",
    "        \"*** YOUR CODE HERE ***\"\n",
    "        actions = bfs(problem)\n",
    "\n",
    "        return actions"
   ]
  },
  {
   "cell_type": "code",
   "execution_count": null,
   "metadata": {
    "collapsed": false
   },
   "outputs": [],
   "source": [
    "class AnyFoodSearchProblem(PositionSearchProblem):\n",
    "    \"\"\"\n",
    "      A search problem for finding a path to any food.\n",
    "\n",
    "      This search problem is just like the PositionSearchProblem, but\n",
    "      has a different goal test, which you need to fill in below.  The\n",
    "      state space and successor function do not need to be changed.\n",
    "\n",
    "      The class definition above, AnyFoodSearchProblem(PositionSearchProblem),\n",
    "      inherits the methods of the PositionSearchProblem.\n",
    "\n",
    "      You can use this search problem to help you fill in\n",
    "      the findPathToClosestDot method.\n",
    "    \"\"\"\n",
    "\n",
    "    def __init__(self, gameState):\n",
    "        \"Stores information from the gameState.  You don't need to change this.\"\n",
    "        # Store the food for later reference\n",
    "        self.food = gameState.getFood()\n",
    "\n",
    "        # Store info for the PositionSearchProblem (no need to change this)\n",
    "        self.walls = gameState.getWalls()\n",
    "        self.startState = gameState.getPacmanPosition()\n",
    "        self.costFn = lambda x: 1\n",
    "        self._visited, self._visitedlist, self._expanded = {}, [], 0\n",
    "\n",
    "    def isGoalState(self, state):\n",
    "        \"\"\"\n",
    "        The state is Pacman's position. Fill this in with a goal test\n",
    "        that will complete the problem definition.\n",
    "        \"\"\"\n",
    "        x, y = state\n",
    "\n",
    "        \"*** YOUR CODE HERE ***\"\n",
    "        foodList = list(self.food.asList())\n",
    "    \n",
    "        nodeToNearestCorner = 9999\n",
    "        for i in foodList:\n",
    "            xPoint, yPoint = i\n",
    "            if abs(x - xPoint) + abs(y - yPoint) < nodeToNearestCorner:\n",
    "                nodeToNearestCorner = abs(x - xPoint) + abs(y - yPoint)\n",
    "                food = i\n",
    "        isGoal = state == food\n",
    "\n",
    "        # For display purposes only\n",
    "        return isGoal"
   ]
  },
  {
   "cell_type": "markdown",
   "metadata": {},
   "source": [
    "Implement the method `findPathToClosestDot`. \n",
    "Our agent solves this maze (suboptimally!) with a path cost of 350:\n",
    "\n",
    "**Hint:** The quickest way to complete `findPathToClosestDot` is to fill in the `AnyFoodSearchProblem`, which is missing its goal test. \n",
    "Then, solve that problem with an appropriate search function. \n",
    "The solution should be very short!\n",
    "\n",
    "Your `ClosestDotSearchAgent` won't always find the shortest possible path through the maze. \n",
    "Make sure you understand why and try to come up with a small example where repeatedly going to the closest dot does not result in finding the shortest path for eating all the dots."
   ]
  },
  {
   "cell_type": "code",
   "execution_count": null,
   "metadata": {
    "collapsed": false
   },
   "outputs": [
    {
     "data": {
      "application/javascript": [
       "\n",
       "\n",
       "(function(window) {\n",
       "    function setupCanvas(width, height) {\n",
       "\n",
       "        var canvas = $('#myCanvas')[0];\n",
       "        if (!(canvas===undefined)) {\n",
       "            console.log('deleting canvas');\n",
       "            canvas.parentElement.removeChild(canvas);\n",
       "        }\n",
       "        element.html(\"<canvas width=\"+width+\" height=\"+height+\" id='myCanvas'></canvas>\");\n",
       "        container.show();\n",
       "    }\n",
       "\n",
       "    var Game;\n",
       "    var intervalId;\n",
       "    function initGame(width, height, obj) {\n",
       "        require([\"../static/GameReduced.js\"], function(GGame) {\n",
       "            Game = GGame;\n",
       "            Game.setCanvas();\n",
       "            Game.initCanvas(width, height);\n",
       "            Game.setMaze(obj);\n",
       "        });\n",
       "    };\n",
       "    function setBeans(b) {\n",
       "        Game.setBeans(b);\n",
       "    };\n",
       "    function setPowerBeans(b) {\n",
       "        Game.setPowerBeans(b);\n",
       "    };\n",
       "    function placePac(x, y, d) {Game.placePacman(x, y, d);};\n",
       "    function placeGhost(i, x, y, c, d, s, b) {Game.placeGhost(i, x, y, c, d, s, b);};\n",
       "\n",
       "    function start() {Game.initMaze(); Game.startGame();};\n",
       "    function stop() {Game.stopGame()};\n",
       "\n",
       "    function rb(x, y) {Game.removeBean(x, y);};\n",
       "    window.GameModule = {\n",
       "        initGame: function (width, height, obj) {\n",
       "            initGame(width, height, obj);\n",
       "        },\n",
       "        setupCanvas: function(w, h){ setupCanvas(w, h); },\n",
       "        setBeans: function(b){ setBeans(b); },\n",
       "        setPowerBeans: function(b){ setPowerBeans(b); },\n",
       "        placePacman: function(x, y, d) {placePac(x, y, d);},\n",
       "        placeGhost: function(i, x, y, c, d, s, b) {placeGhost(i, x, y, c, d, s ,b);},\n",
       "        startGame: function() {start();},\n",
       "        stopGame: function() {stop();},\n",
       "        removeBean: function(x, y) {rb(x, y);}\n",
       "    }\n",
       "})(window);\n",
       "\n"
      ],
      "text/plain": [
       "<IPython.core.display.Javascript object>"
      ]
     },
     "metadata": {},
     "output_type": "display_data"
    },
    {
     "data": {
      "application/javascript": [
       "window.GameModule.setupCanvas(930, 450)"
      ],
      "text/plain": [
       "<IPython.core.display.Javascript object>"
      ]
     },
     "metadata": {},
     "output_type": "display_data"
    },
    {
     "data": {
      "application/javascript": [
       "window.GameModule.initGame(930, 450, [[0, 8, 8, 8, 8, 8, 8, 8, 8, 8, 8, 8, 8, 8, 8, 8, 8, 8, 8, 8, 8, 8, 8, 8, 8, 8, 8, 8, 8, 8, 0], [4, 3, 10, 10, 10, 6, 5, 3, 10, 10, 10, 2, 10, 10, 10, 10, 10, 10, 10, 2, 10, 10, 10, 6, 5, 3, 2, 2, 2, 6, 1], [4, 5, 3, 10, 14, 5, 5, 5, 3, 10, 14, 5, 11, 10, 10, 2, 10, 10, 14, 5, 11, 10, 6, 5, 5, 1, 0, 0, 0, 4, 1], [4, 5, 13, 3, 10, 12, 5, 5, 5, 3, 10, 8, 10, 10, 6, 5, 3, 10, 10, 8, 10, 6, 13, 5, 5, 9, 8, 0, 0, 4, 1], [4, 9, 10, 4, 3, 10, 4, 5, 5, 5, 3, 10, 10, 14, 5, 13, 5, 3, 10, 10, 6, 1, 10, 4, 9, 10, 6, 1, 8, 12, 1], [4, 10, 14, 5, 5, 7, 5, 13, 5, 5, 5, 3, 10, 10, 8, 2, 12, 5, 11, 6, 5, 5, 7, 9, 10, 6, 5, 5, 11, 10, 1], [4, 3, 10, 12, 5, 5, 9, 10, 12, 5, 13, 5, 3, 10, 14, 5, 11, 8, 6, 5, 13, 5, 9, 10, 14, 5, 5, 9, 10, 6, 1], [4, 5, 11, 10, 4, 1, 10, 10, 10, 8, 10, 4, 5, 11, 10, 8, 10, 14, 5, 1, 10, 0, 10, 10, 10, 4, 1, 10, 14, 5, 1], [4, 9, 10, 6, 5, 5, 11, 10, 2, 10, 6, 5, 9, 10, 10, 2, 10, 10, 12, 5, 7, 5, 3, 10, 14, 5, 5, 3, 10, 12, 1], [4, 10, 14, 5, 5, 9, 10, 6, 5, 7, 5, 9, 10, 10, 6, 5, 3, 10, 10, 12, 5, 5, 5, 3, 10, 12, 5, 5, 11, 10, 1], [4, 3, 2, 4, 9, 10, 14, 5, 5, 5, 9, 10, 10, 14, 5, 5, 5, 11, 10, 10, 12, 5, 5, 5, 11, 10, 12, 1, 10, 6, 1], [4, 1, 0, 0, 2, 2, 10, 4, 5, 9, 10, 2, 10, 10, 12, 5, 9, 10, 10, 2, 10, 12, 5, 1, 10, 2, 10, 12, 7, 5, 1], [4, 1, 0, 0, 0, 4, 7, 5, 9, 10, 14, 5, 11, 10, 10, 8, 10, 10, 14, 5, 3, 10, 12, 5, 7, 5, 11, 10, 12, 5, 1], [4, 9, 8, 8, 8, 12, 5, 9, 10, 10, 10, 8, 10, 10, 10, 10, 10, 10, 10, 12, 5, 11, 10, 12, 5, 9, 10, 10, 10, 12, 1], [0, 2, 2, 2, 2, 2, 2, 2, 2, 2, 2, 2, 2, 2, 2, 2, 2, 2, 2, 2, 2, 2, 2, 2, 2, 2, 2, 2, 2, 2, 0]]);"
      ],
      "text/plain": [
       "<IPython.core.display.Javascript object>"
      ]
     },
     "metadata": {},
     "output_type": "display_data"
    },
    {
     "data": {
      "application/javascript": [
       "\n",
       "    window.GameModule.setBeans(JSON.parse(\"[[1, 13], [1, 12], [1, 11], [1, 10], [1, 8], [1, 7], [1, 6], [1, 4], [1, 3], [1, 2], [1, 1], [2, 13], [2, 12], [2, 11], [2, 10], [2, 8], [2, 6], [2, 4], [2, 1], [3, 13], [3, 12], [3, 11], [3, 10], [3, 9], [3, 8], [3, 6], [3, 5], [3, 4], [3, 3], [3, 1], [4, 13], [4, 12], [4, 11], [4, 3], [4, 1], [5, 13], [5, 12], [5, 11], [5, 9], [5, 8], [5, 7], [5, 6], [5, 5], [5, 3], [5, 2], [5, 1], [6, 11], [6, 9], [6, 7], [7, 13], [7, 12], [7, 11], [7, 10], [7, 9], [7, 7], [7, 5], [7, 4], [7, 3], [7, 2], [7, 1], [8, 13], [8, 7], [8, 1], [9, 13], [9, 11], [9, 10], [9, 9], [9, 7], [9, 6], [9, 5], [9, 4], [9, 3], [9, 1], [10, 13], [10, 11], [10, 7], [10, 3], [10, 1], [11, 13], [11, 12], [11, 11], [11, 9], [11, 8], [11, 7], [11, 6], [11, 5], [11, 3], [11, 2], [11, 1], [12, 13], [12, 11], [12, 9], [12, 5], [12, 3], [12, 1], [13, 13], [13, 11], [13, 9], [13, 5], [13, 3], [13, 1], [14, 13], [14, 11], [14, 10], [14, 9], [14, 5], [14, 4], [14, 3], [14, 1], [15, 5], [15, 1], [16, 13], [16, 11], [16, 10], [16, 9], [16, 5], [16, 4], [16, 3], [16, 1], [17, 13], [17, 11], [17, 9], [17, 3], [17, 1], [18, 13], [18, 11], [18, 9], [18, 5], [18, 3], [18, 1], [19, 13], [19, 12], [19, 11], [19, 9], [19, 8], [19, 7], [19, 6], [19, 5], [19, 3], [19, 2], [19, 1], [20, 11], [20, 7], [20, 3], [20, 1], [21, 13], [21, 11], [21, 10], [21, 9], [21, 8], [21, 7], [21, 6], [21, 5], [21, 4], [21, 3], [21, 1], [22, 13], [22, 7], [22, 4], [22, 1], [23, 13], [23, 12], [23, 11], [23, 10], [23, 9], [23, 7], [23, 5], [23, 4], [23, 3], [23, 2], [23, 1], [24, 11], [24, 9], [24, 7], [24, 5], [25, 13], [25, 12], [25, 11], [25, 9], [25, 8], [25, 7], [25, 6], [25, 5], [25, 3], [25, 2], [25, 1], [26, 13], [26, 11], [26, 3], [26, 2], [26, 1], [27, 13], [27, 11], [27, 10], [27, 9], [27, 8], [27, 6], [27, 5], [27, 4], [27, 3], [27, 2], [27, 1], [28, 13], [28, 10], [28, 8], [28, 6], [28, 4], [28, 3], [28, 2], [28, 1], [29, 13], [29, 12], [29, 11], [29, 10], [29, 8], [29, 7], [29, 6], [29, 4], [29, 3], [29, 2], [29, 1]]\"));\n",
       "    window.GameModule.setPowerBeans(JSON.parse(\"[]\"));\n",
       "    "
      ],
      "text/plain": [
       "<IPython.core.display.Javascript object>"
      ]
     },
     "metadata": {},
     "output_type": "display_data"
    },
    {
     "data": {
      "application/javascript": [
       "window.GameModule.placePacman(465, 405, 1)"
      ],
      "text/plain": [
       "<IPython.core.display.Javascript object>"
      ]
     },
     "metadata": {},
     "output_type": "display_data"
    },
    {
     "data": {
      "application/javascript": [
       "window.GameModule.startGame()"
      ],
      "text/plain": [
       "<IPython.core.display.Javascript object>"
      ]
     },
     "metadata": {},
     "output_type": "display_data"
    },
    {
     "name": "stdout",
     "output_type": "stream",
     "text": [
      "Path found with cost 350.\n"
     ]
    },
    {
     "data": {
      "application/javascript": [
       "window.GameModule.placePacman(495, 405, 4)"
      ],
      "text/plain": [
       "<IPython.core.display.Javascript object>"
      ]
     },
     "metadata": {},
     "output_type": "display_data"
    },
    {
     "data": {
      "application/javascript": [
       "window.GameModule.removeBean(16, 13);"
      ],
      "text/plain": [
       "<IPython.core.display.Javascript object>"
      ]
     },
     "metadata": {},
     "output_type": "display_data"
    },
    {
     "data": {
      "application/javascript": [
       "window.GameModule.placePacman(525, 405, 4)"
      ],
      "text/plain": [
       "<IPython.core.display.Javascript object>"
      ]
     },
     "metadata": {},
     "output_type": "display_data"
    },
    {
     "data": {
      "application/javascript": [
       "window.GameModule.removeBean(17, 13);"
      ],
      "text/plain": [
       "<IPython.core.display.Javascript object>"
      ]
     },
     "metadata": {},
     "output_type": "display_data"
    },
    {
     "data": {
      "application/javascript": [
       "window.GameModule.placePacman(555, 405, 4)"
      ],
      "text/plain": [
       "<IPython.core.display.Javascript object>"
      ]
     },
     "metadata": {},
     "output_type": "display_data"
    },
    {
     "data": {
      "application/javascript": [
       "window.GameModule.removeBean(18, 13);"
      ],
      "text/plain": [
       "<IPython.core.display.Javascript object>"
      ]
     },
     "metadata": {},
     "output_type": "display_data"
    },
    {
     "data": {
      "application/javascript": [
       "window.GameModule.placePacman(585, 405, 4)"
      ],
      "text/plain": [
       "<IPython.core.display.Javascript object>"
      ]
     },
     "metadata": {},
     "output_type": "display_data"
    },
    {
     "data": {
      "application/javascript": [
       "window.GameModule.removeBean(19, 13);"
      ],
      "text/plain": [
       "<IPython.core.display.Javascript object>"
      ]
     },
     "metadata": {},
     "output_type": "display_data"
    },
    {
     "data": {
      "application/javascript": [
       "window.GameModule.placePacman(585, 375, 1)"
      ],
      "text/plain": [
       "<IPython.core.display.Javascript object>"
      ]
     },
     "metadata": {},
     "output_type": "display_data"
    },
    {
     "data": {
      "application/javascript": [
       "window.GameModule.removeBean(19, 12);"
      ],
      "text/plain": [
       "<IPython.core.display.Javascript object>"
      ]
     },
     "metadata": {},
     "output_type": "display_data"
    },
    {
     "data": {
      "application/javascript": [
       "window.GameModule.placePacman(585, 345, 1)"
      ],
      "text/plain": [
       "<IPython.core.display.Javascript object>"
      ]
     },
     "metadata": {},
     "output_type": "display_data"
    },
    {
     "data": {
      "application/javascript": [
       "window.GameModule.removeBean(19, 11);"
      ],
      "text/plain": [
       "<IPython.core.display.Javascript object>"
      ]
     },
     "metadata": {},
     "output_type": "display_data"
    },
    {
     "data": {
      "application/javascript": [
       "window.GameModule.placePacman(615, 345, 4)"
      ],
      "text/plain": [
       "<IPython.core.display.Javascript object>"
      ]
     },
     "metadata": {},
     "output_type": "display_data"
    },
    {
     "data": {
      "application/javascript": [
       "window.GameModule.removeBean(20, 11);"
      ],
      "text/plain": [
       "<IPython.core.display.Javascript object>"
      ]
     },
     "metadata": {},
     "output_type": "display_data"
    },
    {
     "data": {
      "application/javascript": [
       "window.GameModule.placePacman(645, 345, 4)"
      ],
      "text/plain": [
       "<IPython.core.display.Javascript object>"
      ]
     },
     "metadata": {},
     "output_type": "display_data"
    },
    {
     "data": {
      "application/javascript": [
       "window.GameModule.removeBean(21, 11);"
      ],
      "text/plain": [
       "<IPython.core.display.Javascript object>"
      ]
     },
     "metadata": {},
     "output_type": "display_data"
    },
    {
     "data": {
      "application/javascript": [
       "window.GameModule.placePacman(645, 315, 1)"
      ],
      "text/plain": [
       "<IPython.core.display.Javascript object>"
      ]
     },
     "metadata": {},
     "output_type": "display_data"
    },
    {
     "data": {
      "application/javascript": [
       "window.GameModule.removeBean(21, 10);"
      ],
      "text/plain": [
       "<IPython.core.display.Javascript object>"
      ]
     },
     "metadata": {},
     "output_type": "display_data"
    },
    {
     "data": {
      "application/javascript": [
       "window.GameModule.placePacman(645, 285, 1)"
      ],
      "text/plain": [
       "<IPython.core.display.Javascript object>"
      ]
     },
     "metadata": {},
     "output_type": "display_data"
    },
    {
     "data": {
      "application/javascript": [
       "window.GameModule.removeBean(21, 9);"
      ],
      "text/plain": [
       "<IPython.core.display.Javascript object>"
      ]
     },
     "metadata": {},
     "output_type": "display_data"
    },
    {
     "data": {
      "application/javascript": [
       "window.GameModule.placePacman(645, 255, 1)"
      ],
      "text/plain": [
       "<IPython.core.display.Javascript object>"
      ]
     },
     "metadata": {},
     "output_type": "display_data"
    },
    {
     "data": {
      "application/javascript": [
       "window.GameModule.removeBean(21, 8);"
      ],
      "text/plain": [
       "<IPython.core.display.Javascript object>"
      ]
     },
     "metadata": {},
     "output_type": "display_data"
    },
    {
     "data": {
      "application/javascript": [
       "window.GameModule.placePacman(645, 225, 1)"
      ],
      "text/plain": [
       "<IPython.core.display.Javascript object>"
      ]
     },
     "metadata": {},
     "output_type": "display_data"
    },
    {
     "data": {
      "application/javascript": [
       "window.GameModule.removeBean(21, 7);"
      ],
      "text/plain": [
       "<IPython.core.display.Javascript object>"
      ]
     },
     "metadata": {},
     "output_type": "display_data"
    },
    {
     "data": {
      "application/javascript": [
       "window.GameModule.placePacman(645, 195, 1)"
      ],
      "text/plain": [
       "<IPython.core.display.Javascript object>"
      ]
     },
     "metadata": {},
     "output_type": "display_data"
    },
    {
     "data": {
      "application/javascript": [
       "window.GameModule.removeBean(21, 6);"
      ],
      "text/plain": [
       "<IPython.core.display.Javascript object>"
      ]
     },
     "metadata": {},
     "output_type": "display_data"
    },
    {
     "data": {
      "application/javascript": [
       "window.GameModule.placePacman(645, 165, 1)"
      ],
      "text/plain": [
       "<IPython.core.display.Javascript object>"
      ]
     },
     "metadata": {},
     "output_type": "display_data"
    },
    {
     "data": {
      "application/javascript": [
       "window.GameModule.removeBean(21, 5);"
      ],
      "text/plain": [
       "<IPython.core.display.Javascript object>"
      ]
     },
     "metadata": {},
     "output_type": "display_data"
    },
    {
     "data": {
      "application/javascript": [
       "window.GameModule.placePacman(645, 135, 1)"
      ],
      "text/plain": [
       "<IPython.core.display.Javascript object>"
      ]
     },
     "metadata": {},
     "output_type": "display_data"
    },
    {
     "data": {
      "application/javascript": [
       "window.GameModule.removeBean(21, 4);"
      ],
      "text/plain": [
       "<IPython.core.display.Javascript object>"
      ]
     },
     "metadata": {},
     "output_type": "display_data"
    },
    {
     "data": {
      "application/javascript": [
       "window.GameModule.placePacman(645, 105, 1)"
      ],
      "text/plain": [
       "<IPython.core.display.Javascript object>"
      ]
     },
     "metadata": {},
     "output_type": "display_data"
    },
    {
     "data": {
      "application/javascript": [
       "window.GameModule.removeBean(21, 3);"
      ],
      "text/plain": [
       "<IPython.core.display.Javascript object>"
      ]
     },
     "metadata": {},
     "output_type": "display_data"
    },
    {
     "data": {
      "application/javascript": [
       "window.GameModule.placePacman(615, 105, 3)"
      ],
      "text/plain": [
       "<IPython.core.display.Javascript object>"
      ]
     },
     "metadata": {},
     "output_type": "display_data"
    },
    {
     "data": {
      "application/javascript": [
       "window.GameModule.removeBean(20, 3);"
      ],
      "text/plain": [
       "<IPython.core.display.Javascript object>"
      ]
     },
     "metadata": {},
     "output_type": "display_data"
    },
    {
     "data": {
      "application/javascript": [
       "window.GameModule.placePacman(585, 105, 3)"
      ],
      "text/plain": [
       "<IPython.core.display.Javascript object>"
      ]
     },
     "metadata": {},
     "output_type": "display_data"
    },
    {
     "data": {
      "application/javascript": [
       "window.GameModule.removeBean(19, 3);"
      ],
      "text/plain": [
       "<IPython.core.display.Javascript object>"
      ]
     },
     "metadata": {},
     "output_type": "display_data"
    },
    {
     "data": {
      "application/javascript": [
       "window.GameModule.placePacman(585, 75, 1)"
      ],
      "text/plain": [
       "<IPython.core.display.Javascript object>"
      ]
     },
     "metadata": {},
     "output_type": "display_data"
    },
    {
     "data": {
      "application/javascript": [
       "window.GameModule.removeBean(19, 2);"
      ],
      "text/plain": [
       "<IPython.core.display.Javascript object>"
      ]
     },
     "metadata": {},
     "output_type": "display_data"
    },
    {
     "data": {
      "application/javascript": [
       "window.GameModule.placePacman(585, 45, 1)"
      ],
      "text/plain": [
       "<IPython.core.display.Javascript object>"
      ]
     },
     "metadata": {},
     "output_type": "display_data"
    },
    {
     "data": {
      "application/javascript": [
       "window.GameModule.removeBean(19, 1);"
      ],
      "text/plain": [
       "<IPython.core.display.Javascript object>"
      ]
     },
     "metadata": {},
     "output_type": "display_data"
    },
    {
     "data": {
      "application/javascript": [
       "window.GameModule.placePacman(615, 45, 4)"
      ],
      "text/plain": [
       "<IPython.core.display.Javascript object>"
      ]
     },
     "metadata": {},
     "output_type": "display_data"
    },
    {
     "data": {
      "application/javascript": [
       "window.GameModule.removeBean(20, 1);"
      ],
      "text/plain": [
       "<IPython.core.display.Javascript object>"
      ]
     },
     "metadata": {},
     "output_type": "display_data"
    },
    {
     "data": {
      "application/javascript": [
       "window.GameModule.placePacman(645, 45, 4)"
      ],
      "text/plain": [
       "<IPython.core.display.Javascript object>"
      ]
     },
     "metadata": {},
     "output_type": "display_data"
    },
    {
     "data": {
      "application/javascript": [
       "window.GameModule.removeBean(21, 1);"
      ],
      "text/plain": [
       "<IPython.core.display.Javascript object>"
      ]
     },
     "metadata": {},
     "output_type": "display_data"
    },
    {
     "data": {
      "application/javascript": [
       "window.GameModule.placePacman(675, 45, 4)"
      ],
      "text/plain": [
       "<IPython.core.display.Javascript object>"
      ]
     },
     "metadata": {},
     "output_type": "display_data"
    },
    {
     "data": {
      "application/javascript": [
       "window.GameModule.removeBean(22, 1);"
      ],
      "text/plain": [
       "<IPython.core.display.Javascript object>"
      ]
     },
     "metadata": {},
     "output_type": "display_data"
    },
    {
     "data": {
      "application/javascript": [
       "window.GameModule.placePacman(705, 45, 4)"
      ],
      "text/plain": [
       "<IPython.core.display.Javascript object>"
      ]
     },
     "metadata": {},
     "output_type": "display_data"
    },
    {
     "data": {
      "application/javascript": [
       "window.GameModule.removeBean(23, 1);"
      ],
      "text/plain": [
       "<IPython.core.display.Javascript object>"
      ]
     },
     "metadata": {},
     "output_type": "display_data"
    },
    {
     "data": {
      "application/javascript": [
       "window.GameModule.placePacman(705, 75, 2)"
      ],
      "text/plain": [
       "<IPython.core.display.Javascript object>"
      ]
     },
     "metadata": {},
     "output_type": "display_data"
    },
    {
     "data": {
      "application/javascript": [
       "window.GameModule.removeBean(23, 2);"
      ],
      "text/plain": [
       "<IPython.core.display.Javascript object>"
      ]
     },
     "metadata": {},
     "output_type": "display_data"
    },
    {
     "data": {
      "application/javascript": [
       "window.GameModule.placePacman(705, 105, 2)"
      ],
      "text/plain": [
       "<IPython.core.display.Javascript object>"
      ]
     },
     "metadata": {},
     "output_type": "display_data"
    },
    {
     "data": {
      "application/javascript": [
       "window.GameModule.removeBean(23, 3);"
      ],
      "text/plain": [
       "<IPython.core.display.Javascript object>"
      ]
     },
     "metadata": {},
     "output_type": "display_data"
    },
    {
     "data": {
      "application/javascript": [
       "window.GameModule.placePacman(705, 135, 2)"
      ],
      "text/plain": [
       "<IPython.core.display.Javascript object>"
      ]
     },
     "metadata": {},
     "output_type": "display_data"
    },
    {
     "data": {
      "application/javascript": [
       "window.GameModule.removeBean(23, 4);"
      ],
      "text/plain": [
       "<IPython.core.display.Javascript object>"
      ]
     },
     "metadata": {},
     "output_type": "display_data"
    },
    {
     "data": {
      "application/javascript": [
       "window.GameModule.placePacman(705, 165, 2)"
      ],
      "text/plain": [
       "<IPython.core.display.Javascript object>"
      ]
     },
     "metadata": {},
     "output_type": "display_data"
    },
    {
     "data": {
      "application/javascript": [
       "window.GameModule.removeBean(23, 5);"
      ],
      "text/plain": [
       "<IPython.core.display.Javascript object>"
      ]
     },
     "metadata": {},
     "output_type": "display_data"
    },
    {
     "data": {
      "application/javascript": [
       "window.GameModule.placePacman(735, 165, 4)"
      ],
      "text/plain": [
       "<IPython.core.display.Javascript object>"
      ]
     },
     "metadata": {},
     "output_type": "display_data"
    },
    {
     "data": {
      "application/javascript": [
       "window.GameModule.removeBean(24, 5);"
      ],
      "text/plain": [
       "<IPython.core.display.Javascript object>"
      ]
     },
     "metadata": {},
     "output_type": "display_data"
    },
    {
     "data": {
      "application/javascript": [
       "window.GameModule.placePacman(765, 165, 4)"
      ],
      "text/plain": [
       "<IPython.core.display.Javascript object>"
      ]
     },
     "metadata": {},
     "output_type": "display_data"
    },
    {
     "data": {
      "application/javascript": [
       "window.GameModule.removeBean(25, 5);"
      ],
      "text/plain": [
       "<IPython.core.display.Javascript object>"
      ]
     },
     "metadata": {},
     "output_type": "display_data"
    }
   ],
   "source": [
    "sa = ClosestDotSearchAgent()\n",
    "gameDisplay = NotebookGraphics(sleep_time=0.2)  # visualization\n",
    "game = rules.newGame(layout.getLayout('bigSearch'), sa, [], gameDisplay, False, False)\n",
    "game.run()"
   ]
  },
  {
   "cell_type": "code",
   "execution_count": null,
   "metadata": {
    "collapsed": true
   },
   "outputs": [],
   "source": []
  },
  {
   "cell_type": "code",
   "execution_count": null,
   "metadata": {
    "collapsed": true
   },
   "outputs": [],
   "source": []
  }
 ],
 "metadata": {
  "kernelspec": {
   "display_name": "Python 2",
   "language": "python",
   "name": "python2"
  },
  "language_info": {
   "codemirror_mode": {
    "name": "ipython",
    "version": 2
   },
   "file_extension": ".py",
   "mimetype": "text/x-python",
   "name": "python",
   "nbconvert_exporter": "python",
   "pygments_lexer": "ipython2",
   "version": "2.7.9"
  },
  "name": "Assignment_3_search"
 },
 "nbformat": 4,
 "nbformat_minor": 0
}