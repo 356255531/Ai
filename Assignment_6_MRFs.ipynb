{
 "cells": [
  {
   "cell_type": "markdown",
   "metadata": {},
   "source": [
    "## Assignment 6 - Markov Random Fields"
   ]
  },
  {
   "cell_type": "markdown",
   "metadata": {},
   "source": [
    "In the last two assignment we are going to look at two additional techniques used in artificial intelligence and robotic systems. \n",
    "The first one are Markov Random Fields (MRF) in this assignment and second one is the Markov Decision Process (MDP) in the 7th one. \n",
    "\n",
    "Markov Random Fields are often used in situation where we know how the interaction between small groups of variables behaves. In other words, we use MRFs when we think that global variable configurations arise as a consequence of the interactions between smaller groups of variables. \n",
    "\n",
    "Just as in the assignment for Bayes Networks, here we will complete a class that represents a Markov Random Field.\n"
   ]
  },
  {
   "cell_type": "code",
   "execution_count": 3,
   "metadata": {
    "collapsed": false
   },
   "outputs": [
    {
     "data": {
      "application/javascript": [
       "IPython.notebook.set_autosave_interval(0)"
      ]
     },
     "metadata": {},
     "output_type": "display_data"
    },
    {
     "name": "stdout",
     "output_type": "stream",
     "text": [
      "Autosave disabled\n"
     ]
    }
   ],
   "source": [
    "%autosave 0\n",
    "import itertools\n",
    "import numpy as np\n",
    "from numpy import array\n",
    "\n",
    "\n",
    "class Mrf(object):\n",
    "\n",
    "    def __init__(self, domain, cliques):\n",
    "        ''' Domain: Values that the variables can take\n",
    "            Cliques: List of tuples (variables,potential_matrix) '''\n",
    "        self.domain = domain\n",
    "        self.cliques = cliques\n",
    "        self.variables = set()\n",
    "        for vs, matrix in cliques:\n",
    "            self.variables.update(vs)\n",
    "\n",
    "    def get_potential(self, configuration):\n",
    "        ''' Return the potential (unnormalized) of the given variable configuration)'''\n",
    "        potential = 1\n",
    "        for i in self.cliques:\n",
    "            variables = list(i)[0]\n",
    "            values = [configuration[j] for j in variables]\n",
    "            potential *= list(i)[1][tuple(values)]\n",
    "        return potential\n",
    "\n",
    "    def get_configurations(self):\n",
    "        ''' Returns a list of dicts with all possible variable configurations '''\n",
    "        configurations = []\n",
    "        for values in itertools.product(self.domain, repeat=len(self.variables)):\n",
    "            configurations.append(dict(zip(self.variables, values)))\n",
    "\n",
    "        return configurations\n",
    "\n",
    "    def compute_Z(self):\n",
    "        ''' Return the normalization constant'''\n",
    "        configurations = self.get_configurations()\n",
    "        z = 0\n",
    "        for i in configurations:\n",
    "            potential = self.get_potential(i)\n",
    "            z += potential\n",
    "        return z\n",
    "\n",
    "    def argmax(self):\n",
    "        '''Return a dict with a most likely configuration and its unnormalized potential'''\n",
    "        configurations = self.get_configurations()\n",
    "        largestPotential = 0\n",
    "        for i in configurations:\n",
    "            potential = self.get_potential(i)\n",
    "            if potential > largestPotential:\n",
    "                largestPotential = potential\n",
    "                MostLikelyConfigurations = i\n",
    "        return MostLikelyConfigurations, largestPotential"
   ]
  },
  {
   "cell_type": "markdown",
   "metadata": {},
   "source": [
    "To create the MRF we need to give two arguments. \n",
    "1. We need to specify the domain of the variables, which for our purposes will be [0, 1]\n",
    "2. Define the clique functions. In our case, the clique functions will be only over one or two variables, so they can be modelled easily with a 1x2 or 2x2 arrays. "
   ]
  },
  {
   "cell_type": "code",
   "execution_count": 4,
   "metadata": {
    "collapsed": false
   },
   "outputs": [],
   "source": [
    "# Example with only two unary potentials and one pairwise potential (in practice you will have many)\n",
    "domain = [0, 1]\n",
    "\n",
    "# Unary potential on v1\n",
    "variables_unary_v1 = array((1, ))\n",
    "potential_unary_v1 = array((0.1, 0.8))  # the state 0 has a potential of 0.1, state 1 has a potential of 0.8\n",
    "variables_unary_v2 = array((2, ))\n",
    "potential_unary_v2 = array((0.3, 0.6))  # the state 0 has a potential of 0.3, state 1 has a potential of 0.6\n",
    "\n",
    "# Pairwise potential\n",
    "variables_pairwise = array([1, 2])  # A potential over variables 1 and 2\n",
    "potential_pairwise = array([[1, 0],\n",
    "                            [0, 1]])  # States where v1 and v2 are equal have a potential of 1, else 0\n",
    "\n",
    "# Create the Mrf\n",
    "my_mrf = Mrf(domain, [(variables_unary_v1, potential_unary_v1),\n",
    "                      (variables_unary_v2, potential_unary_v2),\n",
    "                      (variables_pairwise, potential_pairwise)])"
   ]
  },
  {
   "cell_type": "code",
   "execution_count": 5,
   "metadata": {
    "collapsed": false
   },
   "outputs": [
    {
     "name": "stdout",
     "output_type": "stream",
     "text": [
      "1\n"
     ]
    }
   ],
   "source": [
    "# Notice that we used numpy arrays to create the potentials, this allows us to use easy indexing with tuples\n",
    "matrix_position = (1, 1)\n",
    "print potential_pairwise[matrix_position]\n"
   ]
  },
  {
   "cell_type": "markdown",
   "metadata": {},
   "source": [
    "### Exercise 1: Implement the `get_potential` method of the `Mrf` class\n",
    "\n",
    "Use the definition of Markov Random Fields to compute the total potential that is associated to an assignment (configuration) of the variables. For this you can ignore the normalization constant $Z$.\n",
    "\n",
    "The input will be a configuration (see below: my_configuration) of the variables in form of a dictionary, and the output will be the numeric value of the potential:"
   ]
  },
  {
   "cell_type": "code",
   "execution_count": 6,
   "metadata": {
    "collapsed": false
   },
   "outputs": [
    {
     "name": "stdout",
     "output_type": "stream",
     "text": [
      "0.48\n"
     ]
    }
   ],
   "source": [
    "# uncomment this code when you have implemented the method\n",
    "\n",
    "my_configuration = {1: 1, 2: 1, 3: 1, 4: 0}  # Assuming we have 4 variables\n",
    "potential = my_mrf.get_potential(my_configuration)\n",
    "print potential\n"
   ]
  },
  {
   "cell_type": "markdown",
   "metadata": {},
   "source": [
    "### Exercise 2: Implement the `argmax` method"
   ]
  },
  {
   "cell_type": "markdown",
   "metadata": {},
   "source": [
    "If you solved the previous exercise, you can compute potentials from the MRF. \n",
    "Now you can compute the most likely state. \n",
    "This method should return the configuration where the argmax is achieved, and the numeric value of the potential. "
   ]
  },
  {
   "cell_type": "code",
   "execution_count": 7,
   "metadata": {
    "collapsed": false
   },
   "outputs": [
    {
     "name": "stdout",
     "output_type": "stream",
     "text": [
      "{1: 1, 2: 1} 0.48\n"
     ]
    }
   ],
   "source": [
    "# uncomment this code when you have implemented the method\n",
    "\n",
    "configuration, value = my_mrf.argmax()\n",
    "print configuration, value\n"
   ]
  },
  {
   "cell_type": "markdown",
   "metadata": {},
   "source": [
    "**Hint**: The `get_configurations` method returns a list of dicts with all possible variable configurations. This can be used to iterate over all possible variable configurations."
   ]
  },
  {
   "cell_type": "markdown",
   "metadata": {},
   "source": [
    "### Exercise 3: Implement the `compute_Z` method\n",
    "\n",
    "The normalization constant Z is needed to compute actual probabilities from the MRF. \n",
    "Complete this method, which takes no arguments."
   ]
  },
  {
   "cell_type": "code",
   "execution_count": 8,
   "metadata": {
    "collapsed": false
   },
   "outputs": [
    {
     "name": "stdout",
     "output_type": "stream",
     "text": [
      "0.51\n"
     ]
    }
   ],
   "source": [
    "# uncomment this code when you have implemented the method\n",
    "\n",
    "Z = my_mrf.compute_Z()\n",
    "print Z\n"
   ]
  },
  {
   "cell_type": "markdown",
   "metadata": {},
   "source": [
    "## Line-scan model"
   ]
  },
  {
   "cell_type": "markdown",
   "metadata": {},
   "source": [
    "One of the classical examples of MRF is the image denoising task. MRFs are widely used in Computer Vision and 3D perception, although they are used to model a variety of tasks: modeling spatial relations between objects, the segmentation of image parts into different classes, stitching multiple images together (panorama mode), etc. \n",
    "\n",
    "In this tiny example, you have a binary digital line-scan camera, i.e. a camera that scans in only one row of pixels. However, this scan is a bit noisy, and we want to correct it. We associate **one variable to each pixel**. The input to the MRF is the image that was registered by the camera. The output represents the restored (denoised) image. "
   ]
  },
  {
   "cell_type": "markdown",
   "metadata": {},
   "source": [
    "###Model\n",
    "\n",
    "We will have two types of potentials, unary and pairwise/binary. The unaries will model our belief in the sensor measurement (ON/OFF) and the pairwise potentials will model our belief that neighbouring pixels take similar values. \n",
    "\n",
    "\n",
    "`unaries_on`: the potentials for pixels that are registered as on (1x2 array)\n",
    "\n",
    "`unaries_off`: the potentials for pixels that are registered as off (1x2 array)\n",
    "\n",
    "`pairwise`: the potential for the 4 possibilities of pairwise configurations (2x2 array)\n",
    "\n"
   ]
  },
  {
   "cell_type": "markdown",
   "metadata": {},
   "source": [
    "### Exercise 4: Build the MRF "
   ]
  },
  {
   "cell_type": "markdown",
   "metadata": {},
   "source": [
    "Complete the following function that constructs the MRF for the single image. Your input will be a `row`, a list of (0,1) representing the measurement from the camera and the potential functions required to construct the MRF."
   ]
  },
  {
   "cell_type": "code",
   "execution_count": 9,
   "metadata": {
    "collapsed": false
   },
   "outputs": [],
   "source": [
    "def build_line_scan_mrf(row, unary_on, unary_off, pairwise):\n",
    "    '''Returns and MRF for the described model and the observed row of pixels'''\n",
    "    unaries = []\n",
    "    count = 0\n",
    "    for i in row:\n",
    "        if i == 1:\n",
    "            unaries.append((array((count, )), unary_on))\n",
    "        else:\n",
    "            unaries.append((array((count, )), unary_off))\n",
    "        count += 1\n",
    "    pairwise_cliques = []\n",
    "    for i in xrange(len(row)):\n",
    "        if i == 0:\n",
    "            continue\n",
    "        pairwise_cliques.append((array([i - 1, i]), pairwise))\n",
    "    print pairwise_cliques\n",
    "    print unaries\n",
    "    return Mrf([0, 1], pairwise_cliques + unaries)\n"
   ]
  },
  {
   "cell_type": "markdown",
   "metadata": {},
   "source": [
    "You can do some basic checks:\n",
    "\n",
    "- If the unaries are very strong in comparison to the pairwise interaction, the output should equal the input\n",
    "- If pairwise interactions are much stronger than the unaries, the output should be independent of the input"
   ]
  },
  {
   "cell_type": "markdown",
   "metadata": {},
   "source": [
    "#### Visualization utiliy\n",
    "\n",
    "To see the input/output of the MRF you can use the following utility functions. This can be useful to see the result of the argmax method. "
   ]
  },
  {
   "cell_type": "code",
   "execution_count": 10,
   "metadata": {
    "collapsed": false
   },
   "outputs": [],
   "source": [
    "%matplotlib inline\n",
    "from matplotlib import pyplot as plt\n",
    "\n",
    "\n",
    "def view_row(row):\n",
    "    ''' Displays the row. If called multiple calls in a single cell it only displays last call'''\n",
    "    img = array([row])\n",
    "    plt.imshow(img, interpolation='nearest', cmap='hot')\n",
    "\n",
    "\n",
    "def configuration2row(configuration):\n",
    "    ''' Convert from a configuration in the mrf to the image row'''\n",
    "    row = [0] * len(configuration.items())\n",
    "    for pos, value in configuration.items():\n",
    "        row[pos] = value\n",
    "\n",
    "    return row\n"
   ]
  },
  {
   "cell_type": "code",
   "execution_count": 11,
   "metadata": {
    "collapsed": false
   },
   "outputs": [
    {
     "name": "stdout",
     "output_type": "stream",
     "text": [
      "[1, 1, 1, 0, 1, 0, 0]\n"
     ]
    },
    {
     "data": {
      "image/png": "[encoded data removed]",
      "text/plain": [
       "<matplotlib.figure.Figure at 0x7fd6b0e25550>"
      ]
     },
     "metadata": {},
     "output_type": "display_data"
    }
   ],
   "source": [
    "some_configuration = {0: 1, 1: 1, 2: 1, 3: 0, 4: 1, 5: 0, 6: 0}\n",
    "row = configuration2row(some_configuration)\n",
    "print(row)\n",
    "view_row(row)\n"
   ]
  },
  {
   "cell_type": "markdown",
   "metadata": {},
   "source": [
    "## Excercise 5: Questions"
   ]
  },
  {
   "cell_type": "markdown",
   "metadata": {},
   "source": [
    "Experiment with the MRF class and complete the function below!"
   ]
  },
  {
   "cell_type": "code",
   "execution_count": 14,
   "metadata": {
    "collapsed": false
   },
   "outputs": [
    {
     "name": "stdout",
     "output_type": "stream",
     "text": [
      "[(array([0, 1]), array([[ 0, 10],\n",
      "       [10,  0]])), (array([1, 2]), array([[ 0, 10],\n",
      "       [10,  0]])), (array([2, 3]), array([[ 0, 10],\n",
      "       [10,  0]])), (array([3, 4]), array([[ 0, 10],\n",
      "       [10,  0]])), (array([4, 5]), array([[ 0, 10],\n",
      "       [10,  0]])), (array([5, 6]), array([[ 0, 10],\n",
      "       [10,  0]])), (array([6, 7]), array([[ 0, 10],\n",
      "       [10,  0]])), (array([7, 8]), array([[ 0, 10],\n",
      "       [10,  0]])), (array([8, 9]), array([[ 0, 10],\n",
      "       [10,  0]])), (array([ 9, 10]), array([[ 0, 10],\n",
      "       [10,  0]]))]\n",
      "[(array([0]), array([2, 1])), (array([1]), array([2, 1])), (array([2]), array([2, 1])), (array([3]), array([2, 1])), (array([4]), array([2, 1])), (array([5]), array([1, 3])), (array([6]), array([2, 1])), (array([7]), array([2, 1])), (array([8]), array([2, 1])), (array([9]), array([2, 1])), (array([10]), array([2, 1]))]\n"
     ]
    },
    {
     "data": {
      "image/png": "[encoded data removed]",
      "text/plain": [
       "<matplotlib.figure.Figure at 0x7fd698c5f290>"
      ]
     },
     "metadata": {},
     "output_type": "display_data"
    }
   ],
   "source": [
    "# Change this code as you wish\n",
    "\n",
    "row = [0,0,0,0,0,1,0,0,0,0,0]\n",
    "\n",
    "unary_on = array([1,3])\n",
    "unary_off = array([2,1])\n",
    "pairwise=array([[0,10],[10,0]])\n",
    "\n",
    "mrf = build_line_scan_mrf(row, unary_on, unary_off, pairwise)\n",
    "am, value = mrf.argmax()\n",
    "view_row(configuration2row(am))\n"
   ]
  },
  {
   "cell_type": "code",
   "execution_count": 13,
   "metadata": {
    "collapsed": false
   },
   "outputs": [],
   "source": [
    "def short_questions():\n",
    "    '''Return the truth value for the following statements about the pairwise interaction array:\n",
    "\n",
    "    1. High values in the diagonal of the pairwise interaction array encourage uniform solutions \n",
    "        ([1 1 1 1] or [0 0 0 0])\n",
    "    2. High values in the entries outside of the diagonal of the pairwise interaction array encourage \n",
    "        alternating solutions\n",
    "    3. If all entries of a potential matrix are the same and this is the only type of potential in the MRF, \n",
    "        the output will be equal to the input.\n",
    "    If the domain of the variables were discrete with K values (instead of binary)\n",
    "        4. The interaction matrices should be of size K x K\n",
    "        5. The interaction matrices should be of size 2 x 2 x ... x 2 x 2 (K times)\n",
    "    If we had interactions over N variables (instead of two) (but still binary domain)\n",
    "        6. The interaction matrices should be of size 2 x 2 x ... x 2 x 2 (N times)\n",
    "        7. The interaction matrices should be of size N x N\n",
    "\n",
    "    '''\n",
    "\n",
    "    answer = [True, True, True, True, False, True, False]  # e.g [True,False,False,False,False,False,False] if you believe that all statements but\n",
    "    # the first one are False.\n",
    "    return answer\n"
   ]
  },
  {
   "cell_type": "code",
   "execution_count": null,
   "metadata": {
    "collapsed": true
   },
   "outputs": [],
   "source": []
  }
 ],
 "metadata": {
  "kernelspec": {
   "display_name": "Python 2",
   "language": "python",
   "name": "python2"
  },
  "language_info": {
   "codemirror_mode": {
    "name": "ipython",
    "version": 2
   },
   "file_extension": ".py",
   "mimetype": "text/x-python",
   "name": "python",
   "nbconvert_exporter": "python",
   "pygments_lexer": "ipython2",
   "version": "2.7.9"
  },
  "name": "Assignment_6_MRFs"
 },
 "nbformat": 4,
 "nbformat_minor": 0
}